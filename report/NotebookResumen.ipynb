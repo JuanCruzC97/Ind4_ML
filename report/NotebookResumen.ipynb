{
 "cells": [
  {
   "cell_type": "markdown",
   "metadata": {
    "id": "5oOk0_yTUTHX"
   },
   "source": [
    "# Paquetes"
   ]
  },
  {
   "cell_type": "code",
   "execution_count": 1,
   "metadata": {
    "id": "tAcXEPE5SXCa"
   },
   "outputs": [],
   "source": [
    "import pandas as pd\n",
    "import numpy as np\n",
    "import matplotlib.pyplot as plt\n",
    "import seaborn as sns"
   ]
  },
  {
   "cell_type": "markdown",
   "metadata": {
    "id": "OIXNo2oBwmX1"
   },
   "source": [
    "# Dataset"
   ]
  },
  {
   "cell_type": "code",
   "execution_count": 2,
   "metadata": {
    "colab": {
     "base_uri": "https://localhost:8080/",
     "height": 224
    },
    "id": "PJlojw2mUQKu",
    "outputId": "7de1ae99-5de7-4182-87c9-77e7aced4705"
   },
   "outputs": [
    {
     "data": {
      "text/html": [
       "<div>\n",
       "<style scoped>\n",
       "    .dataframe tbody tr th:only-of-type {\n",
       "        vertical-align: middle;\n",
       "    }\n",
       "\n",
       "    .dataframe tbody tr th {\n",
       "        vertical-align: top;\n",
       "    }\n",
       "\n",
       "    .dataframe thead th {\n",
       "        text-align: right;\n",
       "    }\n",
       "</style>\n",
       "<table border=\"1\" class=\"dataframe\">\n",
       "  <thead>\n",
       "    <tr style=\"text-align: right;\">\n",
       "      <th></th>\n",
       "      <th>Age</th>\n",
       "      <th>Job</th>\n",
       "      <th>Marital Status</th>\n",
       "      <th>Education</th>\n",
       "      <th>Credit</th>\n",
       "      <th>Balance (euros)</th>\n",
       "      <th>Housing Loan</th>\n",
       "      <th>Personal Loan</th>\n",
       "      <th>Contact</th>\n",
       "      <th>Last Contact Day</th>\n",
       "      <th>Last Contact Month</th>\n",
       "      <th>Last Contact Duration</th>\n",
       "      <th>Campaign</th>\n",
       "      <th>Pdays</th>\n",
       "      <th>Previous</th>\n",
       "      <th>Poutcome</th>\n",
       "      <th>Subscription</th>\n",
       "    </tr>\n",
       "  </thead>\n",
       "  <tbody>\n",
       "    <tr>\n",
       "      <th>0</th>\n",
       "      <td>58</td>\n",
       "      <td>management</td>\n",
       "      <td>married</td>\n",
       "      <td>tertiary</td>\n",
       "      <td>no</td>\n",
       "      <td>2143</td>\n",
       "      <td>yes</td>\n",
       "      <td>no</td>\n",
       "      <td>unknown</td>\n",
       "      <td>5</td>\n",
       "      <td>may</td>\n",
       "      <td>261</td>\n",
       "      <td>1</td>\n",
       "      <td>-1</td>\n",
       "      <td>0</td>\n",
       "      <td>unknown</td>\n",
       "      <td>1</td>\n",
       "    </tr>\n",
       "    <tr>\n",
       "      <th>1</th>\n",
       "      <td>44</td>\n",
       "      <td>technician</td>\n",
       "      <td>single</td>\n",
       "      <td>secondary</td>\n",
       "      <td>no</td>\n",
       "      <td>29</td>\n",
       "      <td>yes</td>\n",
       "      <td>no</td>\n",
       "      <td>unknown</td>\n",
       "      <td>5</td>\n",
       "      <td>may</td>\n",
       "      <td>151</td>\n",
       "      <td>1</td>\n",
       "      <td>-1</td>\n",
       "      <td>0</td>\n",
       "      <td>unknown</td>\n",
       "      <td>1</td>\n",
       "    </tr>\n",
       "    <tr>\n",
       "      <th>2</th>\n",
       "      <td>33</td>\n",
       "      <td>entrepreneur</td>\n",
       "      <td>married</td>\n",
       "      <td>secondary</td>\n",
       "      <td>no</td>\n",
       "      <td>2</td>\n",
       "      <td>yes</td>\n",
       "      <td>yes</td>\n",
       "      <td>unknown</td>\n",
       "      <td>5</td>\n",
       "      <td>may</td>\n",
       "      <td>76</td>\n",
       "      <td>1</td>\n",
       "      <td>-1</td>\n",
       "      <td>0</td>\n",
       "      <td>unknown</td>\n",
       "      <td>1</td>\n",
       "    </tr>\n",
       "    <tr>\n",
       "      <th>3</th>\n",
       "      <td>47</td>\n",
       "      <td>blue-collar</td>\n",
       "      <td>married</td>\n",
       "      <td>unknown</td>\n",
       "      <td>no</td>\n",
       "      <td>1506</td>\n",
       "      <td>yes</td>\n",
       "      <td>no</td>\n",
       "      <td>unknown</td>\n",
       "      <td>5</td>\n",
       "      <td>may</td>\n",
       "      <td>92</td>\n",
       "      <td>1</td>\n",
       "      <td>-1</td>\n",
       "      <td>0</td>\n",
       "      <td>unknown</td>\n",
       "      <td>1</td>\n",
       "    </tr>\n",
       "    <tr>\n",
       "      <th>4</th>\n",
       "      <td>33</td>\n",
       "      <td>unknown</td>\n",
       "      <td>single</td>\n",
       "      <td>unknown</td>\n",
       "      <td>no</td>\n",
       "      <td>1</td>\n",
       "      <td>no</td>\n",
       "      <td>no</td>\n",
       "      <td>unknown</td>\n",
       "      <td>5</td>\n",
       "      <td>may</td>\n",
       "      <td>198</td>\n",
       "      <td>1</td>\n",
       "      <td>-1</td>\n",
       "      <td>0</td>\n",
       "      <td>unknown</td>\n",
       "      <td>1</td>\n",
       "    </tr>\n",
       "  </tbody>\n",
       "</table>\n",
       "</div>"
      ],
      "text/plain": [
       "   Age           Job Marital Status  Education Credit  Balance (euros)  \\\n",
       "0   58    management        married   tertiary     no             2143   \n",
       "1   44    technician         single  secondary     no               29   \n",
       "2   33  entrepreneur        married  secondary     no                2   \n",
       "3   47   blue-collar        married    unknown     no             1506   \n",
       "4   33       unknown         single    unknown     no                1   \n",
       "\n",
       "  Housing Loan Personal Loan  Contact  Last Contact Day Last Contact Month  \\\n",
       "0          yes            no  unknown                 5                may   \n",
       "1          yes            no  unknown                 5                may   \n",
       "2          yes           yes  unknown                 5                may   \n",
       "3          yes            no  unknown                 5                may   \n",
       "4           no            no  unknown                 5                may   \n",
       "\n",
       "   Last Contact Duration  Campaign  Pdays  Previous Poutcome  Subscription  \n",
       "0                    261         1     -1         0  unknown             1  \n",
       "1                    151         1     -1         0  unknown             1  \n",
       "2                     76         1     -1         0  unknown             1  \n",
       "3                     92         1     -1         0  unknown             1  \n",
       "4                    198         1     -1         0  unknown             1  "
      ]
     },
     "execution_count": 2,
     "metadata": {},
     "output_type": "execute_result"
    }
   ],
   "source": [
    "data = pd.read_csv(\"data/Bank Marketing.csv\", sep=';')\n",
    "data.head()"
   ]
  },
  {
   "cell_type": "code",
   "execution_count": 3,
   "metadata": {
    "colab": {
     "base_uri": "https://localhost:8080/"
    },
    "id": "yTzAE6riUxC4",
    "outputId": "08a3a498-e85a-43ac-a129-16b0f3a371a1"
   },
   "outputs": [
    {
     "data": {
      "text/plain": [
       "(45211, 17)"
      ]
     },
     "execution_count": 3,
     "metadata": {},
     "output_type": "execute_result"
    }
   ],
   "source": [
    "# Dimensión del dataset de trabajo.\n",
    "data.shape"
   ]
  },
  {
   "cell_type": "code",
   "execution_count": 4,
   "metadata": {
    "colab": {
     "base_uri": "https://localhost:8080/"
    },
    "id": "e6oetVYuWzNp",
    "outputId": "21545cf1-00dd-413e-cdd6-8d8373f81abc"
   },
   "outputs": [
    {
     "name": "stdout",
     "output_type": "stream",
     "text": [
      "<class 'pandas.core.frame.DataFrame'>\n",
      "RangeIndex: 45211 entries, 0 to 45210\n",
      "Data columns (total 17 columns):\n",
      " #   Column                 Non-Null Count  Dtype \n",
      "---  ------                 --------------  ----- \n",
      " 0   Age                    45211 non-null  int64 \n",
      " 1   Job                    45211 non-null  object\n",
      " 2   Marital Status         45211 non-null  object\n",
      " 3   Education              45211 non-null  object\n",
      " 4   Credit                 45211 non-null  object\n",
      " 5   Balance (euros)        45211 non-null  int64 \n",
      " 6   Housing Loan           45211 non-null  object\n",
      " 7   Personal Loan          45211 non-null  object\n",
      " 8   Contact                45211 non-null  object\n",
      " 9   Last Contact Day       45211 non-null  int64 \n",
      " 10  Last Contact Month     45211 non-null  object\n",
      " 11  Last Contact Duration  45211 non-null  int64 \n",
      " 12  Campaign               45211 non-null  int64 \n",
      " 13  Pdays                  45211 non-null  int64 \n",
      " 14  Previous               45211 non-null  int64 \n",
      " 15  Poutcome               45211 non-null  object\n",
      " 16  Subscription           45211 non-null  int64 \n",
      "dtypes: int64(8), object(9)\n",
      "memory usage: 5.9+ MB\n"
     ]
    }
   ],
   "source": [
    "# Vemos los diferentes tipos de variables del dataset.\n",
    "data.info()"
   ]
  },
  {
   "cell_type": "code",
   "execution_count": 5,
   "metadata": {
    "colab": {
     "base_uri": "https://localhost:8080/",
     "height": 300
    },
    "id": "nNWMCzaXXnjm",
    "outputId": "866dafe1-c189-4f09-ef60-a89c392a58b4"
   },
   "outputs": [
    {
     "data": {
      "text/html": [
       "<div>\n",
       "<style scoped>\n",
       "    .dataframe tbody tr th:only-of-type {\n",
       "        vertical-align: middle;\n",
       "    }\n",
       "\n",
       "    .dataframe tbody tr th {\n",
       "        vertical-align: top;\n",
       "    }\n",
       "\n",
       "    .dataframe thead th {\n",
       "        text-align: right;\n",
       "    }\n",
       "</style>\n",
       "<table border=\"1\" class=\"dataframe\">\n",
       "  <thead>\n",
       "    <tr style=\"text-align: right;\">\n",
       "      <th></th>\n",
       "      <th>count</th>\n",
       "      <th>mean</th>\n",
       "      <th>std</th>\n",
       "      <th>min</th>\n",
       "      <th>25%</th>\n",
       "      <th>50%</th>\n",
       "      <th>75%</th>\n",
       "      <th>max</th>\n",
       "    </tr>\n",
       "  </thead>\n",
       "  <tbody>\n",
       "    <tr>\n",
       "      <th>Age</th>\n",
       "      <td>45211.0</td>\n",
       "      <td>40.936210</td>\n",
       "      <td>10.618762</td>\n",
       "      <td>18.0</td>\n",
       "      <td>33.0</td>\n",
       "      <td>39.0</td>\n",
       "      <td>48.0</td>\n",
       "      <td>95.0</td>\n",
       "    </tr>\n",
       "    <tr>\n",
       "      <th>Balance (euros)</th>\n",
       "      <td>45211.0</td>\n",
       "      <td>1362.272058</td>\n",
       "      <td>3044.765829</td>\n",
       "      <td>-8019.0</td>\n",
       "      <td>72.0</td>\n",
       "      <td>448.0</td>\n",
       "      <td>1428.0</td>\n",
       "      <td>102127.0</td>\n",
       "    </tr>\n",
       "    <tr>\n",
       "      <th>Last Contact Day</th>\n",
       "      <td>45211.0</td>\n",
       "      <td>15.806419</td>\n",
       "      <td>8.322476</td>\n",
       "      <td>1.0</td>\n",
       "      <td>8.0</td>\n",
       "      <td>16.0</td>\n",
       "      <td>21.0</td>\n",
       "      <td>31.0</td>\n",
       "    </tr>\n",
       "    <tr>\n",
       "      <th>Last Contact Duration</th>\n",
       "      <td>45211.0</td>\n",
       "      <td>258.163080</td>\n",
       "      <td>257.527812</td>\n",
       "      <td>0.0</td>\n",
       "      <td>103.0</td>\n",
       "      <td>180.0</td>\n",
       "      <td>319.0</td>\n",
       "      <td>4918.0</td>\n",
       "    </tr>\n",
       "    <tr>\n",
       "      <th>Campaign</th>\n",
       "      <td>45211.0</td>\n",
       "      <td>2.763841</td>\n",
       "      <td>3.098021</td>\n",
       "      <td>1.0</td>\n",
       "      <td>1.0</td>\n",
       "      <td>2.0</td>\n",
       "      <td>3.0</td>\n",
       "      <td>63.0</td>\n",
       "    </tr>\n",
       "    <tr>\n",
       "      <th>Pdays</th>\n",
       "      <td>45211.0</td>\n",
       "      <td>40.197828</td>\n",
       "      <td>100.128746</td>\n",
       "      <td>-1.0</td>\n",
       "      <td>-1.0</td>\n",
       "      <td>-1.0</td>\n",
       "      <td>-1.0</td>\n",
       "      <td>871.0</td>\n",
       "    </tr>\n",
       "    <tr>\n",
       "      <th>Previous</th>\n",
       "      <td>45211.0</td>\n",
       "      <td>0.580323</td>\n",
       "      <td>2.303441</td>\n",
       "      <td>0.0</td>\n",
       "      <td>0.0</td>\n",
       "      <td>0.0</td>\n",
       "      <td>0.0</td>\n",
       "      <td>275.0</td>\n",
       "    </tr>\n",
       "    <tr>\n",
       "      <th>Subscription</th>\n",
       "      <td>45211.0</td>\n",
       "      <td>1.116985</td>\n",
       "      <td>0.321406</td>\n",
       "      <td>1.0</td>\n",
       "      <td>1.0</td>\n",
       "      <td>1.0</td>\n",
       "      <td>1.0</td>\n",
       "      <td>2.0</td>\n",
       "    </tr>\n",
       "  </tbody>\n",
       "</table>\n",
       "</div>"
      ],
      "text/plain": [
       "                         count         mean          std     min    25%  \\\n",
       "Age                    45211.0    40.936210    10.618762    18.0   33.0   \n",
       "Balance (euros)        45211.0  1362.272058  3044.765829 -8019.0   72.0   \n",
       "Last Contact Day       45211.0    15.806419     8.322476     1.0    8.0   \n",
       "Last Contact Duration  45211.0   258.163080   257.527812     0.0  103.0   \n",
       "Campaign               45211.0     2.763841     3.098021     1.0    1.0   \n",
       "Pdays                  45211.0    40.197828   100.128746    -1.0   -1.0   \n",
       "Previous               45211.0     0.580323     2.303441     0.0    0.0   \n",
       "Subscription           45211.0     1.116985     0.321406     1.0    1.0   \n",
       "\n",
       "                         50%     75%       max  \n",
       "Age                     39.0    48.0      95.0  \n",
       "Balance (euros)        448.0  1428.0  102127.0  \n",
       "Last Contact Day        16.0    21.0      31.0  \n",
       "Last Contact Duration  180.0   319.0    4918.0  \n",
       "Campaign                 2.0     3.0      63.0  \n",
       "Pdays                   -1.0    -1.0     871.0  \n",
       "Previous                 0.0     0.0     275.0  \n",
       "Subscription             1.0     1.0       2.0  "
      ]
     },
     "execution_count": 5,
     "metadata": {},
     "output_type": "execute_result"
    }
   ],
   "source": [
    "# Vemos la distribución de las variables numércias.\n",
    "data.describe().transpose()"
   ]
  },
  {
   "cell_type": "code",
   "execution_count": 6,
   "metadata": {
    "id": "aIRWzTr0YLaC"
   },
   "outputs": [],
   "source": [
    "# Corregimos las clases de la variable respuesta.\n",
    "data[\"Subscription\"] = data['Subscription'].map({2:1, 1:0})"
   ]
  },
  {
   "cell_type": "markdown",
   "metadata": {
    "id": "fqdiF_aI28n9"
   },
   "source": [
    "Vemos que tenemos una variable a predecir con clases bastante desbalanceadas."
   ]
  },
  {
   "cell_type": "code",
   "execution_count": 7,
   "metadata": {
    "colab": {
     "base_uri": "https://localhost:8080/"
    },
    "id": "9bMh2SqlY3YR",
    "outputId": "088ca782-4ca4-42ee-daad-d22fe6e431c8"
   },
   "outputs": [
    {
     "data": {
      "text/plain": [
       "0    39922\n",
       "1     5289\n",
       "Name: Subscription, dtype: int64"
      ]
     },
     "execution_count": 7,
     "metadata": {},
     "output_type": "execute_result"
    }
   ],
   "source": [
    "# Vemos la distribución de las clases de la variable respuesta.\n",
    "data[\"Subscription\"].value_counts()"
   ]
  },
  {
   "cell_type": "markdown",
   "metadata": {
    "id": "gGLKI2zKZM1C"
   },
   "source": [
    "# Preguntas (punto 1)"
   ]
  },
  {
   "cell_type": "code",
   "execution_count": 8,
   "metadata": {
    "colab": {
     "base_uri": "https://localhost:8080/"
    },
    "id": "73ygZeMJZPRc",
    "outputId": "aeb5a685-a060-4101-e9b2-c2df51d182a2"
   },
   "outputs": [
    {
     "data": {
      "text/plain": [
       "(45211, 17)"
      ]
     },
     "execution_count": 8,
     "metadata": {},
     "output_type": "execute_result"
    }
   ],
   "source": [
    "# Cantidad de filas y columnas.\n",
    "data.shape"
   ]
  },
  {
   "cell_type": "code",
   "execution_count": 9,
   "metadata": {
    "colab": {
     "base_uri": "https://localhost:8080/"
    },
    "id": "HRu1W__HZUUi",
    "outputId": "1e5a22df-2132-44d0-9451-0a9884291ee6"
   },
   "outputs": [
    {
     "name": "stdout",
     "output_type": "stream",
     "text": [
      "<class 'pandas.core.frame.DataFrame'>\n",
      "RangeIndex: 45211 entries, 0 to 45210\n",
      "Data columns (total 17 columns):\n",
      " #   Column                 Non-Null Count  Dtype \n",
      "---  ------                 --------------  ----- \n",
      " 0   Age                    45211 non-null  int64 \n",
      " 1   Job                    45211 non-null  object\n",
      " 2   Marital Status         45211 non-null  object\n",
      " 3   Education              45211 non-null  object\n",
      " 4   Credit                 45211 non-null  object\n",
      " 5   Balance (euros)        45211 non-null  int64 \n",
      " 6   Housing Loan           45211 non-null  object\n",
      " 7   Personal Loan          45211 non-null  object\n",
      " 8   Contact                45211 non-null  object\n",
      " 9   Last Contact Day       45211 non-null  int64 \n",
      " 10  Last Contact Month     45211 non-null  object\n",
      " 11  Last Contact Duration  45211 non-null  int64 \n",
      " 12  Campaign               45211 non-null  int64 \n",
      " 13  Pdays                  45211 non-null  int64 \n",
      " 14  Previous               45211 non-null  int64 \n",
      " 15  Poutcome               45211 non-null  object\n",
      " 16  Subscription           45211 non-null  int64 \n",
      "dtypes: int64(8), object(9)\n",
      "memory usage: 5.9+ MB\n"
     ]
    }
   ],
   "source": [
    "# Variables numéricas y categóricas. Valores vacíos.\n",
    "data.info()"
   ]
  },
  {
   "cell_type": "code",
   "execution_count": 10,
   "metadata": {
    "colab": {
     "base_uri": "https://localhost:8080/"
    },
    "id": "rPU3xUoYZjrJ",
    "outputId": "654e67f1-a0d0-4ab1-9bb4-ff3a933c3244"
   },
   "outputs": [
    {
     "data": {
      "text/plain": [
       "cellular     29285\n",
       "unknown      13020\n",
       "telephone     2906\n",
       "Name: Contact, dtype: int64"
      ]
     },
     "execution_count": 10,
     "metadata": {},
     "output_type": "execute_result"
    }
   ],
   "source": [
    "# No hay NAs pero hay info faltante -> unknown en categóricas.\n",
    "data[\"Contact\"].value_counts()"
   ]
  },
  {
   "cell_type": "markdown",
   "metadata": {
    "id": "8d7c-leJnK3v"
   },
   "source": [
    "Podemos ver que algunas variables categóricas tienen la categoría *unknown* indicando que no tenemos disponible esa información.\n",
    "* En las variables **Job** y **Education** las frecuencias no parecen tener tanta incidencia.\n",
    "* En la variable **Contact** tenemos un tercio de las observaciones con información faltante.\n",
    "* La variable **Poutcome** (el resultado de la campaña anterior) tiene un 80% de observaciones faltantes. Esto se da porque la mayoría de los clientes analizados no participaron de campañas anteriores. \n",
    "\n",
    "Esta última variable contiene información relevante y debemos pensar cómo incluirla en el modelo."
   ]
  },
  {
   "cell_type": "code",
   "execution_count": 11,
   "metadata": {
    "colab": {
     "base_uri": "https://localhost:8080/"
    },
    "id": "UMMaEUP_eVnG",
    "outputId": "7132d049-cadb-4d76-acf6-dec2276b6f51"
   },
   "outputs": [
    {
     "data": {
      "text/plain": [
       "Age                          0\n",
       "Job                        288\n",
       "Marital Status               0\n",
       "Education                 1857\n",
       "Credit                       0\n",
       "Balance (euros)              0\n",
       "Housing Loan                 0\n",
       "Personal Loan                0\n",
       "Contact                  13020\n",
       "Last Contact Day             0\n",
       "Last Contact Month           0\n",
       "Last Contact Duration        0\n",
       "Campaign                     0\n",
       "Pdays                        0\n",
       "Previous                     0\n",
       "Poutcome                 36959\n",
       "Subscription                 0\n",
       "dtype: int64"
      ]
     },
     "execution_count": 11,
     "metadata": {},
     "output_type": "execute_result"
    }
   ],
   "source": [
    "(data == \"unknown\").sum()"
   ]
  },
  {
   "cell_type": "markdown",
   "metadata": {
    "id": "S07tb4C1n_Tr"
   },
   "source": [
    "La variable **Pdays** tiene una gran cantidad de valores faltantes porque se corresponde con las observaciones que no participaron de campañas anteriores."
   ]
  },
  {
   "cell_type": "code",
   "execution_count": 12,
   "metadata": {
    "colab": {
     "base_uri": "https://localhost:8080/"
    },
    "id": "XGMdG42Pefvg",
    "outputId": "bbaecb95-6b8c-4b51-90c7-843e59b29a1c"
   },
   "outputs": [
    {
     "data": {
      "text/plain": [
       "Age                          0\n",
       "Job                          0\n",
       "Marital Status               0\n",
       "Education                    0\n",
       "Credit                       0\n",
       "Balance (euros)             50\n",
       "Housing Loan                 0\n",
       "Personal Loan                0\n",
       "Contact                      0\n",
       "Last Contact Day             0\n",
       "Last Contact Month           0\n",
       "Last Contact Duration        0\n",
       "Campaign                     0\n",
       "Pdays                    36954\n",
       "Previous                     0\n",
       "Poutcome                     0\n",
       "Subscription                 0\n",
       "dtype: int64"
      ]
     },
     "execution_count": 12,
     "metadata": {},
     "output_type": "execute_result"
    }
   ],
   "source": [
    "(data == -1).sum()"
   ]
  },
  {
   "cell_type": "code",
   "execution_count": 13,
   "metadata": {
    "colab": {
     "base_uri": "https://localhost:8080/"
    },
    "id": "wWketF9QZyez",
    "outputId": "ae2b8851-066f-4291-d6a2-828cf821b607"
   },
   "outputs": [
    {
     "data": {
      "text/plain": [
       "married     0.601933\n",
       "single      0.282896\n",
       "divorced    0.115171\n",
       "Name: Marital Status, dtype: float64"
      ]
     },
     "execution_count": 13,
     "metadata": {},
     "output_type": "execute_result"
    }
   ],
   "source": [
    "# Estado civil.\n",
    "data[\"Marital Status\"].value_counts(normalize=True)"
   ]
  },
  {
   "cell_type": "code",
   "execution_count": 14,
   "metadata": {
    "colab": {
     "base_uri": "https://localhost:8080/"
    },
    "id": "RrKmtES8aMH5",
    "outputId": "f9a65fb7-0e5c-4765-8c7b-85062653f760"
   },
   "outputs": [
    {
     "data": {
      "text/plain": [
       "secondary    0.513194\n",
       "tertiary     0.294198\n",
       "primary      0.151534\n",
       "unknown      0.041074\n",
       "Name: Education, dtype: float64"
      ]
     },
     "execution_count": 14,
     "metadata": {},
     "output_type": "execute_result"
    }
   ],
   "source": [
    "# Educación.\n",
    "data[\"Education\"].value_counts(normalize=True)"
   ]
  },
  {
   "cell_type": "code",
   "execution_count": 15,
   "metadata": {
    "colab": {
     "base_uri": "https://localhost:8080/"
    },
    "id": "WyyhTaauaRaU",
    "outputId": "0ab91717-c8b4-4ae5-a393-529b18a79455"
   },
   "outputs": [
    {
     "data": {
      "text/plain": [
       "0    0.883015\n",
       "1    0.116985\n",
       "Name: Subscription, dtype: float64"
      ]
     },
     "execution_count": 15,
     "metadata": {},
     "output_type": "execute_result"
    }
   ],
   "source": [
    "# Suscripcion al plazo fijo.\n",
    "data[\"Subscription\"].value_counts(normalize=True)"
   ]
  },
  {
   "cell_type": "markdown",
   "metadata": {
    "id": "RnC9a_oYcr4C"
   },
   "source": [
    "# Funciones para plotear"
   ]
  },
  {
   "cell_type": "code",
   "execution_count": 16,
   "metadata": {
    "id": "x7yxm7vsbtTl"
   },
   "outputs": [],
   "source": [
    "def plotCont(variable, log = False, n_bins = 50):\n",
    "  if log == False:\n",
    "    print((data[variable]).describe())\n",
    "  else:\n",
    "    print(np.log(data[variable]).describe())\n",
    "\n",
    "  plt.figure(figsize = (10, 5))\n",
    "  sns.histplot(data=data, x=variable, log_scale=log, bins = n_bins)\n",
    "  plt.title(variable)\n",
    "  plt.show()\n",
    "\n",
    "  if log == True:\n",
    "    plt.figure(figsize = (10, 5))\n",
    "    sns.boxplot(data=data, x = \"Subscription\", y = np.log10(data[variable]))\n",
    "    plt.title(variable)\n",
    "    plt.show()\n",
    "  else:\n",
    "    plt.figure(figsize = (10, 5))\n",
    "    sns.boxplot(data=data, x = \"Subscription\", y = variable)\n",
    "    plt.title(variable)\n",
    "    plt.show()\n",
    "\n",
    "def plotCat(variable, prop = True):\n",
    "  table1 = data[variable].value_counts(normalize = prop)\n",
    "  print(table1)\n",
    "\n",
    "  display(pd.crosstab(index = data[\"Subscription\"], \n",
    "                        columns = data[variable]))\n",
    "\n",
    "\n",
    "  if prop:\n",
    "    display(pd.crosstab(index = data[\"Subscription\"], \n",
    "                        columns = data[variable], \n",
    "                        normalize = 'columns')) \n",
    "    \n",
    "\n",
    "  plt.figure(figsize = (10, 5))\n",
    "  sns.barplot(x=table1.index, y = table1.values)\n",
    "  plt.xticks(rotation = 45)\n",
    "  plt.show()\n",
    "  \n",
    "  "
   ]
  },
  {
   "cell_type": "markdown",
   "metadata": {
    "id": "YMvIJbp6mx_q"
   },
   "source": [
    "# Analisis y visualizacion de variables\n",
    "\n",
    "Realizamos el análisis exploratorio de las variables del dataset."
   ]
  },
  {
   "cell_type": "markdown",
   "metadata": {
    "id": "CgzT5HoPXWXL"
   },
   "source": [
    "## Age\n",
    "\n",
    "Edad de la persona.\n",
    "\n",
    "* A partir de 60 años hay un cambio en la distribución.\n",
    "* No parece haber grandes diferencias con la variable respuesta.\n",
    "* Vemos que hay una diferencia en la proporción de la variable respuesta cuando la edad es >60 años.\n",
    "\n",
    "\n"
   ]
  },
  {
   "cell_type": "code",
   "execution_count": 17,
   "metadata": {
    "colab": {
     "base_uri": "https://localhost:8080/",
     "height": 839
    },
    "id": "-5IhEsHbYWvD",
    "outputId": "6cf2aa70-a184-4d9c-d530-d0805916f91a"
   },
   "outputs": [
    {
     "name": "stdout",
     "output_type": "stream",
     "text": [
      "count    45211.000000\n",
      "mean        40.936210\n",
      "std         10.618762\n",
      "min         18.000000\n",
      "25%         33.000000\n",
      "50%         39.000000\n",
      "75%         48.000000\n",
      "max         95.000000\n",
      "Name: Age, dtype: float64\n"
     ]
    },
    {
     "data": {
      "image/png": "[encoded data removed]",
      "text/plain": [
       "<Figure size 720x360 with 1 Axes>"
      ]
     },
     "metadata": {
      "needs_background": "light"
     },
     "output_type": "display_data"
    },
    {
     "data": {
      "image/png": "[encoded data removed]",
      "text/plain": [
       "<Figure size 720x360 with 1 Axes>"
      ]
     },
     "metadata": {
      "needs_background": "light"
     },
     "output_type": "display_data"
    }
   ],
   "source": [
    "plotCont('Age', log=False) "
   ]
  },
  {
   "cell_type": "markdown",
   "metadata": {
    "id": "anTwpG4NpOvB"
   },
   "source": [
    "Podemos ver la diferencia de proporciones entre los jubilados que invierten en el plazo fijo después de la campaña contra los no jubilados."
   ]
  },
  {
   "cell_type": "code",
   "execution_count": 18,
   "metadata": {
    "colab": {
     "base_uri": "https://localhost:8080/",
     "height": 143
    },
    "id": "8Oh-49QGmnPv",
    "outputId": "4ee49d12-db42-4738-bd7e-d1fd496b826d"
   },
   "outputs": [
    {
     "data": {
      "text/html": [
       "<div>\n",
       "<style scoped>\n",
       "    .dataframe tbody tr th:only-of-type {\n",
       "        vertical-align: middle;\n",
       "    }\n",
       "\n",
       "    .dataframe tbody tr th {\n",
       "        vertical-align: top;\n",
       "    }\n",
       "\n",
       "    .dataframe thead th {\n",
       "        text-align: right;\n",
       "    }\n",
       "</style>\n",
       "<table border=\"1\" class=\"dataframe\">\n",
       "  <thead>\n",
       "    <tr style=\"text-align: right;\">\n",
       "      <th>Age</th>\n",
       "      <th>Mayor60</th>\n",
       "      <th>Menor60</th>\n",
       "    </tr>\n",
       "    <tr>\n",
       "      <th>Subscription</th>\n",
       "      <th></th>\n",
       "      <th></th>\n",
       "    </tr>\n",
       "  </thead>\n",
       "  <tbody>\n",
       "    <tr>\n",
       "      <th>0</th>\n",
       "      <td>0.891261</td>\n",
       "      <td>0.577441</td>\n",
       "    </tr>\n",
       "    <tr>\n",
       "      <th>1</th>\n",
       "      <td>0.108739</td>\n",
       "      <td>0.422559</td>\n",
       "    </tr>\n",
       "  </tbody>\n",
       "</table>\n",
       "</div>"
      ],
      "text/plain": [
       "Age            Mayor60   Menor60\n",
       "Subscription                    \n",
       "0             0.891261  0.577441\n",
       "1             0.108739  0.422559"
      ]
     },
     "execution_count": 18,
     "metadata": {},
     "output_type": "execute_result"
    }
   ],
   "source": [
    "jubilados = pd.cut(data[\"Age\"], [0,60,100], labels=['Mayor60', 'Menor60'])\n",
    "pd.crosstab(index=data[\"Subscription\"], columns=jubilados, normalize='columns')"
   ]
  },
  {
   "cell_type": "markdown",
   "metadata": {
    "id": "h6hMwZ43rDh7"
   },
   "source": [
    "Los resultados de las proporciones anteriores se da por el corte abrupto que tiene la variable Edad."
   ]
  },
  {
   "cell_type": "code",
   "execution_count": 19,
   "metadata": {
    "colab": {
     "base_uri": "https://localhost:8080/",
     "height": 655
    },
    "id": "b9nfUnrzpYZQ",
    "outputId": "9a7790c6-df6b-4565-d1ec-a6652004c973"
   },
   "outputs": [
    {
     "data": {
      "image/png": "[encoded data removed]",
      "text/plain": [
       "<Figure size 720x360 with 1 Axes>"
      ]
     },
     "metadata": {
      "needs_background": "light"
     },
     "output_type": "display_data"
    },
    {
     "data": {
      "image/png": "[encoded data removed]",
      "text/plain": [
       "<Figure size 720x360 with 1 Axes>"
      ]
     },
     "metadata": {
      "needs_background": "light"
     },
     "output_type": "display_data"
    }
   ],
   "source": [
    "plt.figure(figsize = (10, 5))\n",
    "sns.histplot(data=data,\n",
    "             x = \"Age\",\n",
    "             hue = \"Subscription\",\n",
    "             multiple = \"dodge\")\n",
    "plt.show()\n",
    "\n",
    "plt.figure(figsize = (10, 5))\n",
    "sns.histplot(data=data,\n",
    "             x = \"Age\",\n",
    "             hue = \"Subscription\",\n",
    "             multiple = \"fill\")\n",
    "plt.show()"
   ]
  },
  {
   "cell_type": "markdown",
   "metadata": {
    "id": "7zIYKGL_Xfpz"
   },
   "source": [
    "## Job\n",
    "\n",
    "Empleo de la persona.\n",
    "\n",
    "* Agrupamos las categorías con frecuencia menor a 5 % en *otros*.\n"
   ]
  },
  {
   "cell_type": "code",
   "execution_count": 20,
   "metadata": {
    "colab": {
     "base_uri": "https://localhost:8080/"
    },
    "id": "fB8beWi-sfeJ",
    "outputId": "fa28eacf-fbfd-4d62-a632-14af8f1c1a13"
   },
   "outputs": [
    {
     "data": {
      "text/plain": [
       "blue-collar      9732\n",
       "management       9458\n",
       "technician       7597\n",
       "admin.           5171\n",
       "services         4154\n",
       "retired          2264\n",
       "self-employed    1579\n",
       "entrepreneur     1487\n",
       "unemployed       1303\n",
       "housemaid        1240\n",
       "student           938\n",
       "unknown           288\n",
       "Name: Job, dtype: int64"
      ]
     },
     "execution_count": 20,
     "metadata": {},
     "output_type": "execute_result"
    }
   ],
   "source": [
    "data[\"Job\"].value_counts()"
   ]
  },
  {
   "cell_type": "code",
   "execution_count": 21,
   "metadata": {
    "colab": {
     "base_uri": "https://localhost:8080/",
     "height": 845
    },
    "id": "XN8yH4nTXU8O",
    "outputId": "6b05d839-62ed-4e09-9b46-2da4c2402559"
   },
   "outputs": [
    {
     "name": "stdout",
     "output_type": "stream",
     "text": [
      "blue-collar      0.215257\n",
      "management       0.209197\n",
      "technician       0.168034\n",
      "admin.           0.114375\n",
      "services         0.091880\n",
      "retired          0.050076\n",
      "self-employed    0.034925\n",
      "entrepreneur     0.032890\n",
      "unemployed       0.028820\n",
      "housemaid        0.027427\n",
      "student          0.020747\n",
      "unknown          0.006370\n",
      "Name: Job, dtype: float64\n"
     ]
    },
    {
     "data": {
      "text/html": [
       "<div>\n",
       "<style scoped>\n",
       "    .dataframe tbody tr th:only-of-type {\n",
       "        vertical-align: middle;\n",
       "    }\n",
       "\n",
       "    .dataframe tbody tr th {\n",
       "        vertical-align: top;\n",
       "    }\n",
       "\n",
       "    .dataframe thead th {\n",
       "        text-align: right;\n",
       "    }\n",
       "</style>\n",
       "<table border=\"1\" class=\"dataframe\">\n",
       "  <thead>\n",
       "    <tr style=\"text-align: right;\">\n",
       "      <th>Job</th>\n",
       "      <th>admin.</th>\n",
       "      <th>blue-collar</th>\n",
       "      <th>entrepreneur</th>\n",
       "      <th>housemaid</th>\n",
       "      <th>management</th>\n",
       "      <th>retired</th>\n",
       "      <th>self-employed</th>\n",
       "      <th>services</th>\n",
       "      <th>student</th>\n",
       "      <th>technician</th>\n",
       "      <th>unemployed</th>\n",
       "      <th>unknown</th>\n",
       "    </tr>\n",
       "    <tr>\n",
       "      <th>Subscription</th>\n",
       "      <th></th>\n",
       "      <th></th>\n",
       "      <th></th>\n",
       "      <th></th>\n",
       "      <th></th>\n",
       "      <th></th>\n",
       "      <th></th>\n",
       "      <th></th>\n",
       "      <th></th>\n",
       "      <th></th>\n",
       "      <th></th>\n",
       "      <th></th>\n",
       "    </tr>\n",
       "  </thead>\n",
       "  <tbody>\n",
       "    <tr>\n",
       "      <th>0</th>\n",
       "      <td>4540</td>\n",
       "      <td>9024</td>\n",
       "      <td>1364</td>\n",
       "      <td>1131</td>\n",
       "      <td>8157</td>\n",
       "      <td>1748</td>\n",
       "      <td>1392</td>\n",
       "      <td>3785</td>\n",
       "      <td>669</td>\n",
       "      <td>6757</td>\n",
       "      <td>1101</td>\n",
       "      <td>254</td>\n",
       "    </tr>\n",
       "    <tr>\n",
       "      <th>1</th>\n",
       "      <td>631</td>\n",
       "      <td>708</td>\n",
       "      <td>123</td>\n",
       "      <td>109</td>\n",
       "      <td>1301</td>\n",
       "      <td>516</td>\n",
       "      <td>187</td>\n",
       "      <td>369</td>\n",
       "      <td>269</td>\n",
       "      <td>840</td>\n",
       "      <td>202</td>\n",
       "      <td>34</td>\n",
       "    </tr>\n",
       "  </tbody>\n",
       "</table>\n",
       "</div>"
      ],
      "text/plain": [
       "Job           admin.  blue-collar  entrepreneur  housemaid  management  \\\n",
       "Subscription                                                             \n",
       "0               4540         9024          1364       1131        8157   \n",
       "1                631          708           123        109        1301   \n",
       "\n",
       "Job           retired  self-employed  services  student  technician  \\\n",
       "Subscription                                                          \n",
       "0                1748           1392      3785      669        6757   \n",
       "1                 516            187       369      269         840   \n",
       "\n",
       "Job           unemployed  unknown  \n",
       "Subscription                       \n",
       "0                   1101      254  \n",
       "1                    202       34  "
      ]
     },
     "metadata": {},
     "output_type": "display_data"
    },
    {
     "data": {
      "text/html": [
       "<div>\n",
       "<style scoped>\n",
       "    .dataframe tbody tr th:only-of-type {\n",
       "        vertical-align: middle;\n",
       "    }\n",
       "\n",
       "    .dataframe tbody tr th {\n",
       "        vertical-align: top;\n",
       "    }\n",
       "\n",
       "    .dataframe thead th {\n",
       "        text-align: right;\n",
       "    }\n",
       "</style>\n",
       "<table border=\"1\" class=\"dataframe\">\n",
       "  <thead>\n",
       "    <tr style=\"text-align: right;\">\n",
       "      <th>Job</th>\n",
       "      <th>admin.</th>\n",
       "      <th>blue-collar</th>\n",
       "      <th>entrepreneur</th>\n",
       "      <th>housemaid</th>\n",
       "      <th>management</th>\n",
       "      <th>retired</th>\n",
       "      <th>self-employed</th>\n",
       "      <th>services</th>\n",
       "      <th>student</th>\n",
       "      <th>technician</th>\n",
       "      <th>unemployed</th>\n",
       "      <th>unknown</th>\n",
       "    </tr>\n",
       "    <tr>\n",
       "      <th>Subscription</th>\n",
       "      <th></th>\n",
       "      <th></th>\n",
       "      <th></th>\n",
       "      <th></th>\n",
       "      <th></th>\n",
       "      <th></th>\n",
       "      <th></th>\n",
       "      <th></th>\n",
       "      <th></th>\n",
       "      <th></th>\n",
       "      <th></th>\n",
       "      <th></th>\n",
       "    </tr>\n",
       "  </thead>\n",
       "  <tbody>\n",
       "    <tr>\n",
       "      <th>0</th>\n",
       "      <td>0.877973</td>\n",
       "      <td>0.92725</td>\n",
       "      <td>0.917283</td>\n",
       "      <td>0.912097</td>\n",
       "      <td>0.862444</td>\n",
       "      <td>0.772085</td>\n",
       "      <td>0.881571</td>\n",
       "      <td>0.91117</td>\n",
       "      <td>0.71322</td>\n",
       "      <td>0.88943</td>\n",
       "      <td>0.844973</td>\n",
       "      <td>0.881944</td>\n",
       "    </tr>\n",
       "    <tr>\n",
       "      <th>1</th>\n",
       "      <td>0.122027</td>\n",
       "      <td>0.07275</td>\n",
       "      <td>0.082717</td>\n",
       "      <td>0.087903</td>\n",
       "      <td>0.137556</td>\n",
       "      <td>0.227915</td>\n",
       "      <td>0.118429</td>\n",
       "      <td>0.08883</td>\n",
       "      <td>0.28678</td>\n",
       "      <td>0.11057</td>\n",
       "      <td>0.155027</td>\n",
       "      <td>0.118056</td>\n",
       "    </tr>\n",
       "  </tbody>\n",
       "</table>\n",
       "</div>"
      ],
      "text/plain": [
       "Job             admin.  blue-collar  entrepreneur  housemaid  management  \\\n",
       "Subscription                                                               \n",
       "0             0.877973      0.92725      0.917283   0.912097    0.862444   \n",
       "1             0.122027      0.07275      0.082717   0.087903    0.137556   \n",
       "\n",
       "Job            retired  self-employed  services  student  technician  \\\n",
       "Subscription                                                           \n",
       "0             0.772085       0.881571   0.91117  0.71322     0.88943   \n",
       "1             0.227915       0.118429   0.08883  0.28678     0.11057   \n",
       "\n",
       "Job           unemployed   unknown  \n",
       "Subscription                        \n",
       "0               0.844973  0.881944  \n",
       "1               0.155027  0.118056  "
      ]
     },
     "metadata": {},
     "output_type": "display_data"
    },
    {
     "data": {
      "image/png": "[encoded data removed]",
      "text/plain": [
       "<Figure size 720x360 with 1 Axes>"
      ]
     },
     "metadata": {
      "needs_background": "light"
     },
     "output_type": "display_data"
    }
   ],
   "source": [
    "plotCat('Job', prop=True)"
   ]
  },
  {
   "cell_type": "code",
   "execution_count": 22,
   "metadata": {
    "colab": {
     "base_uri": "https://localhost:8080/",
     "height": 143
    },
    "id": "TQUF4ROktIUL",
    "outputId": "d7d1a502-d4f0-4217-852d-c8a795bd5133"
   },
   "outputs": [
    {
     "data": {
      "text/html": [
       "<div>\n",
       "<style scoped>\n",
       "    .dataframe tbody tr th:only-of-type {\n",
       "        vertical-align: middle;\n",
       "    }\n",
       "\n",
       "    .dataframe tbody tr th {\n",
       "        vertical-align: top;\n",
       "    }\n",
       "\n",
       "    .dataframe thead th {\n",
       "        text-align: right;\n",
       "    }\n",
       "</style>\n",
       "<table border=\"1\" class=\"dataframe\">\n",
       "  <thead>\n",
       "    <tr style=\"text-align: right;\">\n",
       "      <th>Job</th>\n",
       "      <th>admin.</th>\n",
       "      <th>blue-collar</th>\n",
       "      <th>entrepreneur</th>\n",
       "      <th>housemaid</th>\n",
       "      <th>management</th>\n",
       "      <th>retired</th>\n",
       "      <th>self-employed</th>\n",
       "      <th>services</th>\n",
       "      <th>student</th>\n",
       "      <th>technician</th>\n",
       "      <th>unemployed</th>\n",
       "      <th>unknown</th>\n",
       "    </tr>\n",
       "    <tr>\n",
       "      <th>Age</th>\n",
       "      <th></th>\n",
       "      <th></th>\n",
       "      <th></th>\n",
       "      <th></th>\n",
       "      <th></th>\n",
       "      <th></th>\n",
       "      <th></th>\n",
       "      <th></th>\n",
       "      <th></th>\n",
       "      <th></th>\n",
       "      <th></th>\n",
       "      <th></th>\n",
       "    </tr>\n",
       "  </thead>\n",
       "  <tbody>\n",
       "    <tr>\n",
       "      <th>False</th>\n",
       "      <td>5169</td>\n",
       "      <td>9728</td>\n",
       "      <td>1487</td>\n",
       "      <td>1240</td>\n",
       "      <td>9458</td>\n",
       "      <td>2264</td>\n",
       "      <td>1579</td>\n",
       "      <td>4153</td>\n",
       "      <td>848</td>\n",
       "      <td>7597</td>\n",
       "      <td>1303</td>\n",
       "      <td>288</td>\n",
       "    </tr>\n",
       "    <tr>\n",
       "      <th>True</th>\n",
       "      <td>2</td>\n",
       "      <td>4</td>\n",
       "      <td>0</td>\n",
       "      <td>0</td>\n",
       "      <td>0</td>\n",
       "      <td>0</td>\n",
       "      <td>0</td>\n",
       "      <td>1</td>\n",
       "      <td>90</td>\n",
       "      <td>0</td>\n",
       "      <td>0</td>\n",
       "      <td>0</td>\n",
       "    </tr>\n",
       "  </tbody>\n",
       "</table>\n",
       "</div>"
      ],
      "text/plain": [
       "Job    admin.  blue-collar  entrepreneur  housemaid  management  retired  \\\n",
       "Age                                                                        \n",
       "False    5169         9728          1487       1240        9458     2264   \n",
       "True        2            4             0          0           0        0   \n",
       "\n",
       "Job    self-employed  services  student  technician  unemployed  unknown  \n",
       "Age                                                                       \n",
       "False           1579      4153      848        7597        1303      288  \n",
       "True               0         1       90           0           0        0  "
      ]
     },
     "execution_count": 22,
     "metadata": {},
     "output_type": "execute_result"
    }
   ],
   "source": [
    "pd.crosstab(index=data[\"Age\"]<=20, columns=data[\"Job\"])"
   ]
  },
  {
   "cell_type": "code",
   "execution_count": 23,
   "metadata": {
    "colab": {
     "base_uri": "https://localhost:8080/",
     "height": 143
    },
    "id": "A1MOT4nMswAd",
    "outputId": "ec61bbba-064a-45df-87af-d64dc46f86dc"
   },
   "outputs": [
    {
     "data": {
      "text/html": [
       "<div>\n",
       "<style scoped>\n",
       "    .dataframe tbody tr th:only-of-type {\n",
       "        vertical-align: middle;\n",
       "    }\n",
       "\n",
       "    .dataframe tbody tr th {\n",
       "        vertical-align: top;\n",
       "    }\n",
       "\n",
       "    .dataframe thead th {\n",
       "        text-align: right;\n",
       "    }\n",
       "</style>\n",
       "<table border=\"1\" class=\"dataframe\">\n",
       "  <thead>\n",
       "    <tr style=\"text-align: right;\">\n",
       "      <th>Job</th>\n",
       "      <th>admin.</th>\n",
       "      <th>blue-collar</th>\n",
       "      <th>entrepreneur</th>\n",
       "      <th>housemaid</th>\n",
       "      <th>management</th>\n",
       "      <th>retired</th>\n",
       "      <th>self-employed</th>\n",
       "      <th>services</th>\n",
       "      <th>student</th>\n",
       "      <th>technician</th>\n",
       "      <th>unemployed</th>\n",
       "      <th>unknown</th>\n",
       "    </tr>\n",
       "    <tr>\n",
       "      <th>Age</th>\n",
       "      <th></th>\n",
       "      <th></th>\n",
       "      <th></th>\n",
       "      <th></th>\n",
       "      <th></th>\n",
       "      <th></th>\n",
       "      <th></th>\n",
       "      <th></th>\n",
       "      <th></th>\n",
       "      <th></th>\n",
       "      <th></th>\n",
       "      <th></th>\n",
       "    </tr>\n",
       "  </thead>\n",
       "  <tbody>\n",
       "    <tr>\n",
       "      <th>Mayor60</th>\n",
       "      <td>5146</td>\n",
       "      <td>9706</td>\n",
       "      <td>1474</td>\n",
       "      <td>1184</td>\n",
       "      <td>9353</td>\n",
       "      <td>1389</td>\n",
       "      <td>1555</td>\n",
       "      <td>4152</td>\n",
       "      <td>938</td>\n",
       "      <td>7567</td>\n",
       "      <td>1293</td>\n",
       "      <td>266</td>\n",
       "    </tr>\n",
       "    <tr>\n",
       "      <th>Menor60</th>\n",
       "      <td>25</td>\n",
       "      <td>26</td>\n",
       "      <td>13</td>\n",
       "      <td>56</td>\n",
       "      <td>105</td>\n",
       "      <td>875</td>\n",
       "      <td>24</td>\n",
       "      <td>2</td>\n",
       "      <td>0</td>\n",
       "      <td>30</td>\n",
       "      <td>10</td>\n",
       "      <td>22</td>\n",
       "    </tr>\n",
       "  </tbody>\n",
       "</table>\n",
       "</div>"
      ],
      "text/plain": [
       "Job      admin.  blue-collar  entrepreneur  housemaid  management  retired  \\\n",
       "Age                                                                          \n",
       "Mayor60    5146         9706          1474       1184        9353     1389   \n",
       "Menor60      25           26            13         56         105      875   \n",
       "\n",
       "Job      self-employed  services  student  technician  unemployed  unknown  \n",
       "Age                                                                         \n",
       "Mayor60           1555      4152      938        7567        1293      266  \n",
       "Menor60             24         2        0          30          10       22  "
      ]
     },
     "execution_count": 23,
     "metadata": {},
     "output_type": "execute_result"
    }
   ],
   "source": [
    "pd.crosstab(columns=data[\"Job\"], index=jubilados)"
   ]
  },
  {
   "cell_type": "markdown",
   "metadata": {
    "id": "cE9Y8nzgA-EC"
   },
   "source": [
    "Podemos agrupar todos los trabajos que tengan una frecuencia menor al 5% en una categoría otros."
   ]
  },
  {
   "cell_type": "code",
   "execution_count": 24,
   "metadata": {
    "colab": {
     "base_uri": "https://localhost:8080/"
    },
    "id": "IfOGXkaettVw",
    "outputId": "651f6854-0627-4a0c-d6ba-ccd95938bbb6"
   },
   "outputs": [
    {
     "name": "stdout",
     "output_type": "stream",
     "text": [
      "['self-employed', 'entrepreneur', 'unemployed', 'housemaid', 'student', 'unknown']\n"
     ]
    }
   ],
   "source": [
    "trabajo_frec = data[\"Job\"].value_counts(normalize=True)\n",
    "trabajos_otros = list(trabajo_frec.index[(trabajo_frec<0.05).values])\n",
    "print(trabajos_otros)"
   ]
  },
  {
   "cell_type": "code",
   "execution_count": 25,
   "metadata": {
    "colab": {
     "base_uri": "https://localhost:8080/"
    },
    "id": "ZtQimTLru5MC",
    "outputId": "9544c785-c32b-4c34-d4e9-3e2acb438a4b"
   },
   "outputs": [
    {
     "data": {
      "text/plain": [
       "0         management\n",
       "1         technician\n",
       "2             others\n",
       "3        blue-collar\n",
       "4             others\n",
       "            ...     \n",
       "45206     technician\n",
       "45207        retired\n",
       "45208        retired\n",
       "45209    blue-collar\n",
       "45210         others\n",
       "Name: Job, Length: 45211, dtype: object"
      ]
     },
     "execution_count": 25,
     "metadata": {},
     "output_type": "execute_result"
    }
   ],
   "source": [
    "data[\"Job\"].mask(data[\"Job\"].isin(trabajos_otros), \"others\")"
   ]
  },
  {
   "cell_type": "markdown",
   "metadata": {
    "id": "zIBb5SIHXjmZ"
   },
   "source": [
    "## Marital Status\n",
    "\n",
    "Estados Civil.\n",
    "\n",
    "* No parece haber grandes diferencias entre las distintas clases.\n",
    "* Las personas solteras son más propensas a acceder a un plazo fijo"
   ]
  },
  {
   "cell_type": "code",
   "execution_count": 26,
   "metadata": {
    "colab": {
     "base_uri": "https://localhost:8080/",
     "height": 669
    },
    "id": "XADxrXEIYY1K",
    "outputId": "7d415e56-ec15-4a1a-c405-3933890739fc"
   },
   "outputs": [
    {
     "name": "stdout",
     "output_type": "stream",
     "text": [
      "married     0.601933\n",
      "single      0.282896\n",
      "divorced    0.115171\n",
      "Name: Marital Status, dtype: float64\n"
     ]
    },
    {
     "data": {
      "text/html": [
       "<div>\n",
       "<style scoped>\n",
       "    .dataframe tbody tr th:only-of-type {\n",
       "        vertical-align: middle;\n",
       "    }\n",
       "\n",
       "    .dataframe tbody tr th {\n",
       "        vertical-align: top;\n",
       "    }\n",
       "\n",
       "    .dataframe thead th {\n",
       "        text-align: right;\n",
       "    }\n",
       "</style>\n",
       "<table border=\"1\" class=\"dataframe\">\n",
       "  <thead>\n",
       "    <tr style=\"text-align: right;\">\n",
       "      <th>Marital Status</th>\n",
       "      <th>divorced</th>\n",
       "      <th>married</th>\n",
       "      <th>single</th>\n",
       "    </tr>\n",
       "    <tr>\n",
       "      <th>Subscription</th>\n",
       "      <th></th>\n",
       "      <th></th>\n",
       "      <th></th>\n",
       "    </tr>\n",
       "  </thead>\n",
       "  <tbody>\n",
       "    <tr>\n",
       "      <th>0</th>\n",
       "      <td>4585</td>\n",
       "      <td>24459</td>\n",
       "      <td>10878</td>\n",
       "    </tr>\n",
       "    <tr>\n",
       "      <th>1</th>\n",
       "      <td>622</td>\n",
       "      <td>2755</td>\n",
       "      <td>1912</td>\n",
       "    </tr>\n",
       "  </tbody>\n",
       "</table>\n",
       "</div>"
      ],
      "text/plain": [
       "Marital Status  divorced  married  single\n",
       "Subscription                             \n",
       "0                   4585    24459   10878\n",
       "1                    622     2755    1912"
      ]
     },
     "metadata": {},
     "output_type": "display_data"
    },
    {
     "data": {
      "text/html": [
       "<div>\n",
       "<style scoped>\n",
       "    .dataframe tbody tr th:only-of-type {\n",
       "        vertical-align: middle;\n",
       "    }\n",
       "\n",
       "    .dataframe tbody tr th {\n",
       "        vertical-align: top;\n",
       "    }\n",
       "\n",
       "    .dataframe thead th {\n",
       "        text-align: right;\n",
       "    }\n",
       "</style>\n",
       "<table border=\"1\" class=\"dataframe\">\n",
       "  <thead>\n",
       "    <tr style=\"text-align: right;\">\n",
       "      <th>Marital Status</th>\n",
       "      <th>divorced</th>\n",
       "      <th>married</th>\n",
       "      <th>single</th>\n",
       "    </tr>\n",
       "    <tr>\n",
       "      <th>Subscription</th>\n",
       "      <th></th>\n",
       "      <th></th>\n",
       "      <th></th>\n",
       "    </tr>\n",
       "  </thead>\n",
       "  <tbody>\n",
       "    <tr>\n",
       "      <th>0</th>\n",
       "      <td>0.880545</td>\n",
       "      <td>0.898765</td>\n",
       "      <td>0.850508</td>\n",
       "    </tr>\n",
       "    <tr>\n",
       "      <th>1</th>\n",
       "      <td>0.119455</td>\n",
       "      <td>0.101235</td>\n",
       "      <td>0.149492</td>\n",
       "    </tr>\n",
       "  </tbody>\n",
       "</table>\n",
       "</div>"
      ],
      "text/plain": [
       "Marital Status  divorced   married    single\n",
       "Subscription                                \n",
       "0               0.880545  0.898765  0.850508\n",
       "1               0.119455  0.101235  0.149492"
      ]
     },
     "metadata": {},
     "output_type": "display_data"
    },
    {
     "data": {
      "image/png": "[encoded data removed]",
      "text/plain": [
       "<Figure size 720x360 with 1 Axes>"
      ]
     },
     "metadata": {
      "needs_background": "light"
     },
     "output_type": "display_data"
    }
   ],
   "source": [
    "plotCat('Marital Status')"
   ]
  },
  {
   "cell_type": "markdown",
   "metadata": {
    "id": "JJBTj1Z7XnJ5"
   },
   "source": [
    "## Education\n",
    "\n",
    "Educación de la persona.\n",
    "\n",
    "* Tenemos algunas observaciones de las que no tenemos información pero resultan menos del 5% del set. Podemos pensar en imputar la clase más frecuente.\n",
    "\n",
    "* Vemos una tendencia a mayor nivel educativo, mayor aceptación del plazo fijo."
   ]
  },
  {
   "cell_type": "code",
   "execution_count": 27,
   "metadata": {
    "colab": {
     "base_uri": "https://localhost:8080/",
     "height": 693
    },
    "id": "Fnc_c3eNYZQr",
    "outputId": "79384a30-cd7a-46b1-807f-e8b882f61735"
   },
   "outputs": [
    {
     "name": "stdout",
     "output_type": "stream",
     "text": [
      "secondary    0.513194\n",
      "tertiary     0.294198\n",
      "primary      0.151534\n",
      "unknown      0.041074\n",
      "Name: Education, dtype: float64\n"
     ]
    },
    {
     "data": {
      "text/html": [
       "<div>\n",
       "<style scoped>\n",
       "    .dataframe tbody tr th:only-of-type {\n",
       "        vertical-align: middle;\n",
       "    }\n",
       "\n",
       "    .dataframe tbody tr th {\n",
       "        vertical-align: top;\n",
       "    }\n",
       "\n",
       "    .dataframe thead th {\n",
       "        text-align: right;\n",
       "    }\n",
       "</style>\n",
       "<table border=\"1\" class=\"dataframe\">\n",
       "  <thead>\n",
       "    <tr style=\"text-align: right;\">\n",
       "      <th>Education</th>\n",
       "      <th>primary</th>\n",
       "      <th>secondary</th>\n",
       "      <th>tertiary</th>\n",
       "      <th>unknown</th>\n",
       "    </tr>\n",
       "    <tr>\n",
       "      <th>Subscription</th>\n",
       "      <th></th>\n",
       "      <th></th>\n",
       "      <th></th>\n",
       "      <th></th>\n",
       "    </tr>\n",
       "  </thead>\n",
       "  <tbody>\n",
       "    <tr>\n",
       "      <th>0</th>\n",
       "      <td>6260</td>\n",
       "      <td>20752</td>\n",
       "      <td>11305</td>\n",
       "      <td>1605</td>\n",
       "    </tr>\n",
       "    <tr>\n",
       "      <th>1</th>\n",
       "      <td>591</td>\n",
       "      <td>2450</td>\n",
       "      <td>1996</td>\n",
       "      <td>252</td>\n",
       "    </tr>\n",
       "  </tbody>\n",
       "</table>\n",
       "</div>"
      ],
      "text/plain": [
       "Education     primary  secondary  tertiary  unknown\n",
       "Subscription                                       \n",
       "0                6260      20752     11305     1605\n",
       "1                 591       2450      1996      252"
      ]
     },
     "metadata": {},
     "output_type": "display_data"
    },
    {
     "data": {
      "text/html": [
       "<div>\n",
       "<style scoped>\n",
       "    .dataframe tbody tr th:only-of-type {\n",
       "        vertical-align: middle;\n",
       "    }\n",
       "\n",
       "    .dataframe tbody tr th {\n",
       "        vertical-align: top;\n",
       "    }\n",
       "\n",
       "    .dataframe thead th {\n",
       "        text-align: right;\n",
       "    }\n",
       "</style>\n",
       "<table border=\"1\" class=\"dataframe\">\n",
       "  <thead>\n",
       "    <tr style=\"text-align: right;\">\n",
       "      <th>Education</th>\n",
       "      <th>primary</th>\n",
       "      <th>secondary</th>\n",
       "      <th>tertiary</th>\n",
       "      <th>unknown</th>\n",
       "    </tr>\n",
       "    <tr>\n",
       "      <th>Subscription</th>\n",
       "      <th></th>\n",
       "      <th></th>\n",
       "      <th></th>\n",
       "      <th></th>\n",
       "    </tr>\n",
       "  </thead>\n",
       "  <tbody>\n",
       "    <tr>\n",
       "      <th>0</th>\n",
       "      <td>0.913735</td>\n",
       "      <td>0.894406</td>\n",
       "      <td>0.849936</td>\n",
       "      <td>0.864297</td>\n",
       "    </tr>\n",
       "    <tr>\n",
       "      <th>1</th>\n",
       "      <td>0.086265</td>\n",
       "      <td>0.105594</td>\n",
       "      <td>0.150064</td>\n",
       "      <td>0.135703</td>\n",
       "    </tr>\n",
       "  </tbody>\n",
       "</table>\n",
       "</div>"
      ],
      "text/plain": [
       "Education      primary  secondary  tertiary   unknown\n",
       "Subscription                                         \n",
       "0             0.913735   0.894406  0.849936  0.864297\n",
       "1             0.086265   0.105594  0.150064  0.135703"
      ]
     },
     "metadata": {},
     "output_type": "display_data"
    },
    {
     "data": {
      "image/png": "[encoded data removed]",
      "text/plain": [
       "<Figure size 720x360 with 1 Axes>"
      ]
     },
     "metadata": {
      "needs_background": "light"
     },
     "output_type": "display_data"
    }
   ],
   "source": [
    "plotCat('Education')"
   ]
  },
  {
   "cell_type": "markdown",
   "metadata": {
    "id": "4DzSK7dBXqqx"
   },
   "source": [
    "## Credit\n",
    "\n",
    "Variable binaria si tiene crédito en default o sin pagar.\n",
    "\n",
    "* Tiene categoría con muy baja frecuencia.\n",
    "* Seguramente lo mejor será excluirla del análisis."
   ]
  },
  {
   "cell_type": "code",
   "execution_count": 28,
   "metadata": {
    "colab": {
     "base_uri": "https://localhost:8080/",
     "height": 634
    },
    "id": "Vo41QnaxYZmC",
    "outputId": "b4d9ab6e-540e-4bc4-d7a1-eb43b8a66089"
   },
   "outputs": [
    {
     "name": "stdout",
     "output_type": "stream",
     "text": [
      "no     0.981973\n",
      "yes    0.018027\n",
      "Name: Credit, dtype: float64\n"
     ]
    },
    {
     "data": {
      "text/html": [
       "<div>\n",
       "<style scoped>\n",
       "    .dataframe tbody tr th:only-of-type {\n",
       "        vertical-align: middle;\n",
       "    }\n",
       "\n",
       "    .dataframe tbody tr th {\n",
       "        vertical-align: top;\n",
       "    }\n",
       "\n",
       "    .dataframe thead th {\n",
       "        text-align: right;\n",
       "    }\n",
       "</style>\n",
       "<table border=\"1\" class=\"dataframe\">\n",
       "  <thead>\n",
       "    <tr style=\"text-align: right;\">\n",
       "      <th>Credit</th>\n",
       "      <th>no</th>\n",
       "      <th>yes</th>\n",
       "    </tr>\n",
       "    <tr>\n",
       "      <th>Subscription</th>\n",
       "      <th></th>\n",
       "      <th></th>\n",
       "    </tr>\n",
       "  </thead>\n",
       "  <tbody>\n",
       "    <tr>\n",
       "      <th>0</th>\n",
       "      <td>39159</td>\n",
       "      <td>763</td>\n",
       "    </tr>\n",
       "    <tr>\n",
       "      <th>1</th>\n",
       "      <td>5237</td>\n",
       "      <td>52</td>\n",
       "    </tr>\n",
       "  </tbody>\n",
       "</table>\n",
       "</div>"
      ],
      "text/plain": [
       "Credit           no  yes\n",
       "Subscription            \n",
       "0             39159  763\n",
       "1              5237   52"
      ]
     },
     "metadata": {},
     "output_type": "display_data"
    },
    {
     "data": {
      "text/html": [
       "<div>\n",
       "<style scoped>\n",
       "    .dataframe tbody tr th:only-of-type {\n",
       "        vertical-align: middle;\n",
       "    }\n",
       "\n",
       "    .dataframe tbody tr th {\n",
       "        vertical-align: top;\n",
       "    }\n",
       "\n",
       "    .dataframe thead th {\n",
       "        text-align: right;\n",
       "    }\n",
       "</style>\n",
       "<table border=\"1\" class=\"dataframe\">\n",
       "  <thead>\n",
       "    <tr style=\"text-align: right;\">\n",
       "      <th>Credit</th>\n",
       "      <th>no</th>\n",
       "      <th>yes</th>\n",
       "    </tr>\n",
       "    <tr>\n",
       "      <th>Subscription</th>\n",
       "      <th></th>\n",
       "      <th></th>\n",
       "    </tr>\n",
       "  </thead>\n",
       "  <tbody>\n",
       "    <tr>\n",
       "      <th>0</th>\n",
       "      <td>0.882039</td>\n",
       "      <td>0.936196</td>\n",
       "    </tr>\n",
       "    <tr>\n",
       "      <th>1</th>\n",
       "      <td>0.117961</td>\n",
       "      <td>0.063804</td>\n",
       "    </tr>\n",
       "  </tbody>\n",
       "</table>\n",
       "</div>"
      ],
      "text/plain": [
       "Credit              no       yes\n",
       "Subscription                    \n",
       "0             0.882039  0.936196\n",
       "1             0.117961  0.063804"
      ]
     },
     "metadata": {},
     "output_type": "display_data"
    },
    {
     "data": {
      "image/png": "[encoded data removed]",
      "text/plain": [
       "<Figure size 720x360 with 1 Axes>"
      ]
     },
     "metadata": {
      "needs_background": "light"
     },
     "output_type": "display_data"
    }
   ],
   "source": [
    "plotCat('Credit')"
   ]
  },
  {
   "cell_type": "markdown",
   "metadata": {
    "id": "SBxsTGIyXtml"
   },
   "source": [
    "## Balance (euros)\n",
    "\n",
    "* Es una variable con distribución asimétrica y con valores negativos.\n",
    "\n"
   ]
  },
  {
   "cell_type": "code",
   "execution_count": 29,
   "metadata": {
    "colab": {
     "base_uri": "https://localhost:8080/",
     "height": 839
    },
    "id": "-FJ11tMoYZ7b",
    "outputId": "2695a193-7eed-43f5-8359-a95d0d4952fc"
   },
   "outputs": [
    {
     "name": "stdout",
     "output_type": "stream",
     "text": [
      "count     45211.000000\n",
      "mean       1362.272058\n",
      "std        3044.765829\n",
      "min       -8019.000000\n",
      "25%          72.000000\n",
      "50%         448.000000\n",
      "75%        1428.000000\n",
      "max      102127.000000\n",
      "Name: Balance (euros), dtype: float64\n"
     ]
    },
    {
     "data": {
      "image/png": "[encoded data removed]",
      "text/plain": [
       "<Figure size 720x360 with 1 Axes>"
      ]
     },
     "metadata": {
      "needs_background": "light"
     },
     "output_type": "display_data"
    },
    {
     "data": {
      "image/png": "[encoded data removed]",
      "text/plain": [
       "<Figure size 720x360 with 1 Axes>"
      ]
     },
     "metadata": {
      "needs_background": "light"
     },
     "output_type": "display_data"
    }
   ],
   "source": [
    "plotCont('Balance (euros)')"
   ]
  },
  {
   "cell_type": "markdown",
   "metadata": {
    "id": "8j_onvgtCeQs"
   },
   "source": [
    "Podemos pensar en partir la distribución en cuantiles de 10% y ver cómo se vincula con la variable respuesta."
   ]
  },
  {
   "cell_type": "code",
   "execution_count": 30,
   "metadata": {
    "colab": {
     "base_uri": "https://localhost:8080/"
    },
    "id": "n1xKoOEXjg9P",
    "outputId": "ec4f5d65-10f2-493b-d711-3f84772a27a8"
   },
   "outputs": [
    {
     "name": "stdout",
     "output_type": "stream",
     "text": [
      "0.0     -8019.0\n",
      "0.1         0.0\n",
      "0.2        22.0\n",
      "0.3       131.0\n",
      "0.4       272.0\n",
      "0.5       448.0\n",
      "0.6       701.0\n",
      "0.7      1126.0\n",
      "0.8      1859.0\n",
      "0.9      3574.0\n",
      "1.0    102127.0\n",
      "Name: Balance (euros), dtype: float64\n",
      "['qt 0.1', 'qt 0.2', 'qt 0.3', 'qt 0.4', 'qt 0.5', 'qt 0.6', 'qt 0.7', 'qt 0.8', 'qt 0.9', 'qt 1.0']\n"
     ]
    }
   ],
   "source": [
    "balance_quantile = data[\"Balance (euros)\"].quantile(np.arange(0,1.1,0.1))\n",
    "print(balance_quantile)\n",
    "\n",
    "labels_quantile = []\n",
    "for quantile in np.arange(0.1,1.1,0.1):\n",
    "  quantile = round(quantile, 2)\n",
    "  labels_quantile.append(f\"qt {quantile}\")\n",
    "\n",
    "print(labels_quantile)"
   ]
  },
  {
   "cell_type": "code",
   "execution_count": 31,
   "metadata": {
    "colab": {
     "base_uri": "https://localhost:8080/"
    },
    "id": "Buk9DvNIkE7w",
    "outputId": "b84f1e4e-f01c-4293-f661-811a6002e2c0"
   },
   "outputs": [
    {
     "data": {
      "text/plain": [
       "0        qt 0.9\n",
       "1        qt 0.3\n",
       "2        qt 0.2\n",
       "3        qt 0.8\n",
       "4        qt 0.2\n",
       "          ...  \n",
       "45206    qt 0.7\n",
       "45207    qt 0.8\n",
       "45208    qt 1.0\n",
       "45209    qt 0.6\n",
       "45210    qt 0.9\n",
       "Name: Balance_qt, Length: 45211, dtype: category\n",
       "Categories (10, object): ['qt 0.1' < 'qt 0.2' < 'qt 0.3' < 'qt 0.4' ... 'qt 0.7' < 'qt 0.8' < 'qt 0.9' < 'qt 1.0']"
      ]
     },
     "execution_count": 31,
     "metadata": {},
     "output_type": "execute_result"
    }
   ],
   "source": [
    "data[\"Balance_qt\"] = pd.cut(data[\"Balance (euros)\"], \n",
    "                            bins=balance_quantile,\n",
    "                            labels=labels_quantile)\n",
    "data[\"Balance_qt\"]"
   ]
  },
  {
   "cell_type": "markdown",
   "metadata": {
    "id": "SrXTO5rYntvh"
   },
   "source": [
    "Podemos ver cómo a medida que subimos en el cuantil del balance tenemos un aumento en la proporción de éxito en la campaña. Las personas con menor balance tienen a acceder menos al plazo fijo."
   ]
  },
  {
   "cell_type": "code",
   "execution_count": 32,
   "metadata": {
    "colab": {
     "base_uri": "https://localhost:8080/",
     "height": 270
    },
    "id": "unTjzVL9nQdH",
    "outputId": "54781af3-83dc-4efa-a5d7-816e37fb4ecd"
   },
   "outputs": [
    {
     "data": {
      "text/html": [
       "<div>\n",
       "<style scoped>\n",
       "    .dataframe tbody tr th:only-of-type {\n",
       "        vertical-align: middle;\n",
       "    }\n",
       "\n",
       "    .dataframe tbody tr th {\n",
       "        vertical-align: top;\n",
       "    }\n",
       "\n",
       "    .dataframe thead th {\n",
       "        text-align: right;\n",
       "    }\n",
       "</style>\n",
       "<table border=\"1\" class=\"dataframe\">\n",
       "  <thead>\n",
       "    <tr style=\"text-align: right;\">\n",
       "      <th>Balance_qt</th>\n",
       "      <th>qt 0.1</th>\n",
       "      <th>qt 0.2</th>\n",
       "      <th>qt 0.3</th>\n",
       "      <th>qt 0.4</th>\n",
       "      <th>qt 0.5</th>\n",
       "      <th>qt 0.6</th>\n",
       "      <th>qt 0.7</th>\n",
       "      <th>qt 0.8</th>\n",
       "      <th>qt 0.9</th>\n",
       "      <th>qt 1.0</th>\n",
       "    </tr>\n",
       "    <tr>\n",
       "      <th>Subscription</th>\n",
       "      <th></th>\n",
       "      <th></th>\n",
       "      <th></th>\n",
       "      <th></th>\n",
       "      <th></th>\n",
       "      <th></th>\n",
       "      <th></th>\n",
       "      <th></th>\n",
       "      <th></th>\n",
       "      <th></th>\n",
       "    </tr>\n",
       "  </thead>\n",
       "  <tbody>\n",
       "    <tr>\n",
       "      <th>0</th>\n",
       "      <td>0.931034</td>\n",
       "      <td>0.927806</td>\n",
       "      <td>0.908231</td>\n",
       "      <td>0.891718</td>\n",
       "      <td>0.885873</td>\n",
       "      <td>0.87992</td>\n",
       "      <td>0.873177</td>\n",
       "      <td>0.857523</td>\n",
       "      <td>0.833886</td>\n",
       "      <td>0.838752</td>\n",
       "    </tr>\n",
       "    <tr>\n",
       "      <th>1</th>\n",
       "      <td>0.068966</td>\n",
       "      <td>0.072194</td>\n",
       "      <td>0.091769</td>\n",
       "      <td>0.108282</td>\n",
       "      <td>0.114127</td>\n",
       "      <td>0.12008</td>\n",
       "      <td>0.126823</td>\n",
       "      <td>0.142477</td>\n",
       "      <td>0.166114</td>\n",
       "      <td>0.161248</td>\n",
       "    </tr>\n",
       "  </tbody>\n",
       "</table>\n",
       "</div>"
      ],
      "text/plain": [
       "Balance_qt      qt 0.1    qt 0.2    qt 0.3    qt 0.4    qt 0.5   qt 0.6  \\\n",
       "Subscription                                                              \n",
       "0             0.931034  0.927806  0.908231  0.891718  0.885873  0.87992   \n",
       "1             0.068966  0.072194  0.091769  0.108282  0.114127  0.12008   \n",
       "\n",
       "Balance_qt      qt 0.7    qt 0.8    qt 0.9    qt 1.0  \n",
       "Subscription                                          \n",
       "0             0.873177  0.857523  0.833886  0.838752  \n",
       "1             0.126823  0.142477  0.166114  0.161248  "
      ]
     },
     "metadata": {},
     "output_type": "display_data"
    },
    {
     "data": {
      "text/html": [
       "<div>\n",
       "<style scoped>\n",
       "    .dataframe tbody tr th:only-of-type {\n",
       "        vertical-align: middle;\n",
       "    }\n",
       "\n",
       "    .dataframe tbody tr th {\n",
       "        vertical-align: top;\n",
       "    }\n",
       "\n",
       "    .dataframe thead th {\n",
       "        text-align: right;\n",
       "    }\n",
       "</style>\n",
       "<table border=\"1\" class=\"dataframe\">\n",
       "  <thead>\n",
       "    <tr style=\"text-align: right;\">\n",
       "      <th>Balance_qt</th>\n",
       "      <th>qt 0.1</th>\n",
       "      <th>qt 0.2</th>\n",
       "      <th>qt 0.3</th>\n",
       "      <th>qt 0.4</th>\n",
       "      <th>qt 0.5</th>\n",
       "      <th>qt 0.6</th>\n",
       "      <th>qt 0.7</th>\n",
       "      <th>qt 0.8</th>\n",
       "      <th>qt 0.9</th>\n",
       "      <th>qt 1.0</th>\n",
       "    </tr>\n",
       "    <tr>\n",
       "      <th>Subscription</th>\n",
       "      <th></th>\n",
       "      <th></th>\n",
       "      <th></th>\n",
       "      <th></th>\n",
       "      <th></th>\n",
       "      <th></th>\n",
       "      <th></th>\n",
       "      <th></th>\n",
       "      <th></th>\n",
       "      <th></th>\n",
       "    </tr>\n",
       "  </thead>\n",
       "  <tbody>\n",
       "    <tr>\n",
       "      <th>0</th>\n",
       "      <td>6777</td>\n",
       "      <td>1645</td>\n",
       "      <td>4127</td>\n",
       "      <td>4027</td>\n",
       "      <td>3982</td>\n",
       "      <td>3979</td>\n",
       "      <td>3952</td>\n",
       "      <td>3870</td>\n",
       "      <td>3770</td>\n",
       "      <td>3792</td>\n",
       "    </tr>\n",
       "    <tr>\n",
       "      <th>1</th>\n",
       "      <td>502</td>\n",
       "      <td>128</td>\n",
       "      <td>417</td>\n",
       "      <td>489</td>\n",
       "      <td>513</td>\n",
       "      <td>543</td>\n",
       "      <td>574</td>\n",
       "      <td>643</td>\n",
       "      <td>751</td>\n",
       "      <td>729</td>\n",
       "    </tr>\n",
       "  </tbody>\n",
       "</table>\n",
       "</div>"
      ],
      "text/plain": [
       "Balance_qt    qt 0.1  qt 0.2  qt 0.3  qt 0.4  qt 0.5  qt 0.6  qt 0.7  qt 0.8  \\\n",
       "Subscription                                                                   \n",
       "0               6777    1645    4127    4027    3982    3979    3952    3870   \n",
       "1                502     128     417     489     513     543     574     643   \n",
       "\n",
       "Balance_qt    qt 0.9  qt 1.0  \n",
       "Subscription                  \n",
       "0               3770    3792  \n",
       "1                751     729  "
      ]
     },
     "metadata": {},
     "output_type": "display_data"
    }
   ],
   "source": [
    "display(pd.crosstab(index=data[\"Subscription\"], \n",
    "            columns=data[\"Balance_qt\"],\n",
    "            normalize=\"columns\"))\n",
    "\n",
    "display(pd.crosstab(index=data[\"Subscription\"], \n",
    "            columns=data[\"Balance_qt\"]))"
   ]
  },
  {
   "cell_type": "code",
   "execution_count": 33,
   "metadata": {
    "colab": {
     "base_uri": "https://localhost:8080/",
     "height": 426
    },
    "id": "Bi-jdgitn9AC",
    "outputId": "9102cb02-6f97-44a8-8215-602fad9bd11d"
   },
   "outputs": [
    {
     "data": {
      "text/html": [
       "<div>\n",
       "<style scoped>\n",
       "    .dataframe tbody tr th:only-of-type {\n",
       "        vertical-align: middle;\n",
       "    }\n",
       "\n",
       "    .dataframe tbody tr th {\n",
       "        vertical-align: top;\n",
       "    }\n",
       "\n",
       "    .dataframe thead tr th {\n",
       "        text-align: left;\n",
       "    }\n",
       "\n",
       "    .dataframe thead tr:last-of-type th {\n",
       "        text-align: right;\n",
       "    }\n",
       "</style>\n",
       "<table border=\"1\" class=\"dataframe\">\n",
       "  <thead>\n",
       "    <tr>\n",
       "      <th></th>\n",
       "      <th colspan=\"3\" halign=\"left\">Balance (euros)</th>\n",
       "    </tr>\n",
       "    <tr>\n",
       "      <th></th>\n",
       "      <th>mean</th>\n",
       "      <th>min</th>\n",
       "      <th>max</th>\n",
       "    </tr>\n",
       "    <tr>\n",
       "      <th>Balance_qt</th>\n",
       "      <th></th>\n",
       "      <th></th>\n",
       "      <th></th>\n",
       "    </tr>\n",
       "  </thead>\n",
       "  <tbody>\n",
       "    <tr>\n",
       "      <th>qt 0.1</th>\n",
       "      <td>-163.258002</td>\n",
       "      <td>-6847</td>\n",
       "      <td>0</td>\n",
       "    </tr>\n",
       "    <tr>\n",
       "      <th>qt 0.2</th>\n",
       "      <td>9.003948</td>\n",
       "      <td>1</td>\n",
       "      <td>22</td>\n",
       "    </tr>\n",
       "    <tr>\n",
       "      <th>qt 0.3</th>\n",
       "      <td>73.776849</td>\n",
       "      <td>23</td>\n",
       "      <td>131</td>\n",
       "    </tr>\n",
       "    <tr>\n",
       "      <th>qt 0.4</th>\n",
       "      <td>199.815766</td>\n",
       "      <td>132</td>\n",
       "      <td>272</td>\n",
       "    </tr>\n",
       "    <tr>\n",
       "      <th>qt 0.5</th>\n",
       "      <td>354.834483</td>\n",
       "      <td>273</td>\n",
       "      <td>448</td>\n",
       "    </tr>\n",
       "    <tr>\n",
       "      <th>qt 0.6</th>\n",
       "      <td>567.694825</td>\n",
       "      <td>449</td>\n",
       "      <td>701</td>\n",
       "    </tr>\n",
       "    <tr>\n",
       "      <th>qt 0.7</th>\n",
       "      <td>894.627928</td>\n",
       "      <td>702</td>\n",
       "      <td>1126</td>\n",
       "    </tr>\n",
       "    <tr>\n",
       "      <th>qt 0.8</th>\n",
       "      <td>1454.024152</td>\n",
       "      <td>1127</td>\n",
       "      <td>1859</td>\n",
       "    </tr>\n",
       "    <tr>\n",
       "      <th>qt 0.9</th>\n",
       "      <td>2592.906879</td>\n",
       "      <td>1860</td>\n",
       "      <td>3574</td>\n",
       "    </tr>\n",
       "    <tr>\n",
       "      <th>qt 1.0</th>\n",
       "      <td>7749.780137</td>\n",
       "      <td>3575</td>\n",
       "      <td>102127</td>\n",
       "    </tr>\n",
       "  </tbody>\n",
       "</table>\n",
       "</div>"
      ],
      "text/plain": [
       "           Balance (euros)              \n",
       "                      mean   min     max\n",
       "Balance_qt                              \n",
       "qt 0.1         -163.258002 -6847       0\n",
       "qt 0.2            9.003948     1      22\n",
       "qt 0.3           73.776849    23     131\n",
       "qt 0.4          199.815766   132     272\n",
       "qt 0.5          354.834483   273     448\n",
       "qt 0.6          567.694825   449     701\n",
       "qt 0.7          894.627928   702    1126\n",
       "qt 0.8         1454.024152  1127    1859\n",
       "qt 0.9         2592.906879  1860    3574\n",
       "qt 1.0         7749.780137  3575  102127"
      ]
     },
     "execution_count": 33,
     "metadata": {},
     "output_type": "execute_result"
    }
   ],
   "source": [
    "data.groupby(\"Balance_qt\").agg({\"Balance (euros)\":['mean', 'min', 'max']})"
   ]
  },
  {
   "cell_type": "markdown",
   "metadata": {
    "id": "BoEXbmGWvxu0"
   },
   "source": [
    "La ventaja de la partición con cuantiles es que quedan grupos de igual tamaño. La desventaja es que los últimos cuantiles cubren un gran espacio de balances donde hay partes heterogéneas.\n",
    "\n",
    "* Las personas con más de 50k no piden plazos fijos, pero son una cantidad muy baja de observaciones."
   ]
  },
  {
   "cell_type": "code",
   "execution_count": 34,
   "metadata": {
    "colab": {
     "base_uri": "https://localhost:8080/"
    },
    "id": "qJg2SPbfycH0",
    "outputId": "4afbfb8c-9348-4dac-fab9-ce0c2023c68a"
   },
   "outputs": [
    {
     "data": {
      "text/plain": [
       "False    45193\n",
       "True        18\n",
       "Name: Balance (euros), dtype: int64"
      ]
     },
     "execution_count": 34,
     "metadata": {},
     "output_type": "execute_result"
    }
   ],
   "source": [
    "(data[\"Balance (euros)\"] > 50000).value_counts()"
   ]
  },
  {
   "cell_type": "code",
   "execution_count": 35,
   "metadata": {
    "colab": {
     "base_uri": "https://localhost:8080/",
     "height": 338
    },
    "id": "RcFo-Zl1ob7q",
    "outputId": "2d82bc5c-a778-4486-a79e-06eb601cbf30"
   },
   "outputs": [
    {
     "data": {
      "image/png": "[encoded data removed]",
      "text/plain": [
       "<Figure size 720x360 with 1 Axes>"
      ]
     },
     "metadata": {
      "needs_background": "light"
     },
     "output_type": "display_data"
    }
   ],
   "source": [
    "plt.figure(figsize = (10, 5))\n",
    "sns.histplot(data=data,\n",
    "             x = \"Balance (euros)\",\n",
    "             hue = \"Subscription\",\n",
    "             multiple = \"fill\",\n",
    "             bins = 80)\n",
    "plt.show()"
   ]
  },
  {
   "cell_type": "markdown",
   "metadata": {
    "id": "ulGqyHxP0oD-"
   },
   "source": [
    "Otra forma de modelar esta variable es separar los valores negativos de los positivos. En este caso tendríamos una variable que representa el balance negativo y otra que representa el balance positivo.\n",
    "\n",
    "Cuando separamos las distribuciones podemos trabajar con la transformación logarítmica.\n",
    "\n",
    "Otra opción es pasar la del balance negativo y/o 0 a una variable categórica."
   ]
  },
  {
   "cell_type": "code",
   "execution_count": 36,
   "metadata": {
    "id": "-bqPSfD10niu"
   },
   "outputs": [],
   "source": [
    "data[\"Balance_neg\"] = (data[\"Balance (euros)\"].\n",
    "                       where(data[\"Balance (euros)\"]<0, 0.01).\n",
    "                       mask(data[\"Balance (euros)\"]<0, -data[\"Balance (euros)\"]))\n",
    "\n",
    "data[\"Balance_pos\"] = (data[\"Balance (euros)\"].\n",
    "                       mask(data[\"Balance (euros)\"]<=0, 0.01))\n",
    "\n",
    "data[\"Balance_neg_cat\"] = data[\"Balance (euros)\"] < 0"
   ]
  },
  {
   "cell_type": "code",
   "execution_count": 37,
   "metadata": {
    "colab": {
     "base_uri": "https://localhost:8080/",
     "height": 663
    },
    "id": "eZs6T8Dp3KFX",
    "outputId": "787e0194-85e7-4d74-c3c3-f0b769cbcd71"
   },
   "outputs": [
    {
     "data": {
      "image/png": "[encoded data removed]",
      "text/plain": [
       "<Figure size 720x360 with 1 Axes>"
      ]
     },
     "metadata": {
      "needs_background": "light"
     },
     "output_type": "display_data"
    },
    {
     "data": {
      "image/png": "[encoded data removed]",
      "text/plain": [
       "<Figure size 720x360 with 1 Axes>"
      ]
     },
     "metadata": {
      "needs_background": "light"
     },
     "output_type": "display_data"
    }
   ],
   "source": [
    "plt.figure(figsize = (10, 5))\n",
    "sns.histplot(data=data,\n",
    "             x = \"Balance_pos\",\n",
    "             hue = \"Subscription\",\n",
    "             multiple = \"dodge\", \n",
    "             log_scale = True)\n",
    "plt.show()\n",
    "\n",
    "plt.figure(figsize = (10, 5))\n",
    "sns.histplot(data=data,\n",
    "             x = \"Balance_pos\",\n",
    "             hue = \"Subscription\",\n",
    "             multiple = \"fill\", \n",
    "             log_scale = True)\n",
    "plt.show()"
   ]
  },
  {
   "cell_type": "code",
   "execution_count": 38,
   "metadata": {
    "colab": {
     "base_uri": "https://localhost:8080/",
     "height": 663
    },
    "id": "kLcqlR-b5khh",
    "outputId": "df8a1d7a-2029-494f-9d2c-8862e619072e"
   },
   "outputs": [
    {
     "data": {
      "image/png": "[encoded data removed]",
      "text/plain": [
       "<Figure size 720x360 with 1 Axes>"
      ]
     },
     "metadata": {
      "needs_background": "light"
     },
     "output_type": "display_data"
    },
    {
     "data": {
      "image/png": "[encoded data removed]",
      "text/plain": [
       "<Figure size 720x360 with 1 Axes>"
      ]
     },
     "metadata": {
      "needs_background": "light"
     },
     "output_type": "display_data"
    }
   ],
   "source": [
    "plt.figure(figsize = (10, 5))\n",
    "sns.histplot(data=data,\n",
    "             x = \"Balance_neg\",\n",
    "             hue = \"Subscription\",\n",
    "             multiple = \"dodge\", \n",
    "             log_scale = True)\n",
    "plt.show()\n",
    "\n",
    "plt.figure(figsize = (10, 5))\n",
    "sns.histplot(data=data,\n",
    "             x = \"Balance_neg\",\n",
    "             hue = \"Subscription\",\n",
    "             multiple = \"fill\", \n",
    "             log_scale = True)\n",
    "plt.show()"
   ]
  },
  {
   "cell_type": "code",
   "execution_count": 39,
   "metadata": {
    "colab": {
     "base_uri": "https://localhost:8080/"
    },
    "id": "ysfw1be_7rHI",
    "outputId": "7a5b04cd-fb8f-4e3d-819c-c63b8afac65c"
   },
   "outputs": [
    {
     "data": {
      "text/plain": [
       "False    41445\n",
       "True      3766\n",
       "Name: Balance_neg_cat, dtype: int64"
      ]
     },
     "execution_count": 39,
     "metadata": {},
     "output_type": "execute_result"
    }
   ],
   "source": [
    "data[\"Balance_neg_cat\"].value_counts()"
   ]
  },
  {
   "cell_type": "markdown",
   "metadata": {
    "id": "9Js-58rCXwGg"
   },
   "source": [
    "## Housing Loan\n",
    "\n",
    "Variable que indica si tenes un préstamo de vivienda (hipoteca).\n",
    "\n",
    "* Vemos una diferencia significativa entre las categorías de esta variable contra la respuesta."
   ]
  },
  {
   "cell_type": "code",
   "execution_count": 40,
   "metadata": {
    "colab": {
     "base_uri": "https://localhost:8080/",
     "height": 634
    },
    "id": "obsqf5sSYaSQ",
    "outputId": "57019f5a-da6a-452b-c39b-e5dca1c4809d"
   },
   "outputs": [
    {
     "name": "stdout",
     "output_type": "stream",
     "text": [
      "yes    0.555838\n",
      "no     0.444162\n",
      "Name: Housing Loan, dtype: float64\n"
     ]
    },
    {
     "data": {
      "text/html": [
       "<div>\n",
       "<style scoped>\n",
       "    .dataframe tbody tr th:only-of-type {\n",
       "        vertical-align: middle;\n",
       "    }\n",
       "\n",
       "    .dataframe tbody tr th {\n",
       "        vertical-align: top;\n",
       "    }\n",
       "\n",
       "    .dataframe thead th {\n",
       "        text-align: right;\n",
       "    }\n",
       "</style>\n",
       "<table border=\"1\" class=\"dataframe\">\n",
       "  <thead>\n",
       "    <tr style=\"text-align: right;\">\n",
       "      <th>Housing Loan</th>\n",
       "      <th>no</th>\n",
       "      <th>yes</th>\n",
       "    </tr>\n",
       "    <tr>\n",
       "      <th>Subscription</th>\n",
       "      <th></th>\n",
       "      <th></th>\n",
       "    </tr>\n",
       "  </thead>\n",
       "  <tbody>\n",
       "    <tr>\n",
       "      <th>0</th>\n",
       "      <td>16727</td>\n",
       "      <td>23195</td>\n",
       "    </tr>\n",
       "    <tr>\n",
       "      <th>1</th>\n",
       "      <td>3354</td>\n",
       "      <td>1935</td>\n",
       "    </tr>\n",
       "  </tbody>\n",
       "</table>\n",
       "</div>"
      ],
      "text/plain": [
       "Housing Loan     no    yes\n",
       "Subscription              \n",
       "0             16727  23195\n",
       "1              3354   1935"
      ]
     },
     "metadata": {},
     "output_type": "display_data"
    },
    {
     "data": {
      "text/html": [
       "<div>\n",
       "<style scoped>\n",
       "    .dataframe tbody tr th:only-of-type {\n",
       "        vertical-align: middle;\n",
       "    }\n",
       "\n",
       "    .dataframe tbody tr th {\n",
       "        vertical-align: top;\n",
       "    }\n",
       "\n",
       "    .dataframe thead th {\n",
       "        text-align: right;\n",
       "    }\n",
       "</style>\n",
       "<table border=\"1\" class=\"dataframe\">\n",
       "  <thead>\n",
       "    <tr style=\"text-align: right;\">\n",
       "      <th>Housing Loan</th>\n",
       "      <th>no</th>\n",
       "      <th>yes</th>\n",
       "    </tr>\n",
       "    <tr>\n",
       "      <th>Subscription</th>\n",
       "      <th></th>\n",
       "      <th></th>\n",
       "    </tr>\n",
       "  </thead>\n",
       "  <tbody>\n",
       "    <tr>\n",
       "      <th>0</th>\n",
       "      <td>0.832976</td>\n",
       "      <td>0.923</td>\n",
       "    </tr>\n",
       "    <tr>\n",
       "      <th>1</th>\n",
       "      <td>0.167024</td>\n",
       "      <td>0.077</td>\n",
       "    </tr>\n",
       "  </tbody>\n",
       "</table>\n",
       "</div>"
      ],
      "text/plain": [
       "Housing Loan        no    yes\n",
       "Subscription                 \n",
       "0             0.832976  0.923\n",
       "1             0.167024  0.077"
      ]
     },
     "metadata": {},
     "output_type": "display_data"
    },
    {
     "data": {
      "image/png": "[encoded data removed]",
      "text/plain": [
       "<Figure size 720x360 with 1 Axes>"
      ]
     },
     "metadata": {
      "needs_background": "light"
     },
     "output_type": "display_data"
    }
   ],
   "source": [
    "plotCat('Housing Loan')"
   ]
  },
  {
   "cell_type": "markdown",
   "metadata": {
    "id": "iua_d99RX09h"
   },
   "source": [
    "## Personal Loan\n",
    "\n",
    "Variable que indica si la persona tiene un préstamo personal.\n",
    "\n",
    "* Distribución similar a la anterior."
   ]
  },
  {
   "cell_type": "code",
   "execution_count": 41,
   "metadata": {
    "colab": {
     "base_uri": "https://localhost:8080/",
     "height": 634
    },
    "id": "GwgMz5gCYakx",
    "outputId": "8b715b84-33d8-4d27-ef03-eaad9e7f179b"
   },
   "outputs": [
    {
     "name": "stdout",
     "output_type": "stream",
     "text": [
      "no     0.839774\n",
      "yes    0.160226\n",
      "Name: Personal Loan, dtype: float64\n"
     ]
    },
    {
     "data": {
      "text/html": [
       "<div>\n",
       "<style scoped>\n",
       "    .dataframe tbody tr th:only-of-type {\n",
       "        vertical-align: middle;\n",
       "    }\n",
       "\n",
       "    .dataframe tbody tr th {\n",
       "        vertical-align: top;\n",
       "    }\n",
       "\n",
       "    .dataframe thead th {\n",
       "        text-align: right;\n",
       "    }\n",
       "</style>\n",
       "<table border=\"1\" class=\"dataframe\">\n",
       "  <thead>\n",
       "    <tr style=\"text-align: right;\">\n",
       "      <th>Personal Loan</th>\n",
       "      <th>no</th>\n",
       "      <th>yes</th>\n",
       "    </tr>\n",
       "    <tr>\n",
       "      <th>Subscription</th>\n",
       "      <th></th>\n",
       "      <th></th>\n",
       "    </tr>\n",
       "  </thead>\n",
       "  <tbody>\n",
       "    <tr>\n",
       "      <th>0</th>\n",
       "      <td>33162</td>\n",
       "      <td>6760</td>\n",
       "    </tr>\n",
       "    <tr>\n",
       "      <th>1</th>\n",
       "      <td>4805</td>\n",
       "      <td>484</td>\n",
       "    </tr>\n",
       "  </tbody>\n",
       "</table>\n",
       "</div>"
      ],
      "text/plain": [
       "Personal Loan     no   yes\n",
       "Subscription              \n",
       "0              33162  6760\n",
       "1               4805   484"
      ]
     },
     "metadata": {},
     "output_type": "display_data"
    },
    {
     "data": {
      "text/html": [
       "<div>\n",
       "<style scoped>\n",
       "    .dataframe tbody tr th:only-of-type {\n",
       "        vertical-align: middle;\n",
       "    }\n",
       "\n",
       "    .dataframe tbody tr th {\n",
       "        vertical-align: top;\n",
       "    }\n",
       "\n",
       "    .dataframe thead th {\n",
       "        text-align: right;\n",
       "    }\n",
       "</style>\n",
       "<table border=\"1\" class=\"dataframe\">\n",
       "  <thead>\n",
       "    <tr style=\"text-align: right;\">\n",
       "      <th>Personal Loan</th>\n",
       "      <th>no</th>\n",
       "      <th>yes</th>\n",
       "    </tr>\n",
       "    <tr>\n",
       "      <th>Subscription</th>\n",
       "      <th></th>\n",
       "      <th></th>\n",
       "    </tr>\n",
       "  </thead>\n",
       "  <tbody>\n",
       "    <tr>\n",
       "      <th>0</th>\n",
       "      <td>0.873443</td>\n",
       "      <td>0.933186</td>\n",
       "    </tr>\n",
       "    <tr>\n",
       "      <th>1</th>\n",
       "      <td>0.126557</td>\n",
       "      <td>0.066814</td>\n",
       "    </tr>\n",
       "  </tbody>\n",
       "</table>\n",
       "</div>"
      ],
      "text/plain": [
       "Personal Loan        no       yes\n",
       "Subscription                     \n",
       "0              0.873443  0.933186\n",
       "1              0.126557  0.066814"
      ]
     },
     "metadata": {},
     "output_type": "display_data"
    },
    {
     "data": {
      "image/png": "[encoded data removed]",
      "text/plain": [
       "<Figure size 720x360 with 1 Axes>"
      ]
     },
     "metadata": {
      "needs_background": "light"
     },
     "output_type": "display_data"
    }
   ],
   "source": [
    "plotCat('Personal Loan')"
   ]
  },
  {
   "cell_type": "markdown",
   "metadata": {
    "id": "qnzpA1ItX3a2"
   },
   "source": [
    "## Contact\n",
    "\n",
    "Tipo de contacto vinculado a la **última** comunicación en la campaña **actual**.\n",
    "\n",
    "* Hay una clara diferencia en la categoría **unknown** pero no está clara la interpretación de ese valor faltante."
   ]
  },
  {
   "cell_type": "code",
   "execution_count": 42,
   "metadata": {
    "colab": {
     "base_uri": "https://localhost:8080/",
     "height": 674
    },
    "id": "xcryiiqoYa9Q",
    "outputId": "e4ce2753-cf05-4003-dcea-05535fbd7abb"
   },
   "outputs": [
    {
     "name": "stdout",
     "output_type": "stream",
     "text": [
      "cellular     0.647741\n",
      "unknown      0.287983\n",
      "telephone    0.064276\n",
      "Name: Contact, dtype: float64\n"
     ]
    },
    {
     "data": {
      "text/html": [
       "<div>\n",
       "<style scoped>\n",
       "    .dataframe tbody tr th:only-of-type {\n",
       "        vertical-align: middle;\n",
       "    }\n",
       "\n",
       "    .dataframe tbody tr th {\n",
       "        vertical-align: top;\n",
       "    }\n",
       "\n",
       "    .dataframe thead th {\n",
       "        text-align: right;\n",
       "    }\n",
       "</style>\n",
       "<table border=\"1\" class=\"dataframe\">\n",
       "  <thead>\n",
       "    <tr style=\"text-align: right;\">\n",
       "      <th>Contact</th>\n",
       "      <th>cellular</th>\n",
       "      <th>telephone</th>\n",
       "      <th>unknown</th>\n",
       "    </tr>\n",
       "    <tr>\n",
       "      <th>Subscription</th>\n",
       "      <th></th>\n",
       "      <th></th>\n",
       "      <th></th>\n",
       "    </tr>\n",
       "  </thead>\n",
       "  <tbody>\n",
       "    <tr>\n",
       "      <th>0</th>\n",
       "      <td>24916</td>\n",
       "      <td>2516</td>\n",
       "      <td>12490</td>\n",
       "    </tr>\n",
       "    <tr>\n",
       "      <th>1</th>\n",
       "      <td>4369</td>\n",
       "      <td>390</td>\n",
       "      <td>530</td>\n",
       "    </tr>\n",
       "  </tbody>\n",
       "</table>\n",
       "</div>"
      ],
      "text/plain": [
       "Contact       cellular  telephone  unknown\n",
       "Subscription                              \n",
       "0                24916       2516    12490\n",
       "1                 4369        390      530"
      ]
     },
     "metadata": {},
     "output_type": "display_data"
    },
    {
     "data": {
      "text/html": [
       "<div>\n",
       "<style scoped>\n",
       "    .dataframe tbody tr th:only-of-type {\n",
       "        vertical-align: middle;\n",
       "    }\n",
       "\n",
       "    .dataframe tbody tr th {\n",
       "        vertical-align: top;\n",
       "    }\n",
       "\n",
       "    .dataframe thead th {\n",
       "        text-align: right;\n",
       "    }\n",
       "</style>\n",
       "<table border=\"1\" class=\"dataframe\">\n",
       "  <thead>\n",
       "    <tr style=\"text-align: right;\">\n",
       "      <th>Contact</th>\n",
       "      <th>cellular</th>\n",
       "      <th>telephone</th>\n",
       "      <th>unknown</th>\n",
       "    </tr>\n",
       "    <tr>\n",
       "      <th>Subscription</th>\n",
       "      <th></th>\n",
       "      <th></th>\n",
       "      <th></th>\n",
       "    </tr>\n",
       "  </thead>\n",
       "  <tbody>\n",
       "    <tr>\n",
       "      <th>0</th>\n",
       "      <td>0.850811</td>\n",
       "      <td>0.865795</td>\n",
       "      <td>0.959293</td>\n",
       "    </tr>\n",
       "    <tr>\n",
       "      <th>1</th>\n",
       "      <td>0.149189</td>\n",
       "      <td>0.134205</td>\n",
       "      <td>0.040707</td>\n",
       "    </tr>\n",
       "  </tbody>\n",
       "</table>\n",
       "</div>"
      ],
      "text/plain": [
       "Contact       cellular  telephone   unknown\n",
       "Subscription                               \n",
       "0             0.850811   0.865795  0.959293\n",
       "1             0.149189   0.134205  0.040707"
      ]
     },
     "metadata": {},
     "output_type": "display_data"
    },
    {
     "data": {
      "image/png": "[encoded data removed]",
      "text/plain": [
       "<Figure size 720x360 with 1 Axes>"
      ]
     },
     "metadata": {
      "needs_background": "light"
     },
     "output_type": "display_data"
    }
   ],
   "source": [
    "plotCat('Contact')"
   ]
  },
  {
   "cell_type": "markdown",
   "metadata": {
    "id": "xLIt0gYY4FEw"
   },
   "source": [
    "Vemos que prácticamente todas las observaciones tienen duración de último contacto, por lo que hubo un contacto pero no se conoce por qué vía se dio."
   ]
  },
  {
   "cell_type": "code",
   "execution_count": 43,
   "metadata": {
    "colab": {
     "base_uri": "https://localhost:8080/",
     "height": 143
    },
    "id": "lId2E14c2pU0",
    "outputId": "55074b38-76b8-4f0c-a5a0-dc59505b4b26"
   },
   "outputs": [
    {
     "data": {
      "text/html": [
       "<div>\n",
       "<style scoped>\n",
       "    .dataframe tbody tr th:only-of-type {\n",
       "        vertical-align: middle;\n",
       "    }\n",
       "\n",
       "    .dataframe tbody tr th {\n",
       "        vertical-align: top;\n",
       "    }\n",
       "\n",
       "    .dataframe thead th {\n",
       "        text-align: right;\n",
       "    }\n",
       "</style>\n",
       "<table border=\"1\" class=\"dataframe\">\n",
       "  <thead>\n",
       "    <tr style=\"text-align: right;\">\n",
       "      <th>Contact</th>\n",
       "      <th>False</th>\n",
       "      <th>True</th>\n",
       "    </tr>\n",
       "    <tr>\n",
       "      <th>Last Contact Duration</th>\n",
       "      <th></th>\n",
       "      <th></th>\n",
       "    </tr>\n",
       "  </thead>\n",
       "  <tbody>\n",
       "    <tr>\n",
       "      <th>False</th>\n",
       "      <td>32189</td>\n",
       "      <td>13019</td>\n",
       "    </tr>\n",
       "    <tr>\n",
       "      <th>True</th>\n",
       "      <td>2</td>\n",
       "      <td>1</td>\n",
       "    </tr>\n",
       "  </tbody>\n",
       "</table>\n",
       "</div>"
      ],
      "text/plain": [
       "Contact                False  True \n",
       "Last Contact Duration              \n",
       "False                  32189  13019\n",
       "True                       2      1"
      ]
     },
     "execution_count": 43,
     "metadata": {},
     "output_type": "execute_result"
    }
   ],
   "source": [
    "pd.crosstab(index=data[\"Last Contact Duration\"]==0, columns=data[\"Contact\"] == 'unknown')"
   ]
  },
  {
   "cell_type": "markdown",
   "metadata": {
    "id": "rFfDrShxX5-Q"
   },
   "source": [
    "## Last Contact Day\n",
    "\n",
    "Último día de contacto en la campaña **actual** para el mes indicado."
   ]
  },
  {
   "cell_type": "code",
   "execution_count": 44,
   "metadata": {
    "colab": {
     "base_uri": "https://localhost:8080/",
     "height": 839
    },
    "id": "fJcK4RG1YbQo",
    "outputId": "eb6bb3a6-4330-49c4-8285-14d491332ce4"
   },
   "outputs": [
    {
     "name": "stdout",
     "output_type": "stream",
     "text": [
      "count    45211.000000\n",
      "mean        15.806419\n",
      "std          8.322476\n",
      "min          1.000000\n",
      "25%          8.000000\n",
      "50%         16.000000\n",
      "75%         21.000000\n",
      "max         31.000000\n",
      "Name: Last Contact Day, dtype: float64\n"
     ]
    },
    {
     "data": {
      "image/png": "[encoded data removed]",
      "text/plain": [
       "<Figure size 720x360 with 1 Axes>"
      ]
     },
     "metadata": {
      "needs_background": "light"
     },
     "output_type": "display_data"
    },
    {
     "data": {
      "image/png": "[encoded data removed]",
      "text/plain": [
       "<Figure size 720x360 with 1 Axes>"
      ]
     },
     "metadata": {
      "needs_background": "light"
     },
     "output_type": "display_data"
    }
   ],
   "source": [
    "plotCont('Last Contact Day')"
   ]
  },
  {
   "cell_type": "code",
   "execution_count": 45,
   "metadata": {
    "colab": {
     "base_uri": "https://localhost:8080/",
     "height": 338
    },
    "id": "Nzdy9HRo5bBR",
    "outputId": "e76037dc-88af-49a7-86d7-efc23cb20fa0"
   },
   "outputs": [
    {
     "data": {
      "image/png": "[encoded data removed]",
      "text/plain": [
       "<Figure size 720x360 with 1 Axes>"
      ]
     },
     "metadata": {
      "needs_background": "light"
     },
     "output_type": "display_data"
    }
   ],
   "source": [
    "plt.figure(figsize = (10, 5))\n",
    "sns.histplot(data=data,\n",
    "             x = \"Last Contact Day\",\n",
    "             hue = \"Subscription\",\n",
    "             multiple = \"fill\")\n",
    "plt.show()"
   ]
  },
  {
   "cell_type": "markdown",
   "metadata": {
    "id": "yVeDSKUzy6aX"
   },
   "source": [
    "Podemos ver si hay influencia de la semana del mes de contacto. Vemos una menor efectividad en la tercera semana del mes."
   ]
  },
  {
   "cell_type": "code",
   "execution_count": 46,
   "metadata": {
    "colab": {
     "base_uri": "https://localhost:8080/",
     "height": 143
    },
    "id": "2IYMByoUy4xp",
    "outputId": "90bcd041-8087-48ed-aaac-d3687223f8e6"
   },
   "outputs": [
    {
     "data": {
      "text/html": [
       "<div>\n",
       "<style scoped>\n",
       "    .dataframe tbody tr th:only-of-type {\n",
       "        vertical-align: middle;\n",
       "    }\n",
       "\n",
       "    .dataframe tbody tr th {\n",
       "        vertical-align: top;\n",
       "    }\n",
       "\n",
       "    .dataframe thead th {\n",
       "        text-align: right;\n",
       "    }\n",
       "</style>\n",
       "<table border=\"1\" class=\"dataframe\">\n",
       "  <thead>\n",
       "    <tr style=\"text-align: right;\">\n",
       "      <th>Last Contact Day</th>\n",
       "      <th>(0, 7]</th>\n",
       "      <th>(7, 14]</th>\n",
       "      <th>(14, 21]</th>\n",
       "      <th>(21, 31]</th>\n",
       "    </tr>\n",
       "    <tr>\n",
       "      <th>Subscription</th>\n",
       "      <th></th>\n",
       "      <th></th>\n",
       "      <th></th>\n",
       "      <th></th>\n",
       "    </tr>\n",
       "  </thead>\n",
       "  <tbody>\n",
       "    <tr>\n",
       "      <th>0</th>\n",
       "      <td>0.874158</td>\n",
       "      <td>0.868129</td>\n",
       "      <td>0.90295</td>\n",
       "      <td>0.879866</td>\n",
       "    </tr>\n",
       "    <tr>\n",
       "      <th>1</th>\n",
       "      <td>0.125842</td>\n",
       "      <td>0.131871</td>\n",
       "      <td>0.09705</td>\n",
       "      <td>0.120134</td>\n",
       "    </tr>\n",
       "  </tbody>\n",
       "</table>\n",
       "</div>"
      ],
      "text/plain": [
       "Last Contact Day    (0, 7]   (7, 14]  (14, 21]  (21, 31]\n",
       "Subscription                                            \n",
       "0                 0.874158  0.868129   0.90295  0.879866\n",
       "1                 0.125842  0.131871   0.09705  0.120134"
      ]
     },
     "execution_count": 46,
     "metadata": {},
     "output_type": "execute_result"
    }
   ],
   "source": [
    "last_contact_day_cut = pd.cut(data[\"Last Contact Day\"], bins=[0, 7, 14, 21, 31])\n",
    "pd.crosstab(index = data[\"Subscription\"],\n",
    "            columns = last_contact_day_cut, normalize='columns')"
   ]
  },
  {
   "cell_type": "code",
   "execution_count": 47,
   "metadata": {
    "id": "NhOZRpnAjBib"
   },
   "outputs": [],
   "source": [
    "data[\"Last Contact Day_cat\"] = pd.cut(data[\"Last Contact Day\"], bins=[0, 7, 14, 21, 31])"
   ]
  },
  {
   "cell_type": "markdown",
   "metadata": {
    "id": "M9yFlU_-Ys7G"
   },
   "source": [
    "## Last Contact Month\n",
    "\n",
    "Mes del último contacto en la campaña **actual**.\n",
    "\n",
    "* Los meses de menor frecuencia tienen una distribución de la variable respuesta muy diferente.\n",
    "\n",
    "* Se podría agrupar las últimas frecuencias en una categoría *otros*."
   ]
  },
  {
   "cell_type": "code",
   "execution_count": 48,
   "metadata": {
    "colab": {
     "base_uri": "https://localhost:8080/",
     "height": 811
    },
    "id": "nVn8yk1SYx0Q",
    "outputId": "ca2947eb-80ef-4727-d54d-b9d6d7aa381e"
   },
   "outputs": [
    {
     "name": "stdout",
     "output_type": "stream",
     "text": [
      "may    0.304483\n",
      "jul    0.152507\n",
      "aug    0.138174\n",
      "jun    0.118135\n",
      "nov    0.087810\n",
      "apr    0.064851\n",
      "feb    0.058592\n",
      "jan    0.031032\n",
      "oct    0.016323\n",
      "sep    0.012807\n",
      "mar    0.010551\n",
      "dec    0.004733\n",
      "Name: Last Contact Month, dtype: float64\n"
     ]
    },
    {
     "data": {
      "text/html": [
       "<div>\n",
       "<style scoped>\n",
       "    .dataframe tbody tr th:only-of-type {\n",
       "        vertical-align: middle;\n",
       "    }\n",
       "\n",
       "    .dataframe tbody tr th {\n",
       "        vertical-align: top;\n",
       "    }\n",
       "\n",
       "    .dataframe thead th {\n",
       "        text-align: right;\n",
       "    }\n",
       "</style>\n",
       "<table border=\"1\" class=\"dataframe\">\n",
       "  <thead>\n",
       "    <tr style=\"text-align: right;\">\n",
       "      <th>Last Contact Month</th>\n",
       "      <th>apr</th>\n",
       "      <th>aug</th>\n",
       "      <th>dec</th>\n",
       "      <th>feb</th>\n",
       "      <th>jan</th>\n",
       "      <th>jul</th>\n",
       "      <th>jun</th>\n",
       "      <th>mar</th>\n",
       "      <th>may</th>\n",
       "      <th>nov</th>\n",
       "      <th>oct</th>\n",
       "      <th>sep</th>\n",
       "    </tr>\n",
       "    <tr>\n",
       "      <th>Subscription</th>\n",
       "      <th></th>\n",
       "      <th></th>\n",
       "      <th></th>\n",
       "      <th></th>\n",
       "      <th></th>\n",
       "      <th></th>\n",
       "      <th></th>\n",
       "      <th></th>\n",
       "      <th></th>\n",
       "      <th></th>\n",
       "      <th></th>\n",
       "      <th></th>\n",
       "    </tr>\n",
       "  </thead>\n",
       "  <tbody>\n",
       "    <tr>\n",
       "      <th>0</th>\n",
       "      <td>2355</td>\n",
       "      <td>5559</td>\n",
       "      <td>114</td>\n",
       "      <td>2208</td>\n",
       "      <td>1261</td>\n",
       "      <td>6268</td>\n",
       "      <td>4795</td>\n",
       "      <td>229</td>\n",
       "      <td>12841</td>\n",
       "      <td>3567</td>\n",
       "      <td>415</td>\n",
       "      <td>310</td>\n",
       "    </tr>\n",
       "    <tr>\n",
       "      <th>1</th>\n",
       "      <td>577</td>\n",
       "      <td>688</td>\n",
       "      <td>100</td>\n",
       "      <td>441</td>\n",
       "      <td>142</td>\n",
       "      <td>627</td>\n",
       "      <td>546</td>\n",
       "      <td>248</td>\n",
       "      <td>925</td>\n",
       "      <td>403</td>\n",
       "      <td>323</td>\n",
       "      <td>269</td>\n",
       "    </tr>\n",
       "  </tbody>\n",
       "</table>\n",
       "</div>"
      ],
      "text/plain": [
       "Last Contact Month   apr   aug  dec   feb   jan   jul   jun  mar    may   nov  \\\n",
       "Subscription                                                                    \n",
       "0                   2355  5559  114  2208  1261  6268  4795  229  12841  3567   \n",
       "1                    577   688  100   441   142   627   546  248    925   403   \n",
       "\n",
       "Last Contact Month  oct  sep  \n",
       "Subscription                  \n",
       "0                   415  310  \n",
       "1                   323  269  "
      ]
     },
     "metadata": {},
     "output_type": "display_data"
    },
    {
     "data": {
      "text/html": [
       "<div>\n",
       "<style scoped>\n",
       "    .dataframe tbody tr th:only-of-type {\n",
       "        vertical-align: middle;\n",
       "    }\n",
       "\n",
       "    .dataframe tbody tr th {\n",
       "        vertical-align: top;\n",
       "    }\n",
       "\n",
       "    .dataframe thead th {\n",
       "        text-align: right;\n",
       "    }\n",
       "</style>\n",
       "<table border=\"1\" class=\"dataframe\">\n",
       "  <thead>\n",
       "    <tr style=\"text-align: right;\">\n",
       "      <th>Last Contact Month</th>\n",
       "      <th>apr</th>\n",
       "      <th>aug</th>\n",
       "      <th>dec</th>\n",
       "      <th>feb</th>\n",
       "      <th>jan</th>\n",
       "      <th>jul</th>\n",
       "      <th>jun</th>\n",
       "      <th>mar</th>\n",
       "      <th>may</th>\n",
       "      <th>nov</th>\n",
       "      <th>oct</th>\n",
       "      <th>sep</th>\n",
       "    </tr>\n",
       "    <tr>\n",
       "      <th>Subscription</th>\n",
       "      <th></th>\n",
       "      <th></th>\n",
       "      <th></th>\n",
       "      <th></th>\n",
       "      <th></th>\n",
       "      <th></th>\n",
       "      <th></th>\n",
       "      <th></th>\n",
       "      <th></th>\n",
       "      <th></th>\n",
       "      <th></th>\n",
       "      <th></th>\n",
       "    </tr>\n",
       "  </thead>\n",
       "  <tbody>\n",
       "    <tr>\n",
       "      <th>0</th>\n",
       "      <td>0.803206</td>\n",
       "      <td>0.889867</td>\n",
       "      <td>0.53271</td>\n",
       "      <td>0.833522</td>\n",
       "      <td>0.898788</td>\n",
       "      <td>0.909065</td>\n",
       "      <td>0.897772</td>\n",
       "      <td>0.480084</td>\n",
       "      <td>0.932805</td>\n",
       "      <td>0.898489</td>\n",
       "      <td>0.562331</td>\n",
       "      <td>0.535406</td>\n",
       "    </tr>\n",
       "    <tr>\n",
       "      <th>1</th>\n",
       "      <td>0.196794</td>\n",
       "      <td>0.110133</td>\n",
       "      <td>0.46729</td>\n",
       "      <td>0.166478</td>\n",
       "      <td>0.101212</td>\n",
       "      <td>0.090935</td>\n",
       "      <td>0.102228</td>\n",
       "      <td>0.519916</td>\n",
       "      <td>0.067195</td>\n",
       "      <td>0.101511</td>\n",
       "      <td>0.437669</td>\n",
       "      <td>0.464594</td>\n",
       "    </tr>\n",
       "  </tbody>\n",
       "</table>\n",
       "</div>"
      ],
      "text/plain": [
       "Last Contact Month       apr       aug      dec       feb       jan       jul  \\\n",
       "Subscription                                                                    \n",
       "0                   0.803206  0.889867  0.53271  0.833522  0.898788  0.909065   \n",
       "1                   0.196794  0.110133  0.46729  0.166478  0.101212  0.090935   \n",
       "\n",
       "Last Contact Month       jun       mar       may       nov       oct       sep  \n",
       "Subscription                                                                    \n",
       "0                   0.897772  0.480084  0.932805  0.898489  0.562331  0.535406  \n",
       "1                   0.102228  0.519916  0.067195  0.101511  0.437669  0.464594  "
      ]
     },
     "metadata": {},
     "output_type": "display_data"
    },
    {
     "data": {
      "image/png": "[encoded data removed]",
      "text/plain": [
       "<Figure size 720x360 with 1 Axes>"
      ]
     },
     "metadata": {
      "needs_background": "light"
     },
     "output_type": "display_data"
    }
   ],
   "source": [
    "plotCat('Last Contact Month')"
   ]
  },
  {
   "cell_type": "markdown",
   "metadata": {
    "id": "-yqfcXuy-F7N"
   },
   "source": [
    "Agrupamos los meses de menor frecuencia en la categoría otros."
   ]
  },
  {
   "cell_type": "code",
   "execution_count": 49,
   "metadata": {
    "id": "2Zra2sA575rJ"
   },
   "outputs": [],
   "source": [
    "other_months = [\"oct\", \"sep\", \"mar\", \"dec\"]\n",
    "data[\"Last Contact Month\"] = data[\"Last Contact Month\"].mask(data[\"Last Contact Month\"].isin(other_months), 'other')"
   ]
  },
  {
   "cell_type": "code",
   "execution_count": 50,
   "metadata": {
    "colab": {
     "base_uri": "https://localhost:8080/",
     "height": 763
    },
    "id": "HHKzVajw-P20",
    "outputId": "a29c43a4-1743-4ebc-801c-9a40af044ad3"
   },
   "outputs": [
    {
     "name": "stdout",
     "output_type": "stream",
     "text": [
      "may      0.304483\n",
      "jul      0.152507\n",
      "aug      0.138174\n",
      "jun      0.118135\n",
      "nov      0.087810\n",
      "apr      0.064851\n",
      "feb      0.058592\n",
      "other    0.044414\n",
      "jan      0.031032\n",
      "Name: Last Contact Month, dtype: float64\n"
     ]
    },
    {
     "data": {
      "text/html": [
       "<div>\n",
       "<style scoped>\n",
       "    .dataframe tbody tr th:only-of-type {\n",
       "        vertical-align: middle;\n",
       "    }\n",
       "\n",
       "    .dataframe tbody tr th {\n",
       "        vertical-align: top;\n",
       "    }\n",
       "\n",
       "    .dataframe thead th {\n",
       "        text-align: right;\n",
       "    }\n",
       "</style>\n",
       "<table border=\"1\" class=\"dataframe\">\n",
       "  <thead>\n",
       "    <tr style=\"text-align: right;\">\n",
       "      <th>Last Contact Month</th>\n",
       "      <th>apr</th>\n",
       "      <th>aug</th>\n",
       "      <th>feb</th>\n",
       "      <th>jan</th>\n",
       "      <th>jul</th>\n",
       "      <th>jun</th>\n",
       "      <th>may</th>\n",
       "      <th>nov</th>\n",
       "      <th>other</th>\n",
       "    </tr>\n",
       "    <tr>\n",
       "      <th>Subscription</th>\n",
       "      <th></th>\n",
       "      <th></th>\n",
       "      <th></th>\n",
       "      <th></th>\n",
       "      <th></th>\n",
       "      <th></th>\n",
       "      <th></th>\n",
       "      <th></th>\n",
       "      <th></th>\n",
       "    </tr>\n",
       "  </thead>\n",
       "  <tbody>\n",
       "    <tr>\n",
       "      <th>0</th>\n",
       "      <td>2355</td>\n",
       "      <td>5559</td>\n",
       "      <td>2208</td>\n",
       "      <td>1261</td>\n",
       "      <td>6268</td>\n",
       "      <td>4795</td>\n",
       "      <td>12841</td>\n",
       "      <td>3567</td>\n",
       "      <td>1068</td>\n",
       "    </tr>\n",
       "    <tr>\n",
       "      <th>1</th>\n",
       "      <td>577</td>\n",
       "      <td>688</td>\n",
       "      <td>441</td>\n",
       "      <td>142</td>\n",
       "      <td>627</td>\n",
       "      <td>546</td>\n",
       "      <td>925</td>\n",
       "      <td>403</td>\n",
       "      <td>940</td>\n",
       "    </tr>\n",
       "  </tbody>\n",
       "</table>\n",
       "</div>"
      ],
      "text/plain": [
       "Last Contact Month   apr   aug   feb   jan   jul   jun    may   nov  other\n",
       "Subscription                                                              \n",
       "0                   2355  5559  2208  1261  6268  4795  12841  3567   1068\n",
       "1                    577   688   441   142   627   546    925   403    940"
      ]
     },
     "metadata": {},
     "output_type": "display_data"
    },
    {
     "data": {
      "text/html": [
       "<div>\n",
       "<style scoped>\n",
       "    .dataframe tbody tr th:only-of-type {\n",
       "        vertical-align: middle;\n",
       "    }\n",
       "\n",
       "    .dataframe tbody tr th {\n",
       "        vertical-align: top;\n",
       "    }\n",
       "\n",
       "    .dataframe thead th {\n",
       "        text-align: right;\n",
       "    }\n",
       "</style>\n",
       "<table border=\"1\" class=\"dataframe\">\n",
       "  <thead>\n",
       "    <tr style=\"text-align: right;\">\n",
       "      <th>Last Contact Month</th>\n",
       "      <th>apr</th>\n",
       "      <th>aug</th>\n",
       "      <th>feb</th>\n",
       "      <th>jan</th>\n",
       "      <th>jul</th>\n",
       "      <th>jun</th>\n",
       "      <th>may</th>\n",
       "      <th>nov</th>\n",
       "      <th>other</th>\n",
       "    </tr>\n",
       "    <tr>\n",
       "      <th>Subscription</th>\n",
       "      <th></th>\n",
       "      <th></th>\n",
       "      <th></th>\n",
       "      <th></th>\n",
       "      <th></th>\n",
       "      <th></th>\n",
       "      <th></th>\n",
       "      <th></th>\n",
       "      <th></th>\n",
       "    </tr>\n",
       "  </thead>\n",
       "  <tbody>\n",
       "    <tr>\n",
       "      <th>0</th>\n",
       "      <td>0.803206</td>\n",
       "      <td>0.889867</td>\n",
       "      <td>0.833522</td>\n",
       "      <td>0.898788</td>\n",
       "      <td>0.909065</td>\n",
       "      <td>0.897772</td>\n",
       "      <td>0.932805</td>\n",
       "      <td>0.898489</td>\n",
       "      <td>0.531873</td>\n",
       "    </tr>\n",
       "    <tr>\n",
       "      <th>1</th>\n",
       "      <td>0.196794</td>\n",
       "      <td>0.110133</td>\n",
       "      <td>0.166478</td>\n",
       "      <td>0.101212</td>\n",
       "      <td>0.090935</td>\n",
       "      <td>0.102228</td>\n",
       "      <td>0.067195</td>\n",
       "      <td>0.101511</td>\n",
       "      <td>0.468127</td>\n",
       "    </tr>\n",
       "  </tbody>\n",
       "</table>\n",
       "</div>"
      ],
      "text/plain": [
       "Last Contact Month       apr       aug       feb       jan       jul  \\\n",
       "Subscription                                                           \n",
       "0                   0.803206  0.889867  0.833522  0.898788  0.909065   \n",
       "1                   0.196794  0.110133  0.166478  0.101212  0.090935   \n",
       "\n",
       "Last Contact Month       jun       may       nov     other  \n",
       "Subscription                                                \n",
       "0                   0.897772  0.932805  0.898489  0.531873  \n",
       "1                   0.102228  0.067195  0.101511  0.468127  "
      ]
     },
     "metadata": {},
     "output_type": "display_data"
    },
    {
     "data": {
      "image/png": "[encoded data removed]",
      "text/plain": [
       "<Figure size 720x360 with 1 Axes>"
      ]
     },
     "metadata": {
      "needs_background": "light"
     },
     "output_type": "display_data"
    }
   ],
   "source": [
    "plotCat('Last Contact Month')"
   ]
  },
  {
   "cell_type": "markdown",
   "metadata": {
    "id": "-z04aCLPX8c0"
   },
   "source": [
    "## Last Contact Duration\n",
    "\n",
    "Duración del último contacto en la campaña **actual**.\n",
    "\n",
    "* Vemos un cambio en la distribución para los casos donde hubo suscripción. \n",
    "\n",
    "A mayor duración del último contacto claramente vemos un aumento en la proporción de éxito en la campaña."
   ]
  },
  {
   "cell_type": "code",
   "execution_count": 51,
   "metadata": {
    "colab": {
     "base_uri": "https://localhost:8080/",
     "height": 839
    },
    "id": "QC0EbB8dYbjQ",
    "outputId": "8ad80d34-c489-4c39-bf56-3d96255bc42f"
   },
   "outputs": [
    {
     "name": "stdout",
     "output_type": "stream",
     "text": [
      "count    45211.000000\n",
      "mean       258.163080\n",
      "std        257.527812\n",
      "min          0.000000\n",
      "25%        103.000000\n",
      "50%        180.000000\n",
      "75%        319.000000\n",
      "max       4918.000000\n",
      "Name: Last Contact Duration, dtype: float64\n"
     ]
    },
    {
     "data": {
      "image/png": "[encoded data removed]",
      "text/plain": [
       "<Figure size 720x360 with 1 Axes>"
      ]
     },
     "metadata": {
      "needs_background": "light"
     },
     "output_type": "display_data"
    },
    {
     "data": {
      "image/png": "[encoded data removed]",
      "text/plain": [
       "<Figure size 720x360 with 1 Axes>"
      ]
     },
     "metadata": {
      "needs_background": "light"
     },
     "output_type": "display_data"
    }
   ],
   "source": [
    "plotCont('Last Contact Duration')"
   ]
  },
  {
   "cell_type": "code",
   "execution_count": 52,
   "metadata": {
    "colab": {
     "base_uri": "https://localhost:8080/",
     "height": 1000
    },
    "id": "8Vq2h1DQ85FE",
    "outputId": "dac9be8d-6281-4c79-a02d-476b02ce6237"
   },
   "outputs": [
    {
     "data": {
      "image/png": "[encoded data removed]",
      "text/plain": [
       "<Figure size 720x576 with 1 Axes>"
      ]
     },
     "metadata": {
      "needs_background": "light"
     },
     "output_type": "display_data"
    },
    {
     "data": {
      "image/png": "[encoded data removed]",
      "text/plain": [
       "<Figure size 720x576 with 1 Axes>"
      ]
     },
     "metadata": {
      "needs_background": "light"
     },
     "output_type": "display_data"
    }
   ],
   "source": [
    "plt.figure(figsize=(10,8))\n",
    "sns.histplot(x=np.log10(data[\"Last Contact Duration\"]+0.01), hue = data[\"Subscription\"])\n",
    "plt.show()\n",
    "\n",
    "plt.figure(figsize=(10,8))\n",
    "sns.histplot(x=np.log10(data[\"Last Contact Duration\"]+0.01), hue = data[\"Subscription\"], multiple = 'fill')\n",
    "plt.show()"
   ]
  },
  {
   "cell_type": "markdown",
   "metadata": {
    "id": "shAo-9BrYDiY"
   },
   "source": [
    "## Campaign\n",
    "\n",
    "Número de contactos en la campaña **actual** para ese cliente. \n",
    "\n",
    "* Vemos que a mayor cantidad de contactos menor proporción de éxito en la campaña."
   ]
  },
  {
   "cell_type": "code",
   "execution_count": 53,
   "metadata": {
    "colab": {
     "base_uri": "https://localhost:8080/",
     "height": 839
    },
    "id": "vB2AW5ztYb_B",
    "outputId": "036ea79b-b08a-48c6-c343-bbfad1bd41ef"
   },
   "outputs": [
    {
     "name": "stdout",
     "output_type": "stream",
     "text": [
      "count    45211.000000\n",
      "mean         2.763841\n",
      "std          3.098021\n",
      "min          1.000000\n",
      "25%          1.000000\n",
      "50%          2.000000\n",
      "75%          3.000000\n",
      "max         63.000000\n",
      "Name: Campaign, dtype: float64\n"
     ]
    },
    {
     "data": {
      "image/png": "[encoded data removed]",
      "text/plain": [
       "<Figure size 720x360 with 1 Axes>"
      ]
     },
     "metadata": {
      "needs_background": "light"
     },
     "output_type": "display_data"
    },
    {
     "data": {
      "image/png": "[encoded data removed]",
      "text/plain": [
       "<Figure size 720x360 with 1 Axes>"
      ]
     },
     "metadata": {
      "needs_background": "light"
     },
     "output_type": "display_data"
    }
   ],
   "source": [
    "plotCont('Campaign', log=False)"
   ]
  },
  {
   "cell_type": "code",
   "execution_count": 54,
   "metadata": {
    "colab": {
     "base_uri": "https://localhost:8080/",
     "height": 501
    },
    "id": "3pUikHKEBvLU",
    "outputId": "8c082a17-a408-42bf-e182-6a02bd97cb78"
   },
   "outputs": [
    {
     "data": {
      "image/png": "[encoded data removed]",
      "text/plain": [
       "<Figure size 720x576 with 1 Axes>"
      ]
     },
     "metadata": {
      "needs_background": "light"
     },
     "output_type": "display_data"
    }
   ],
   "source": [
    "plt.figure(figsize=(10,8))\n",
    "sns.histplot(x=np.log10(data[\"Campaign\"]), hue = data[\"Subscription\"], multiple = 'fill')\n",
    "plt.show()"
   ]
  },
  {
   "cell_type": "markdown",
   "metadata": {
    "id": "8CyYQBzUFv94"
   },
   "source": [
    "# Variables P - Campañas Anteriores\n",
    "\n",
    "Estas variables tienen una alta cantidad de valores faltantes porque la gran mayoria de los clientes de la campaña actual no participaron de campañas anteriores. \n",
    "\n",
    "Es importante remarcar que tiene demasiados valores faltantes para utilizarlas pero que aportan información importante, por lo que más adelante mostraremos cómo incluirlas en el análisis."
   ]
  },
  {
   "cell_type": "markdown",
   "metadata": {
    "id": "TxqqB0fOYH5A"
   },
   "source": [
    "### Pdays"
   ]
  },
  {
   "cell_type": "code",
   "execution_count": 55,
   "metadata": {
    "colab": {
     "base_uri": "https://localhost:8080/",
     "height": 839
    },
    "id": "RW6ysl4pYcfK",
    "outputId": "c121ef88-387a-4b1d-d69f-e128718c1ab8"
   },
   "outputs": [
    {
     "name": "stdout",
     "output_type": "stream",
     "text": [
      "count    45211.000000\n",
      "mean        40.197828\n",
      "std        100.128746\n",
      "min         -1.000000\n",
      "25%         -1.000000\n",
      "50%         -1.000000\n",
      "75%         -1.000000\n",
      "max        871.000000\n",
      "Name: Pdays, dtype: float64\n"
     ]
    },
    {
     "data": {
      "image/png": "[encoded data removed]",
      "text/plain": [
       "<Figure size 720x360 with 1 Axes>"
      ]
     },
     "metadata": {
      "needs_background": "light"
     },
     "output_type": "display_data"
    },
    {
     "data": {
      "image/png": "[encoded data removed]",
      "text/plain": [
       "<Figure size 720x360 with 1 Axes>"
      ]
     },
     "metadata": {
      "needs_background": "light"
     },
     "output_type": "display_data"
    }
   ],
   "source": [
    "plotCont('Pdays')"
   ]
  },
  {
   "cell_type": "markdown",
   "metadata": {
    "id": "IKVscGT1YLrq"
   },
   "source": [
    "### Previous"
   ]
  },
  {
   "cell_type": "code",
   "execution_count": 56,
   "metadata": {
    "colab": {
     "base_uri": "https://localhost:8080/",
     "height": 839
    },
    "id": "upDeI02mYdsy",
    "outputId": "33999e38-b733-4ec6-afa6-8eac447fd54b"
   },
   "outputs": [
    {
     "name": "stdout",
     "output_type": "stream",
     "text": [
      "count    45211.000000\n",
      "mean         0.580323\n",
      "std          2.303441\n",
      "min          0.000000\n",
      "25%          0.000000\n",
      "50%          0.000000\n",
      "75%          0.000000\n",
      "max        275.000000\n",
      "Name: Previous, dtype: float64\n"
     ]
    },
    {
     "data": {
      "image/png": "[encoded data removed]",
      "text/plain": [
       "<Figure size 720x360 with 1 Axes>"
      ]
     },
     "metadata": {
      "needs_background": "light"
     },
     "output_type": "display_data"
    },
    {
     "data": {
      "image/png": "[encoded data removed]",
      "text/plain": [
       "<Figure size 720x360 with 1 Axes>"
      ]
     },
     "metadata": {
      "needs_background": "light"
     },
     "output_type": "display_data"
    }
   ],
   "source": [
    "plotCont('Previous')"
   ]
  },
  {
   "cell_type": "markdown",
   "metadata": {
    "id": "U_2bO4ozYO85"
   },
   "source": [
    "### Poutcome\n",
    "\n",
    "El 80% de los datos son faltantes porque los clientes no participaron de campañas anteriores.\n",
    "\n",
    "Vemos que esta variable resulta importante, dependiendo del resultado de la campaña anterior vemos que hay una variación en la proporción respecto a la variable respuesta."
   ]
  },
  {
   "cell_type": "code",
   "execution_count": 57,
   "metadata": {
    "colab": {
     "base_uri": "https://localhost:8080/",
     "height": 143
    },
    "id": "yTC4y_4alznw",
    "outputId": "089f72c1-0aff-4ab3-a5e1-f6791bf073cb"
   },
   "outputs": [
    {
     "data": {
      "text/html": [
       "<div>\n",
       "<style scoped>\n",
       "    .dataframe tbody tr th:only-of-type {\n",
       "        vertical-align: middle;\n",
       "    }\n",
       "\n",
       "    .dataframe tbody tr th {\n",
       "        vertical-align: top;\n",
       "    }\n",
       "\n",
       "    .dataframe thead th {\n",
       "        text-align: right;\n",
       "    }\n",
       "</style>\n",
       "<table border=\"1\" class=\"dataframe\">\n",
       "  <thead>\n",
       "    <tr style=\"text-align: right;\">\n",
       "      <th>Subscription</th>\n",
       "      <th>0</th>\n",
       "      <th>1</th>\n",
       "    </tr>\n",
       "    <tr>\n",
       "      <th>Poutcome</th>\n",
       "      <th></th>\n",
       "      <th></th>\n",
       "    </tr>\n",
       "  </thead>\n",
       "  <tbody>\n",
       "    <tr>\n",
       "      <th>False</th>\n",
       "      <td>0.769389</td>\n",
       "      <td>0.230611</td>\n",
       "    </tr>\n",
       "    <tr>\n",
       "      <th>True</th>\n",
       "      <td>0.908385</td>\n",
       "      <td>0.091615</td>\n",
       "    </tr>\n",
       "  </tbody>\n",
       "</table>\n",
       "</div>"
      ],
      "text/plain": [
       "Subscription         0         1\n",
       "Poutcome                        \n",
       "False         0.769389  0.230611\n",
       "True          0.908385  0.091615"
      ]
     },
     "execution_count": 57,
     "metadata": {},
     "output_type": "execute_result"
    }
   ],
   "source": [
    "pd.crosstab(index=data[\"Poutcome\"]=='unknown',\n",
    "            columns=data[\"Subscription\"],\n",
    "            normalize=\"index\")"
   ]
  },
  {
   "cell_type": "code",
   "execution_count": 58,
   "metadata": {
    "colab": {
     "base_uri": "https://localhost:8080/",
     "height": 689
    },
    "id": "0-PsOrBXYfxK",
    "outputId": "2055a57f-1942-42c6-a6ef-8eac01f833cd"
   },
   "outputs": [
    {
     "name": "stdout",
     "output_type": "stream",
     "text": [
      "unknown    0.817478\n",
      "failure    0.108403\n",
      "other      0.040698\n",
      "success    0.033421\n",
      "Name: Poutcome, dtype: float64\n"
     ]
    },
    {
     "data": {
      "text/html": [
       "<div>\n",
       "<style scoped>\n",
       "    .dataframe tbody tr th:only-of-type {\n",
       "        vertical-align: middle;\n",
       "    }\n",
       "\n",
       "    .dataframe tbody tr th {\n",
       "        vertical-align: top;\n",
       "    }\n",
       "\n",
       "    .dataframe thead th {\n",
       "        text-align: right;\n",
       "    }\n",
       "</style>\n",
       "<table border=\"1\" class=\"dataframe\">\n",
       "  <thead>\n",
       "    <tr style=\"text-align: right;\">\n",
       "      <th>Poutcome</th>\n",
       "      <th>failure</th>\n",
       "      <th>other</th>\n",
       "      <th>success</th>\n",
       "      <th>unknown</th>\n",
       "    </tr>\n",
       "    <tr>\n",
       "      <th>Subscription</th>\n",
       "      <th></th>\n",
       "      <th></th>\n",
       "      <th></th>\n",
       "      <th></th>\n",
       "    </tr>\n",
       "  </thead>\n",
       "  <tbody>\n",
       "    <tr>\n",
       "      <th>0</th>\n",
       "      <td>4283</td>\n",
       "      <td>1533</td>\n",
       "      <td>533</td>\n",
       "      <td>33573</td>\n",
       "    </tr>\n",
       "    <tr>\n",
       "      <th>1</th>\n",
       "      <td>618</td>\n",
       "      <td>307</td>\n",
       "      <td>978</td>\n",
       "      <td>3386</td>\n",
       "    </tr>\n",
       "  </tbody>\n",
       "</table>\n",
       "</div>"
      ],
      "text/plain": [
       "Poutcome      failure  other  success  unknown\n",
       "Subscription                                  \n",
       "0                4283   1533      533    33573\n",
       "1                 618    307      978     3386"
      ]
     },
     "metadata": {},
     "output_type": "display_data"
    },
    {
     "data": {
      "text/html": [
       "<div>\n",
       "<style scoped>\n",
       "    .dataframe tbody tr th:only-of-type {\n",
       "        vertical-align: middle;\n",
       "    }\n",
       "\n",
       "    .dataframe tbody tr th {\n",
       "        vertical-align: top;\n",
       "    }\n",
       "\n",
       "    .dataframe thead th {\n",
       "        text-align: right;\n",
       "    }\n",
       "</style>\n",
       "<table border=\"1\" class=\"dataframe\">\n",
       "  <thead>\n",
       "    <tr style=\"text-align: right;\">\n",
       "      <th>Poutcome</th>\n",
       "      <th>failure</th>\n",
       "      <th>other</th>\n",
       "      <th>success</th>\n",
       "      <th>unknown</th>\n",
       "    </tr>\n",
       "    <tr>\n",
       "      <th>Subscription</th>\n",
       "      <th></th>\n",
       "      <th></th>\n",
       "      <th></th>\n",
       "      <th></th>\n",
       "    </tr>\n",
       "  </thead>\n",
       "  <tbody>\n",
       "    <tr>\n",
       "      <th>0</th>\n",
       "      <td>0.873903</td>\n",
       "      <td>0.833152</td>\n",
       "      <td>0.352747</td>\n",
       "      <td>0.908385</td>\n",
       "    </tr>\n",
       "    <tr>\n",
       "      <th>1</th>\n",
       "      <td>0.126097</td>\n",
       "      <td>0.166848</td>\n",
       "      <td>0.647253</td>\n",
       "      <td>0.091615</td>\n",
       "    </tr>\n",
       "  </tbody>\n",
       "</table>\n",
       "</div>"
      ],
      "text/plain": [
       "Poutcome       failure     other   success   unknown\n",
       "Subscription                                        \n",
       "0             0.873903  0.833152  0.352747  0.908385\n",
       "1             0.126097  0.166848  0.647253  0.091615"
      ]
     },
     "metadata": {},
     "output_type": "display_data"
    },
    {
     "data": {
      "image/png": "[encoded data removed]",
      "text/plain": [
       "<Figure size 720x360 with 1 Axes>"
      ]
     },
     "metadata": {
      "needs_background": "light"
     },
     "output_type": "display_data"
    }
   ],
   "source": [
    "plotCat('Poutcome')"
   ]
  },
  {
   "cell_type": "markdown",
   "metadata": {
    "id": "LhEuwINYcIsd"
   },
   "source": [
    "## Subscription\n",
    "\n",
    "Vemos una distribución asimétrica de la variable respuesta, solamente con un 10 % de casos positivos."
   ]
  },
  {
   "cell_type": "code",
   "execution_count": 59,
   "metadata": {
    "colab": {
     "base_uri": "https://localhost:8080/",
     "height": 626
    },
    "id": "bNsrTK38cLmn",
    "outputId": "5f2cbe3a-5aea-4730-dd5c-a52d50b7a1a8"
   },
   "outputs": [
    {
     "name": "stdout",
     "output_type": "stream",
     "text": [
      "0    0.883015\n",
      "1    0.116985\n",
      "Name: Subscription, dtype: float64\n"
     ]
    },
    {
     "data": {
      "text/html": [
       "<div>\n",
       "<style scoped>\n",
       "    .dataframe tbody tr th:only-of-type {\n",
       "        vertical-align: middle;\n",
       "    }\n",
       "\n",
       "    .dataframe tbody tr th {\n",
       "        vertical-align: top;\n",
       "    }\n",
       "\n",
       "    .dataframe thead th {\n",
       "        text-align: right;\n",
       "    }\n",
       "</style>\n",
       "<table border=\"1\" class=\"dataframe\">\n",
       "  <thead>\n",
       "    <tr style=\"text-align: right;\">\n",
       "      <th>Subscription</th>\n",
       "      <th>0</th>\n",
       "      <th>1</th>\n",
       "    </tr>\n",
       "    <tr>\n",
       "      <th>Subscription</th>\n",
       "      <th></th>\n",
       "      <th></th>\n",
       "    </tr>\n",
       "  </thead>\n",
       "  <tbody>\n",
       "    <tr>\n",
       "      <th>0</th>\n",
       "      <td>39922</td>\n",
       "      <td>0</td>\n",
       "    </tr>\n",
       "    <tr>\n",
       "      <th>1</th>\n",
       "      <td>0</td>\n",
       "      <td>5289</td>\n",
       "    </tr>\n",
       "  </tbody>\n",
       "</table>\n",
       "</div>"
      ],
      "text/plain": [
       "Subscription      0     1\n",
       "Subscription             \n",
       "0             39922     0\n",
       "1                 0  5289"
      ]
     },
     "metadata": {},
     "output_type": "display_data"
    },
    {
     "data": {
      "text/html": [
       "<div>\n",
       "<style scoped>\n",
       "    .dataframe tbody tr th:only-of-type {\n",
       "        vertical-align: middle;\n",
       "    }\n",
       "\n",
       "    .dataframe tbody tr th {\n",
       "        vertical-align: top;\n",
       "    }\n",
       "\n",
       "    .dataframe thead th {\n",
       "        text-align: right;\n",
       "    }\n",
       "</style>\n",
       "<table border=\"1\" class=\"dataframe\">\n",
       "  <thead>\n",
       "    <tr style=\"text-align: right;\">\n",
       "      <th>Subscription</th>\n",
       "      <th>0</th>\n",
       "      <th>1</th>\n",
       "    </tr>\n",
       "    <tr>\n",
       "      <th>Subscription</th>\n",
       "      <th></th>\n",
       "      <th></th>\n",
       "    </tr>\n",
       "  </thead>\n",
       "  <tbody>\n",
       "    <tr>\n",
       "      <th>0</th>\n",
       "      <td>1.0</td>\n",
       "      <td>0.0</td>\n",
       "    </tr>\n",
       "    <tr>\n",
       "      <th>1</th>\n",
       "      <td>0.0</td>\n",
       "      <td>1.0</td>\n",
       "    </tr>\n",
       "  </tbody>\n",
       "</table>\n",
       "</div>"
      ],
      "text/plain": [
       "Subscription    0    1\n",
       "Subscription          \n",
       "0             1.0  0.0\n",
       "1             0.0  1.0"
      ]
     },
     "metadata": {},
     "output_type": "display_data"
    },
    {
     "data": {
      "image/png": "[encoded data removed]",
      "text/plain": [
       "<Figure size 720x360 with 1 Axes>"
      ]
     },
     "metadata": {
      "needs_background": "light"
     },
     "output_type": "display_data"
    }
   ],
   "source": [
    "plotCat(\"Subscription\")"
   ]
  },
  {
   "cell_type": "markdown",
   "metadata": {
    "id": "XPPeSY4vy-ls"
   },
   "source": [
    "## Otros Gráficos"
   ]
  },
  {
   "cell_type": "markdown",
   "metadata": {
    "id": "N1R25Bg-Bkv6"
   },
   "source": [
    "A mayor duración del último contacto y a menor número de contactos en la campaña parece más probable la suscripción del cliente."
   ]
  },
  {
   "cell_type": "code",
   "execution_count": 60,
   "metadata": {
    "colab": {
     "base_uri": "https://localhost:8080/",
     "height": 497
    },
    "id": "PWZ7X8CsBJKR",
    "outputId": "497ffed6-05d3-4d03-a00b-931d591d74bb"
   },
   "outputs": [
    {
     "data": {
      "image/png": "[encoded data removed]",
      "text/plain": [
       "<Figure size 720x576 with 1 Axes>"
      ]
     },
     "metadata": {
      "needs_background": "light"
     },
     "output_type": "display_data"
    }
   ],
   "source": [
    "plt.figure(figsize = (10,8))\n",
    "sns.scatterplot(data = data,\n",
    "                x = \"Last Contact Duration\",\n",
    "                y = \"Campaign\", \n",
    "                hue = \"Subscription\",\n",
    "                alpha = 0.2)\n",
    "plt.show()"
   ]
  },
  {
   "cell_type": "markdown",
   "metadata": {
    "id": "u4GWMA4EugD_"
   },
   "source": [
    "Con la siguiente función podemos comparar la proporción de éxito en la campaña entre variables categóricas usando heatmaps."
   ]
  },
  {
   "cell_type": "code",
   "execution_count": 61,
   "metadata": {
    "id": "meanhhXUd8Y_"
   },
   "outputs": [],
   "source": [
    "def catHeatmap(cat1, cat2, prop = False, ticks = None, labels = None):\n",
    "  tab = pd.crosstab(index=cat1,\n",
    "                    columns=cat2,\n",
    "                    values = data[\"Subscription\"],\n",
    "                    aggfunc = 'mean',\n",
    "                    normalize=prop)\n",
    "  \n",
    "  plt.figure(figsize = (10,8))\n",
    "  sns.heatmap(tab)\n",
    "  plt.show()\n",
    "  \n",
    "  return tab\n"
   ]
  },
  {
   "cell_type": "markdown",
   "metadata": {
    "id": "EQHczbRHcxvQ"
   },
   "source": [
    "Podemos ver un heatmap para entender la relación de la proporción de la variable respuesta (color) según la semana y el mes del último contacto.\n",
    "\n",
    "Los meses entre septiembre y marzo (varios agrupados en other) tienen una proporción más alta de éxitos en el ingreso al plazo fijo."
   ]
  },
  {
   "cell_type": "code",
   "execution_count": 62,
   "metadata": {
    "colab": {
     "base_uri": "https://localhost:8080/",
     "height": 686
    },
    "id": "0RtKqdDZqaD-",
    "outputId": "9c0f488c-b1c0-42b1-ad24-92b330e29b9f"
   },
   "outputs": [
    {
     "data": {
      "image/png": "[encoded data removed]",
      "text/plain": [
       "<Figure size 720x576 with 2 Axes>"
      ]
     },
     "metadata": {
      "needs_background": "light"
     },
     "output_type": "display_data"
    },
    {
     "data": {
      "text/html": [
       "<div>\n",
       "<style scoped>\n",
       "    .dataframe tbody tr th:only-of-type {\n",
       "        vertical-align: middle;\n",
       "    }\n",
       "\n",
       "    .dataframe tbody tr th {\n",
       "        vertical-align: top;\n",
       "    }\n",
       "\n",
       "    .dataframe thead th {\n",
       "        text-align: right;\n",
       "    }\n",
       "</style>\n",
       "<table border=\"1\" class=\"dataframe\">\n",
       "  <thead>\n",
       "    <tr style=\"text-align: right;\">\n",
       "      <th>Last Contact Month</th>\n",
       "      <th>apr</th>\n",
       "      <th>aug</th>\n",
       "      <th>feb</th>\n",
       "      <th>jan</th>\n",
       "      <th>jul</th>\n",
       "      <th>jun</th>\n",
       "      <th>may</th>\n",
       "      <th>nov</th>\n",
       "      <th>other</th>\n",
       "    </tr>\n",
       "    <tr>\n",
       "      <th>Last Contact Day_cat</th>\n",
       "      <th></th>\n",
       "      <th></th>\n",
       "      <th></th>\n",
       "      <th></th>\n",
       "      <th></th>\n",
       "      <th></th>\n",
       "      <th></th>\n",
       "      <th></th>\n",
       "      <th></th>\n",
       "    </tr>\n",
       "  </thead>\n",
       "  <tbody>\n",
       "    <tr>\n",
       "      <th>(0, 7]</th>\n",
       "      <td>0.170659</td>\n",
       "      <td>0.168654</td>\n",
       "      <td>0.087798</td>\n",
       "      <td>0.166667</td>\n",
       "      <td>0.135458</td>\n",
       "      <td>0.119750</td>\n",
       "      <td>0.069654</td>\n",
       "      <td>0.353535</td>\n",
       "      <td>0.402299</td>\n",
       "    </tr>\n",
       "    <tr>\n",
       "      <th>(7, 14]</th>\n",
       "      <td>0.241026</td>\n",
       "      <td>0.139864</td>\n",
       "      <td>0.325203</td>\n",
       "      <td>0.550000</td>\n",
       "      <td>0.093267</td>\n",
       "      <td>0.095579</td>\n",
       "      <td>0.061964</td>\n",
       "      <td>0.551220</td>\n",
       "      <td>0.468880</td>\n",
       "    </tr>\n",
       "    <tr>\n",
       "      <th>(14, 21]</th>\n",
       "      <td>0.105988</td>\n",
       "      <td>0.091478</td>\n",
       "      <td>0.661157</td>\n",
       "      <td>0.448276</td>\n",
       "      <td>0.104152</td>\n",
       "      <td>0.070103</td>\n",
       "      <td>0.068060</td>\n",
       "      <td>0.065596</td>\n",
       "      <td>0.484848</td>\n",
       "    </tr>\n",
       "    <tr>\n",
       "      <th>(21, 31]</th>\n",
       "      <td>0.462825</td>\n",
       "      <td>0.056233</td>\n",
       "      <td>0.447552</td>\n",
       "      <td>0.065217</td>\n",
       "      <td>0.072364</td>\n",
       "      <td>0.190184</td>\n",
       "      <td>0.071673</td>\n",
       "      <td>0.339623</td>\n",
       "      <td>0.514783</td>\n",
       "    </tr>\n",
       "  </tbody>\n",
       "</table>\n",
       "</div>"
      ],
      "text/plain": [
       "Last Contact Month         apr       aug       feb       jan       jul  \\\n",
       "Last Contact Day_cat                                                     \n",
       "(0, 7]                0.170659  0.168654  0.087798  0.166667  0.135458   \n",
       "(7, 14]               0.241026  0.139864  0.325203  0.550000  0.093267   \n",
       "(14, 21]              0.105988  0.091478  0.661157  0.448276  0.104152   \n",
       "(21, 31]              0.462825  0.056233  0.447552  0.065217  0.072364   \n",
       "\n",
       "Last Contact Month         jun       may       nov     other  \n",
       "Last Contact Day_cat                                          \n",
       "(0, 7]                0.119750  0.069654  0.353535  0.402299  \n",
       "(7, 14]               0.095579  0.061964  0.551220  0.468880  \n",
       "(14, 21]              0.070103  0.068060  0.065596  0.484848  \n",
       "(21, 31]              0.190184  0.071673  0.339623  0.514783  "
      ]
     },
     "execution_count": 62,
     "metadata": {},
     "output_type": "execute_result"
    }
   ],
   "source": [
    "catHeatmap(data[\"Last Contact Day_cat\"],\n",
    "           data[\"Last Contact Month\"])"
   ]
  },
  {
   "cell_type": "markdown",
   "metadata": {
    "id": "vykDJV_Ou_Ep"
   },
   "source": [
    "Vemos que cuando tenes algún tipo de préstamo la probabilidad de entrar en un Plazo Fijo disminuye. Con este gráfico podemos ver que en caso de tener los dos préstamos la probabilidad es incluso menor."
   ]
  },
  {
   "cell_type": "code",
   "execution_count": 63,
   "metadata": {
    "colab": {
     "base_uri": "https://localhost:8080/",
     "height": 623
    },
    "id": "vKYAznIKfpXo",
    "outputId": "a9dcacb6-63d4-4f1d-8420-4920b0df33d2"
   },
   "outputs": [
    {
     "data": {
      "image/png": "[encoded data removed]",
      "text/plain": [
       "<Figure size 720x576 with 2 Axes>"
      ]
     },
     "metadata": {
      "needs_background": "light"
     },
     "output_type": "display_data"
    },
    {
     "data": {
      "text/html": [
       "<div>\n",
       "<style scoped>\n",
       "    .dataframe tbody tr th:only-of-type {\n",
       "        vertical-align: middle;\n",
       "    }\n",
       "\n",
       "    .dataframe tbody tr th {\n",
       "        vertical-align: top;\n",
       "    }\n",
       "\n",
       "    .dataframe thead th {\n",
       "        text-align: right;\n",
       "    }\n",
       "</style>\n",
       "<table border=\"1\" class=\"dataframe\">\n",
       "  <thead>\n",
       "    <tr style=\"text-align: right;\">\n",
       "      <th>Housing Loan</th>\n",
       "      <th>no</th>\n",
       "      <th>yes</th>\n",
       "    </tr>\n",
       "    <tr>\n",
       "      <th>Personal Loan</th>\n",
       "      <th></th>\n",
       "      <th></th>\n",
       "    </tr>\n",
       "  </thead>\n",
       "  <tbody>\n",
       "    <tr>\n",
       "      <th>no</th>\n",
       "      <td>0.182225</td>\n",
       "      <td>0.080432</td>\n",
       "    </tr>\n",
       "    <tr>\n",
       "      <th>yes</th>\n",
       "      <td>0.076121</td>\n",
       "      <td>0.060682</td>\n",
       "    </tr>\n",
       "  </tbody>\n",
       "</table>\n",
       "</div>"
      ],
      "text/plain": [
       "Housing Loan         no       yes\n",
       "Personal Loan                    \n",
       "no             0.182225  0.080432\n",
       "yes            0.076121  0.060682"
      ]
     },
     "execution_count": 63,
     "metadata": {},
     "output_type": "execute_result"
    }
   ],
   "source": [
    "catHeatmap(data[\"Personal Loan\"],\n",
    "           data[\"Housing Loan\"])"
   ]
  },
  {
   "cell_type": "markdown",
   "metadata": {
    "id": "tCm9pn1IvKf0"
   },
   "source": [
    "Los clientes solteros tienen muchas más chances de iniciar el plazo fijo. Además esto crece cuanto mayor sea su nivel de estudio."
   ]
  },
  {
   "cell_type": "code",
   "execution_count": 64,
   "metadata": {
    "colab": {
     "base_uri": "https://localhost:8080/",
     "height": 686
    },
    "id": "BooRoQ3Egds6",
    "outputId": "620a4575-880d-45cc-a37c-ae1405b5a3b6"
   },
   "outputs": [
    {
     "data": {
      "image/png": "[encoded data removed]",
      "text/plain": [
       "<Figure size 720x576 with 2 Axes>"
      ]
     },
     "metadata": {
      "needs_background": "light"
     },
     "output_type": "display_data"
    },
    {
     "data": {
      "text/html": [
       "<div>\n",
       "<style scoped>\n",
       "    .dataframe tbody tr th:only-of-type {\n",
       "        vertical-align: middle;\n",
       "    }\n",
       "\n",
       "    .dataframe tbody tr th {\n",
       "        vertical-align: top;\n",
       "    }\n",
       "\n",
       "    .dataframe thead th {\n",
       "        text-align: right;\n",
       "    }\n",
       "</style>\n",
       "<table border=\"1\" class=\"dataframe\">\n",
       "  <thead>\n",
       "    <tr style=\"text-align: right;\">\n",
       "      <th>Marital Status</th>\n",
       "      <th>divorced</th>\n",
       "      <th>married</th>\n",
       "      <th>single</th>\n",
       "    </tr>\n",
       "    <tr>\n",
       "      <th>Education</th>\n",
       "      <th></th>\n",
       "      <th></th>\n",
       "      <th></th>\n",
       "    </tr>\n",
       "  </thead>\n",
       "  <tbody>\n",
       "    <tr>\n",
       "      <th>primary</th>\n",
       "      <td>0.138298</td>\n",
       "      <td>0.075486</td>\n",
       "      <td>0.106682</td>\n",
       "    </tr>\n",
       "    <tr>\n",
       "      <th>secondary</th>\n",
       "      <td>0.103375</td>\n",
       "      <td>0.094699</td>\n",
       "      <td>0.129213</td>\n",
       "    </tr>\n",
       "    <tr>\n",
       "      <th>tertiary</th>\n",
       "      <td>0.138001</td>\n",
       "      <td>0.129724</td>\n",
       "      <td>0.183639</td>\n",
       "    </tr>\n",
       "    <tr>\n",
       "      <th>unknown</th>\n",
       "      <td>0.142012</td>\n",
       "      <td>0.122414</td>\n",
       "      <td>0.162879</td>\n",
       "    </tr>\n",
       "  </tbody>\n",
       "</table>\n",
       "</div>"
      ],
      "text/plain": [
       "Marital Status  divorced   married    single\n",
       "Education                                   \n",
       "primary         0.138298  0.075486  0.106682\n",
       "secondary       0.103375  0.094699  0.129213\n",
       "tertiary        0.138001  0.129724  0.183639\n",
       "unknown         0.142012  0.122414  0.162879"
      ]
     },
     "execution_count": 64,
     "metadata": {},
     "output_type": "execute_result"
    }
   ],
   "source": [
    "catHeatmap(data[\"Education\"],\n",
    "           data[\"Marital Status\"])"
   ]
  },
  {
   "cell_type": "markdown",
   "metadata": {
    "id": "LXUZ0oayvUcG"
   },
   "source": [
    "Podemos ver lo mismo para los distintos oficios."
   ]
  },
  {
   "cell_type": "code",
   "execution_count": 65,
   "metadata": {
    "colab": {
     "base_uri": "https://localhost:8080/",
     "height": 746
    },
    "id": "IBE958fzsVG2",
    "outputId": "da57b8c3-5d13-4e5e-db19-70e30ee8f30b"
   },
   "outputs": [
    {
     "data": {
      "image/png": "[encoded data removed]",
      "text/plain": [
       "<Figure size 720x576 with 2 Axes>"
      ]
     },
     "metadata": {
      "needs_background": "light"
     },
     "output_type": "display_data"
    },
    {
     "data": {
      "text/html": [
       "<div>\n",
       "<style scoped>\n",
       "    .dataframe tbody tr th:only-of-type {\n",
       "        vertical-align: middle;\n",
       "    }\n",
       "\n",
       "    .dataframe tbody tr th {\n",
       "        vertical-align: top;\n",
       "    }\n",
       "\n",
       "    .dataframe thead th {\n",
       "        text-align: right;\n",
       "    }\n",
       "</style>\n",
       "<table border=\"1\" class=\"dataframe\">\n",
       "  <thead>\n",
       "    <tr style=\"text-align: right;\">\n",
       "      <th>Job</th>\n",
       "      <th>admin.</th>\n",
       "      <th>blue-collar</th>\n",
       "      <th>entrepreneur</th>\n",
       "      <th>housemaid</th>\n",
       "      <th>management</th>\n",
       "      <th>retired</th>\n",
       "      <th>self-employed</th>\n",
       "      <th>services</th>\n",
       "      <th>student</th>\n",
       "      <th>technician</th>\n",
       "      <th>unemployed</th>\n",
       "      <th>unknown</th>\n",
       "    </tr>\n",
       "    <tr>\n",
       "      <th>Education</th>\n",
       "      <th></th>\n",
       "      <th></th>\n",
       "      <th></th>\n",
       "      <th></th>\n",
       "      <th></th>\n",
       "      <th></th>\n",
       "      <th></th>\n",
       "      <th></th>\n",
       "      <th></th>\n",
       "      <th></th>\n",
       "      <th></th>\n",
       "      <th></th>\n",
       "    </tr>\n",
       "  </thead>\n",
       "  <tbody>\n",
       "    <tr>\n",
       "      <th>primary</th>\n",
       "      <td>0.057416</td>\n",
       "      <td>0.058010</td>\n",
       "      <td>0.065574</td>\n",
       "      <td>0.078150</td>\n",
       "      <td>0.074830</td>\n",
       "      <td>0.223899</td>\n",
       "      <td>0.038462</td>\n",
       "      <td>0.084058</td>\n",
       "      <td>0.363636</td>\n",
       "      <td>0.082278</td>\n",
       "      <td>0.132296</td>\n",
       "      <td>0.058824</td>\n",
       "    </tr>\n",
       "    <tr>\n",
       "      <th>secondary</th>\n",
       "      <td>0.118986</td>\n",
       "      <td>0.080618</td>\n",
       "      <td>0.095941</td>\n",
       "      <td>0.086076</td>\n",
       "      <td>0.086530</td>\n",
       "      <td>0.210366</td>\n",
       "      <td>0.074523</td>\n",
       "      <td>0.085623</td>\n",
       "      <td>0.297244</td>\n",
       "      <td>0.099063</td>\n",
       "      <td>0.148352</td>\n",
       "      <td>0.126761</td>\n",
       "    </tr>\n",
       "    <tr>\n",
       "      <th>tertiary</th>\n",
       "      <td>0.173077</td>\n",
       "      <td>0.161074</td>\n",
       "      <td>0.075802</td>\n",
       "      <td>0.127168</td>\n",
       "      <td>0.145366</td>\n",
       "      <td>0.275956</td>\n",
       "      <td>0.160864</td>\n",
       "      <td>0.123762</td>\n",
       "      <td>0.264574</td>\n",
       "      <td>0.145325</td>\n",
       "      <td>0.193772</td>\n",
       "      <td>0.102564</td>\n",
       "    </tr>\n",
       "    <tr>\n",
       "      <th>unknown</th>\n",
       "      <td>0.105263</td>\n",
       "      <td>0.072687</td>\n",
       "      <td>0.092105</td>\n",
       "      <td>0.088889</td>\n",
       "      <td>0.198347</td>\n",
       "      <td>0.252101</td>\n",
       "      <td>0.128205</td>\n",
       "      <td>0.126667</td>\n",
       "      <td>0.263804</td>\n",
       "      <td>0.095041</td>\n",
       "      <td>0.137931</td>\n",
       "      <td>0.141732</td>\n",
       "    </tr>\n",
       "  </tbody>\n",
       "</table>\n",
       "</div>"
      ],
      "text/plain": [
       "Job          admin.  blue-collar  entrepreneur  housemaid  management  \\\n",
       "Education                                                               \n",
       "primary    0.057416     0.058010      0.065574   0.078150    0.074830   \n",
       "secondary  0.118986     0.080618      0.095941   0.086076    0.086530   \n",
       "tertiary   0.173077     0.161074      0.075802   0.127168    0.145366   \n",
       "unknown    0.105263     0.072687      0.092105   0.088889    0.198347   \n",
       "\n",
       "Job         retired  self-employed  services   student  technician  \\\n",
       "Education                                                            \n",
       "primary    0.223899       0.038462  0.084058  0.363636    0.082278   \n",
       "secondary  0.210366       0.074523  0.085623  0.297244    0.099063   \n",
       "tertiary   0.275956       0.160864  0.123762  0.264574    0.145325   \n",
       "unknown    0.252101       0.128205  0.126667  0.263804    0.095041   \n",
       "\n",
       "Job        unemployed   unknown  \n",
       "Education                        \n",
       "primary      0.132296  0.058824  \n",
       "secondary    0.148352  0.126761  \n",
       "tertiary     0.193772  0.102564  \n",
       "unknown      0.137931  0.141732  "
      ]
     },
     "execution_count": 65,
     "metadata": {},
     "output_type": "execute_result"
    }
   ],
   "source": [
    "catHeatmap(data[\"Education\"],\n",
    "           data[\"Job\"])"
   ]
  },
  {
   "cell_type": "code",
   "execution_count": 66,
   "metadata": {
    "colab": {
     "base_uri": "https://localhost:8080/",
     "height": 937
    },
    "id": "EjXM0uC3slTW",
    "outputId": "b9fe1576-164f-4613-a672-b49f48062b9f"
   },
   "outputs": [
    {
     "data": {
      "image/png": "[encoded data removed]",
      "text/plain": [
       "<Figure size 720x576 with 2 Axes>"
      ]
     },
     "metadata": {
      "needs_background": "light"
     },
     "output_type": "display_data"
    },
    {
     "data": {
      "text/html": [
       "<div>\n",
       "<style scoped>\n",
       "    .dataframe tbody tr th:only-of-type {\n",
       "        vertical-align: middle;\n",
       "    }\n",
       "\n",
       "    .dataframe tbody tr th {\n",
       "        vertical-align: top;\n",
       "    }\n",
       "\n",
       "    .dataframe thead th {\n",
       "        text-align: right;\n",
       "    }\n",
       "</style>\n",
       "<table border=\"1\" class=\"dataframe\">\n",
       "  <thead>\n",
       "    <tr style=\"text-align: right;\">\n",
       "      <th>Marital Status</th>\n",
       "      <th>divorced</th>\n",
       "      <th>married</th>\n",
       "      <th>single</th>\n",
       "    </tr>\n",
       "    <tr>\n",
       "      <th>Job</th>\n",
       "      <th></th>\n",
       "      <th></th>\n",
       "      <th></th>\n",
       "    </tr>\n",
       "  </thead>\n",
       "  <tbody>\n",
       "    <tr>\n",
       "      <th>admin.</th>\n",
       "      <td>0.120000</td>\n",
       "      <td>0.113628</td>\n",
       "      <td>0.135995</td>\n",
       "    </tr>\n",
       "    <tr>\n",
       "      <th>blue-collar</th>\n",
       "      <td>0.077333</td>\n",
       "      <td>0.062715</td>\n",
       "      <td>0.105760</td>\n",
       "    </tr>\n",
       "    <tr>\n",
       "      <th>entrepreneur</th>\n",
       "      <td>0.083799</td>\n",
       "      <td>0.075701</td>\n",
       "      <td>0.113445</td>\n",
       "    </tr>\n",
       "    <tr>\n",
       "      <th>housemaid</th>\n",
       "      <td>0.097826</td>\n",
       "      <td>0.073465</td>\n",
       "      <td>0.166667</td>\n",
       "    </tr>\n",
       "    <tr>\n",
       "      <th>management</th>\n",
       "      <td>0.127813</td>\n",
       "      <td>0.126111</td>\n",
       "      <td>0.162199</td>\n",
       "    </tr>\n",
       "    <tr>\n",
       "      <th>retired</th>\n",
       "      <td>0.284706</td>\n",
       "      <td>0.220682</td>\n",
       "      <td>0.120370</td>\n",
       "    </tr>\n",
       "    <tr>\n",
       "      <th>self-employed</th>\n",
       "      <td>0.157143</td>\n",
       "      <td>0.079557</td>\n",
       "      <td>0.192825</td>\n",
       "    </tr>\n",
       "    <tr>\n",
       "      <th>services</th>\n",
       "      <td>0.091075</td>\n",
       "      <td>0.073951</td>\n",
       "      <td>0.117696</td>\n",
       "    </tr>\n",
       "    <tr>\n",
       "      <th>student</th>\n",
       "      <td>0.166667</td>\n",
       "      <td>0.185185</td>\n",
       "      <td>0.293850</td>\n",
       "    </tr>\n",
       "    <tr>\n",
       "      <th>technician</th>\n",
       "      <td>0.083243</td>\n",
       "      <td>0.102665</td>\n",
       "      <td>0.132443</td>\n",
       "    </tr>\n",
       "    <tr>\n",
       "      <th>unemployed</th>\n",
       "      <td>0.157895</td>\n",
       "      <td>0.132695</td>\n",
       "      <td>0.194514</td>\n",
       "    </tr>\n",
       "    <tr>\n",
       "      <th>unknown</th>\n",
       "      <td>0.058824</td>\n",
       "      <td>0.103448</td>\n",
       "      <td>0.176471</td>\n",
       "    </tr>\n",
       "  </tbody>\n",
       "</table>\n",
       "</div>"
      ],
      "text/plain": [
       "Marital Status  divorced   married    single\n",
       "Job                                         \n",
       "admin.          0.120000  0.113628  0.135995\n",
       "blue-collar     0.077333  0.062715  0.105760\n",
       "entrepreneur    0.083799  0.075701  0.113445\n",
       "housemaid       0.097826  0.073465  0.166667\n",
       "management      0.127813  0.126111  0.162199\n",
       "retired         0.284706  0.220682  0.120370\n",
       "self-employed   0.157143  0.079557  0.192825\n",
       "services        0.091075  0.073951  0.117696\n",
       "student         0.166667  0.185185  0.293850\n",
       "technician      0.083243  0.102665  0.132443\n",
       "unemployed      0.157895  0.132695  0.194514\n",
       "unknown         0.058824  0.103448  0.176471"
      ]
     },
     "execution_count": 66,
     "metadata": {},
     "output_type": "execute_result"
    }
   ],
   "source": [
    "catHeatmap(data[\"Job\"],\n",
    "           data[\"Marital Status\"])"
   ]
  },
  {
   "cell_type": "markdown",
   "metadata": {
    "id": "_pwIyh5qtsSY"
   },
   "source": [
    "Salvo por las variables redundantes creadas con la variable balance no vemos grandes correlaciones entre las variables continuas."
   ]
  },
  {
   "cell_type": "code",
   "execution_count": 67,
   "metadata": {
    "colab": {
     "base_uri": "https://localhost:8080/",
     "height": 603
    },
    "id": "m5PuggLE6-uZ",
    "outputId": "609fb98e-a9eb-4a82-d44e-f5563fa259d1"
   },
   "outputs": [
    {
     "data": {
      "text/plain": [
       "<AxesSubplot:>"
      ]
     },
     "execution_count": 67,
     "metadata": {},
     "output_type": "execute_result"
    },
    {
     "data": {
      "image/png": "[encoded data removed]",
      "text/plain": [
       "<Figure size 720x576 with 2 Axes>"
      ]
     },
     "metadata": {
      "needs_background": "light"
     },
     "output_type": "display_data"
    }
   ],
   "source": [
    "plt.figure(figsize = (10,8))\n",
    "sns.heatmap(data.corr())"
   ]
  },
  {
   "cell_type": "markdown",
   "metadata": {
    "id": "OufpP5xLG4Ct"
   },
   "source": [
    "# Preparación del Dataset\n",
    "\n",
    "Volvemos a importar el dataset y aplicamos las siguientes transformaciones:\n",
    "\n",
    "* Construcción, transformacions y modificaciones de variables previamente realizadas.\n",
    "\n",
    "* Creación de variables dummy para las categóricas.\n",
    "\n",
    "* Partición del set de datos en train,  y test."
   ]
  },
  {
   "cell_type": "code",
   "execution_count": 68,
   "metadata": {
    "id": "SLhtpfh64wEx"
   },
   "outputs": [],
   "source": [
    "from sklearn.impute import SimpleImputer\n",
    "from sklearn.model_selection import train_test_split"
   ]
  },
  {
   "cell_type": "code",
   "execution_count": 69,
   "metadata": {
    "id": "J13ZVDtJvPle"
   },
   "outputs": [],
   "source": [
    "# Importamos el dataset nuevamente para hacer todas las modificaciones.\n",
    "data_model = pd.read_csv(\"data/Bank Marketing.csv\", sep=';')"
   ]
  },
  {
   "cell_type": "code",
   "execution_count": 70,
   "metadata": {
    "id": "2WcpekN-1Ucb"
   },
   "outputs": [],
   "source": [
    "# Corregimos las clases de la variable respuesta.\n",
    "data_model[\"Subscription\"] = data_model['Subscription'].map({2:1, 1:0})"
   ]
  },
  {
   "cell_type": "code",
   "execution_count": 71,
   "metadata": {
    "id": "TAm5UHzC4EtR"
   },
   "outputs": [],
   "source": [
    "# Creamos una variable dummy para mayores de 60 años.\n",
    "data_model[\"Age_60\"] = data_model[\"Age\"] > 60\n",
    "\n",
    "# Agrupamos trabajos menos frecuentes en una categoría \"otros\"\n",
    "trabajo_frec = data_model[\"Job\"].value_counts(normalize=True)\n",
    "trabajos_otros = list(trabajo_frec.index[(trabajo_frec<0.05).values])\n",
    "data_model[\"Job\"] = data_model[\"Job\"].mask(data_model[\"Job\"].isin(trabajos_otros), \"others\")\n",
    "\n",
    "# Eliminamos la variable Credit por tener muy baja frecuencia.\n",
    "data_model.drop(\"Credit\",axis=1, inplace=True)\n",
    "\n",
    "# Dividimos la variable de balance en negativa como categórica y la transformación logarítmica en caso de que el balance sea positivo.\n",
    "data_model[\"Balance_neg_cat\"] = data_model[\"Balance (euros)\"] < 0\n",
    "data_model[\"Balance_pos_log\"] = np.log10(data_model[\"Balance (euros)\"].mask(data_model[\"Balance (euros)\"]<=0, 0.01))\n",
    "data_model.drop(\"Balance (euros)\", axis=1, inplace=True)\n",
    "\n",
    "\n",
    "# Eliminamos la variable contacto por la gran cantidad de valores faltantes.\n",
    "data_model.drop(\"Contact\", axis = 1, inplace = True)\n",
    "\n",
    "# Reemplazamos la variable de último contacto en dias por 4 intervalos representando las semanas del mes.\n",
    "data_model[\"Last Contact Day Cat\"] = pd.cut(data_model[\"Last Contact Day\"], bins=[0, 7, 14, 21, 31])\n",
    "data_model.drop(\"Last Contact Day\", axis =1, inplace=True)\n",
    "\n",
    "# Agrupamos los meses de baja frecuencia en una categoría nueva.\n",
    "other_months = [\"oct\", \"sep\", \"mar\", \"dec\"]\n",
    "data_model[\"Last Contact Month\"] = data_model[\"Last Contact Month\"].mask(data_model[\"Last Contact Month\"].isin(other_months), 'other')\n",
    "\n",
    "# Le aplicamos la transformación logarítmica a la duración del último contacto.\n",
    "data_model[\"Last Contact Duration Log\"] = np.log10(data_model[\"Last Contact Duration\"]+0.01)\n",
    "data_model.drop(\"Last Contact Duration\", axis = 1, inplace = True)\n",
    "\n",
    "# Le aplicamos la transformación logarítmica a la cantidad de contactos de la campaña.\n",
    "data_model[\"Campaign Log\"] = np.log10(data_model[\"Campaign\"]+0.01)\n",
    "data_model.drop(\"Campaign\", axis = 1, inplace = True)"
   ]
  },
  {
   "cell_type": "code",
   "execution_count": 72,
   "metadata": {
    "colab": {
     "base_uri": "https://localhost:8080/"
    },
    "id": "zHEBTCI__CQ8",
    "outputId": "3b86c4f4-3826-4bb9-c14a-48d149fdaa74"
   },
   "outputs": [
    {
     "data": {
      "text/plain": [
       "Age                              0\n",
       "Job                              0\n",
       "Marital Status                   0\n",
       "Education                     1857\n",
       "Housing Loan                     0\n",
       "Personal Loan                    0\n",
       "Last Contact Month               0\n",
       "Pdays                            0\n",
       "Previous                         0\n",
       "Poutcome                     36959\n",
       "Subscription                     0\n",
       "Age_60                           0\n",
       "Balance_neg_cat                  0\n",
       "Balance_pos_log                  0\n",
       "Last Contact Day Cat             0\n",
       "Last Contact Duration Log        0\n",
       "Campaign Log                     0\n",
       "dtype: int64"
      ]
     },
     "execution_count": 72,
     "metadata": {},
     "output_type": "execute_result"
    }
   ],
   "source": [
    "# Vemos la cantidad de valores faltantes.\n",
    "(data_model=='unknown').sum()"
   ]
  },
  {
   "cell_type": "markdown",
   "metadata": {
    "id": "jr-Id7rHJsQX"
   },
   "source": [
    "Imputamos los datos faltantes de la variable Education con la categoría de mayor frecuencia por tratarse de pocas observaciones."
   ]
  },
  {
   "cell_type": "code",
   "execution_count": 73,
   "metadata": {
    "id": "wlzMl_sS4MKB"
   },
   "outputs": [],
   "source": [
    "# Iniciamos el imputador\n",
    "imp = SimpleImputer(missing_values='unknown',\n",
    "                    strategy='most_frequent')"
   ]
  },
  {
   "cell_type": "code",
   "execution_count": 74,
   "metadata": {
    "id": "sdwhjPHh_Leb"
   },
   "outputs": [],
   "source": [
    "# Transformamos la columna con el valor aprendido por el imputador.\n",
    "data_model[\"Education\"] = imp.fit_transform(data_model[\"Education\"].values.reshape(-1,1)).ravel()"
   ]
  },
  {
   "cell_type": "markdown",
   "metadata": {
    "id": "dW4XKeyjJ53a"
   },
   "source": [
    "Pasamos las variables categóricas a dummies. A las variables binarias les dijamos una única columna."
   ]
  },
  {
   "cell_type": "code",
   "execution_count": 75,
   "metadata": {
    "id": "CQalbKW2AZMm"
   },
   "outputs": [],
   "source": [
    "# Variables categóricas de múltiples clases.\n",
    "cat_vars = [\"Job\", \"Marital Status\", \"Education\", \"Last Contact Month\", \"Last Contact Day Cat\"]\n",
    "\n",
    "for var in cat_vars:\n",
    "  data_model = pd.concat([data_model, pd.get_dummies(data_model[var], prefix=var)], axis=1)\n",
    "  data_model.drop(var, axis=1, inplace=True)"
   ]
  },
  {
   "cell_type": "code",
   "execution_count": 76,
   "metadata": {
    "id": "-fNasJNs_hVZ"
   },
   "outputs": [],
   "source": [
    "# Variables categóricas binarias.\n",
    "cat_vars2 = [\"Housing Loan\", \"Personal Loan\", \"Age_60\", \"Balance_neg_cat\"]\n",
    "\n",
    "for var in cat_vars2:\n",
    "  data_model = pd.concat([data_model, pd.get_dummies(data_model[var], prefix=var, drop_first=True)], axis=1)\n",
    "  data_model.drop(var, axis=1, inplace=True)"
   ]
  },
  {
   "cell_type": "code",
   "execution_count": 77,
   "metadata": {
    "id": "if475DTKk7mN"
   },
   "outputs": [],
   "source": [
    "# Generamos las variables dummies de la variable Poutcome.\n",
    "data_model = pd.concat([data_model, pd.get_dummies(data_model[\"Poutcome\"], prefix=\"Poutcome\")], axis = 1)\n",
    "data_model.drop(\"Poutcome\", axis=1,  inplace=True)"
   ]
  },
  {
   "cell_type": "code",
   "execution_count": 78,
   "metadata": {
    "id": "vxXx5B7z8_L4"
   },
   "outputs": [],
   "source": [
    "# Mezclamos las observaciones del dataset.\n",
    "data_model = data_model.sample(frac = 1, random_state=35).reset_index(drop = True)"
   ]
  },
  {
   "cell_type": "code",
   "execution_count": 79,
   "metadata": {
    "id": "rOY7Ov2j94R-"
   },
   "outputs": [],
   "source": [
    "# Dividimos el set de datos en Train (entrenamiento) y Test (evaluación).\n",
    "train, test = train_test_split(data_model, train_size = 0.75, random_state = 42, stratify = data_model['Subscription'])"
   ]
  },
  {
   "cell_type": "code",
   "execution_count": 80,
   "metadata": {
    "id": "FIzqMGkJDZQJ"
   },
   "outputs": [],
   "source": [
    "#train.to_csv(\"data/Train_full.csv\")\n",
    "#test.to_csv(\"data/Test_full.csv\")"
   ]
  },
  {
   "cell_type": "markdown",
   "metadata": {
    "id": "tqaXqo-GKz8y"
   },
   "source": [
    "Además generamos un dataset que **no** contiene las variables de campañas anteriores. De esta manera podemos tunnear y entrenar modelos para clasificar clientes."
   ]
  },
  {
   "cell_type": "code",
   "execution_count": 81,
   "metadata": {
    "id": "2xOew-9FlmKL"
   },
   "outputs": [],
   "source": [
    "# Variables de campañas anteriores.\n",
    "P_vars = [\"Pdays\", \"Previous\", \"Poutcome_failure\", \"Poutcome_other\", \"Poutcome_success\", \"Poutcome_unknown\"]\n",
    "train_base = train.drop(P_vars, axis = 1)\n",
    "test_base = test.drop(P_vars, axis = 1)"
   ]
  },
  {
   "cell_type": "code",
   "execution_count": 82,
   "metadata": {
    "id": "hakbHh-jsCnb"
   },
   "outputs": [],
   "source": [
    "#train_base.to_csv(\"data/Train.csv\")\n",
    "#test_base.to_csv(\"data/Test.csv\")"
   ]
  },
  {
   "cell_type": "code",
   "execution_count": 83,
   "metadata": {
    "colab": {
     "base_uri": "https://localhost:8080/"
    },
    "id": "bJ_074S6-R5x",
    "outputId": "90797103-636e-4fbe-f6f5-e22a4f007d9b"
   },
   "outputs": [
    {
     "name": "stdout",
     "output_type": "stream",
     "text": [
      "(45211, 41)\n",
      "(33908, 41)\n",
      "(11303, 41)\n"
     ]
    }
   ],
   "source": [
    "print(data_model.shape)\n",
    "print(train.shape)\n",
    "print(test.shape)"
   ]
  },
  {
   "cell_type": "markdown",
   "metadata": {
    "id": "v26bQ24KMa-U"
   },
   "source": [
    "# Modelos\n",
    "\n",
    "Los modelos que fueron probados para la predicción de los datos fueron modelos de regresión logística con regularización y modelos de árboles. KNN fue probado pero resultó demasiado ineficiente por la escala del dataset.\n",
    "\n",
    "* Regresión Logística (Penalización L2)\n",
    "* Árbol de Clasificación\n",
    "* Random Forest\n",
    "* Gradient Boosting\n",
    "\n",
    "Para cada modelo se usó 5-fold Cross-Validation con el train set optimizando la función de profit definida por la matriz de ingresos y costos del enunciado. De esta manera la métrica optimizada fue el profit promedio para la selección de mejores hiperparámetros.\n",
    "\n",
    "Hasta este Notebook los modelos no han visto el set de Test y sólamente fueron optimizados con los datos de entrenamiento.\n",
    "\n",
    "Siempre que estuviera disponible fue optimizado el hiperparámetro *class_weight* que permite darle un mayor peso a la categoría minoritaria."
   ]
  },
  {
   "cell_type": "code",
   "execution_count": 84,
   "metadata": {
    "id": "nrfhwr_tNzcj"
   },
   "outputs": [],
   "source": [
    "from sklearn.metrics import confusion_matrix\n",
    "\n",
    "# Función de profit medio según predicción y valores de respuesta verdaderos.\n",
    "def profit_mean(y_true, y_pred):\n",
    "  mat = confusion_matrix(y_true=y_true, y_pred=y_pred)\n",
    "  n = len(y_true)\n",
    "  prof = 250 * mat[1,1] - 50 * mat[0,1] - 25 * mat[1,0]\n",
    "  return prof/n"
   ]
  },
  {
   "cell_type": "code",
   "execution_count": 85,
   "metadata": {
    "id": "b3D-Rb8BPEWb"
   },
   "outputs": [],
   "source": [
    "X_train_base = train_base.drop(\"Subscription\", axis = 1)\n",
    "y_train = train_base[\"Subscription\"]"
   ]
  },
  {
   "cell_type": "markdown",
   "metadata": {
    "id": "Fad9KAeQOGN-"
   },
   "source": [
    "## Modelo Logístico\n",
    "\n",
    "Escalamos las variables para entrenar el modelo logístico."
   ]
  },
  {
   "cell_type": "code",
   "execution_count": 86,
   "metadata": {
    "id": "ptguC6XwOW1V"
   },
   "outputs": [],
   "source": [
    "from sklearn.linear_model import LogisticRegression\n",
    "from sklearn.preprocessing import StandardScaler"
   ]
  },
  {
   "cell_type": "code",
   "execution_count": 87,
   "metadata": {
    "id": "6E5Gh6q2PZzc"
   },
   "outputs": [],
   "source": [
    "scaler = StandardScaler()"
   ]
  },
  {
   "cell_type": "code",
   "execution_count": 88,
   "metadata": {
    "id": "2TLLL9HqPd7X"
   },
   "outputs": [],
   "source": [
    "X_train_base_s = scaler.fit_transform(X_train_base)"
   ]
  },
  {
   "cell_type": "code",
   "execution_count": 89,
   "metadata": {
    "id": "tBmINV2BOJaP"
   },
   "outputs": [],
   "source": [
    "logistic = LogisticRegression(penalty = 'l2',\n",
    "                              C = 0.00119,\n",
    "                              class_weight = {1:6.4},\n",
    "                              n_jobs=-1,\n",
    "                              max_iter=10000,\n",
    "                              random_state=65)"
   ]
  },
  {
   "cell_type": "code",
   "execution_count": 90,
   "metadata": {
    "colab": {
     "base_uri": "https://localhost:8080/"
    },
    "id": "M6DefZi0O1J2",
    "outputId": "be5f1180-e49b-4acf-df9c-1e112c2ba91b"
   },
   "outputs": [
    {
     "data": {
      "text/plain": [
       "LogisticRegression(C=0.00119, class_weight={1: 6.4}, max_iter=10000, n_jobs=-1,\n",
       "                   random_state=65)"
      ]
     },
     "execution_count": 90,
     "metadata": {},
     "output_type": "execute_result"
    }
   ],
   "source": [
    "logistic.fit(X_train_base_s, y_train)"
   ]
  },
  {
   "cell_type": "markdown",
   "metadata": {
    "id": "RP0zCtbuPnKN"
   },
   "source": [
    "## Modelo Árbol de Clasificación"
   ]
  },
  {
   "cell_type": "code",
   "execution_count": 91,
   "metadata": {
    "id": "jWKg5YFJRTz0"
   },
   "outputs": [],
   "source": [
    "from sklearn.tree import DecisionTreeClassifier"
   ]
  },
  {
   "cell_type": "code",
   "execution_count": 92,
   "metadata": {
    "id": "VPt2xayFQeex"
   },
   "outputs": [],
   "source": [
    "tree = DecisionTreeClassifier(ccp_alpha = 0,\n",
    "                              criterion = 'gini',\n",
    "                              max_depth = None,\n",
    "                              max_features = None,\n",
    "                              max_leaf_nodes = 40,\n",
    "                              min_samples_leaf = 1,\n",
    "                              splitter = 'best',\n",
    "                              class_weight = {1:6},\n",
    "                              random_state = 43)"
   ]
  },
  {
   "cell_type": "code",
   "execution_count": 93,
   "metadata": {
    "colab": {
     "base_uri": "https://localhost:8080/"
    },
    "id": "2Liq9nrkRbVM",
    "outputId": "70371ef6-4be0-43f2-d7de-fa12cd777b53"
   },
   "outputs": [
    {
     "data": {
      "text/plain": [
       "DecisionTreeClassifier(ccp_alpha=0, class_weight={1: 6}, max_leaf_nodes=40,\n",
       "                       random_state=43)"
      ]
     },
     "execution_count": 93,
     "metadata": {},
     "output_type": "execute_result"
    }
   ],
   "source": [
    "tree.fit(X_train_base, y_train)"
   ]
  },
  {
   "cell_type": "markdown",
   "metadata": {
    "id": "dE22qtj6RlZ0"
   },
   "source": [
    "## Modelo Gradient Boosting"
   ]
  },
  {
   "cell_type": "code",
   "execution_count": 94,
   "metadata": {
    "id": "YA1SLq5kRnoA"
   },
   "outputs": [],
   "source": [
    "from sklearn.ensemble import GradientBoostingClassifier"
   ]
  },
  {
   "cell_type": "code",
   "execution_count": 95,
   "metadata": {
    "id": "0n6EQxKfR5ve"
   },
   "outputs": [],
   "source": [
    "gbm = GradientBoostingClassifier(ccp_alpha = 0,\n",
    "                                 criterion = 'friedman_mse',\n",
    "                                 max_depth = None, \n",
    "                                 max_features = 0.7,\n",
    "                                 max_leaf_nodes = 40,\n",
    "                                 min_samples_leaf = 200,\n",
    "                                 n_estimators = 1000,\n",
    "                                 validation_fraction = 0.1,\n",
    "                                 n_iter_no_change = 15,\n",
    "                                 loss = 'deviance',\n",
    "                                 random_state = 65,\n",
    "                                 verbose=0)"
   ]
  },
  {
   "cell_type": "code",
   "execution_count": 96,
   "metadata": {
    "colab": {
     "base_uri": "https://localhost:8080/"
    },
    "id": "HHatSKWcSfRx",
    "outputId": "e7986c95-5a16-47ab-cfda-ac37ffecda68"
   },
   "outputs": [
    {
     "data": {
      "text/plain": [
       "GradientBoostingClassifier(ccp_alpha=0, max_depth=None, max_features=0.7,\n",
       "                           max_leaf_nodes=40, min_samples_leaf=200,\n",
       "                           n_estimators=1000, n_iter_no_change=15,\n",
       "                           random_state=65)"
      ]
     },
     "execution_count": 96,
     "metadata": {},
     "output_type": "execute_result"
    }
   ],
   "source": [
    "gbm.fit(X_train_base, y_train)"
   ]
  },
  {
   "cell_type": "markdown",
   "metadata": {
    "id": "MtsYKJRVSqqy"
   },
   "source": [
    "## Modelo Random Forest\n",
    "\n",
    "Fueron probados 2466 sets de hiperparámetros diferentes."
   ]
  },
  {
   "cell_type": "code",
   "execution_count": 97,
   "metadata": {
    "id": "buM8avd5StJ5"
   },
   "outputs": [],
   "source": [
    "from sklearn.ensemble import RandomForestClassifier"
   ]
  },
  {
   "cell_type": "code",
   "execution_count": 98,
   "metadata": {
    "id": "bLYpbfJTS3CX"
   },
   "outputs": [],
   "source": [
    "rf = RandomForestClassifier(n_estimators = 100,\n",
    "                            ccp_alpha = 0,\n",
    "                            criterion = 'gini',\n",
    "                            max_depth = 16,\n",
    "                            max_features = 0.5,\n",
    "                            max_leaf_nodes = 260, \n",
    "                            min_samples_leaf = 1,\n",
    "                            class_weight = {1:7},\n",
    "                            n_jobs=-1, \n",
    "                            random_state=45)"
   ]
  },
  {
   "cell_type": "code",
   "execution_count": 99,
   "metadata": {
    "colab": {
     "base_uri": "https://localhost:8080/"
    },
    "id": "7a5IF19nTK48",
    "outputId": "e66c8575-3dbd-4384-b76e-eb0cc8b2e442"
   },
   "outputs": [
    {
     "data": {
      "text/plain": [
       "RandomForestClassifier(ccp_alpha=0, class_weight={1: 7}, max_depth=16,\n",
       "                       max_features=0.5, max_leaf_nodes=260, n_jobs=-1,\n",
       "                       random_state=45)"
      ]
     },
     "execution_count": 99,
     "metadata": {},
     "output_type": "execute_result"
    }
   ],
   "source": [
    "rf.fit(X_train_base, y_train)"
   ]
  },
  {
   "cell_type": "markdown",
   "metadata": {
    "id": "KnjtfOt8TmBj"
   },
   "source": [
    "# Evaluación de Modelos\n",
    "\n",
    "Teniendo los mejores modelos conseguidos entrenados podemos realizar las predicciones sobre el set de Test para evaluarlos y quedarnos con el mejor de ellos."
   ]
  },
  {
   "cell_type": "code",
   "execution_count": 100,
   "metadata": {
    "id": "6cpu4xJgUfLz"
   },
   "outputs": [],
   "source": [
    "from sklearn.metrics import confusion_matrix, f1_score"
   ]
  },
  {
   "cell_type": "code",
   "execution_count": 101,
   "metadata": {
    "id": "2O8lHr58TyJc"
   },
   "outputs": [],
   "source": [
    "# Preparamos es set de test.\n",
    "X_test_base = test_base.drop(\"Subscription\", axis = 1)\n",
    "y_test = test_base[\"Subscription\"]"
   ]
  },
  {
   "cell_type": "code",
   "execution_count": 102,
   "metadata": {
    "id": "_d8WpIcwWSsq"
   },
   "outputs": [],
   "source": [
    "# Escalamos los datos para la Regresión Logística.\n",
    "X_test_base_s = scaler.fit_transform(X_test_base)"
   ]
  },
  {
   "cell_type": "code",
   "execution_count": 103,
   "metadata": {
    "id": "AZQ-bkIhT9Mk"
   },
   "outputs": [],
   "source": [
    "# Para cada modelo se guardan los valores de F1 y Mean Profit para el set de entrenamiento y de testeo.\n",
    "models = [logistic, tree, gbm, rf]\n",
    "names = [\"Logistic\", \"Tree\", \"GradientBoosting\", \"RandomForest\"]\n",
    "\n",
    "df_results1 = pd.DataFrame(np.zeros((4,4)), columns = [\"Model\", \"Mean_Profit\", \"F1\", \"Data\"])\n",
    "df_results2 = pd.DataFrame(np.zeros((4,4)), columns = [\"Model\", \"Mean_Profit\", \"F1\", \"Data\"])\n",
    "\n",
    "for i, model in enumerate(models):\n",
    "  if i == 0:\n",
    "    y_pred = model.predict(X_test_base_s)\n",
    "    profit = profit_mean(y_test, y_pred)\n",
    "    f1 = f1_score(y_test, y_pred)\n",
    "  else:\n",
    "    y_pred = model.predict(X_test_base)\n",
    "    profit = profit_mean(y_test, y_pred)\n",
    "    f1 = f1_score(y_test, y_pred)\n",
    "\n",
    "  df_results1.iloc[i] = [names[i], profit, f1, \"Test\"]\n",
    "\n",
    "for i, model in enumerate(models):\n",
    "  if i == 0:\n",
    "    y_pred = model.predict(X_train_base_s)\n",
    "    profit = profit_mean(y_train, y_pred)\n",
    "    f1 = f1_score(y_train, y_pred)\n",
    "  else:\n",
    "    y_pred = model.predict(X_train_base)\n",
    "    profit = profit_mean(y_train, y_pred)\n",
    "    f1 = f1_score(y_train, y_pred)\n",
    "\n",
    "  df_results2.iloc[i] = [names[i], profit, f1, \"Train\"]\n",
    "\n",
    "# Se agrupan los resultados en un único dataset.\n",
    "df_results = pd.concat([df_results1, df_results2], axis = 0).reset_index(drop = True)"
   ]
  },
  {
   "cell_type": "code",
   "execution_count": 104,
   "metadata": {
    "colab": {
     "base_uri": "https://localhost:8080/",
     "height": 300
    },
    "id": "kcSUGxO2U4jP",
    "outputId": "22c21baa-d435-4744-8427-736e2968e673"
   },
   "outputs": [
    {
     "data": {
      "text/html": [
       "<div>\n",
       "<style scoped>\n",
       "    .dataframe tbody tr th:only-of-type {\n",
       "        vertical-align: middle;\n",
       "    }\n",
       "\n",
       "    .dataframe tbody tr th {\n",
       "        vertical-align: top;\n",
       "    }\n",
       "\n",
       "    .dataframe thead th {\n",
       "        text-align: right;\n",
       "    }\n",
       "</style>\n",
       "<table border=\"1\" class=\"dataframe\">\n",
       "  <thead>\n",
       "    <tr style=\"text-align: right;\">\n",
       "      <th></th>\n",
       "      <th>Model</th>\n",
       "      <th>Mean_Profit</th>\n",
       "      <th>F1</th>\n",
       "      <th>Data</th>\n",
       "    </tr>\n",
       "  </thead>\n",
       "  <tbody>\n",
       "    <tr>\n",
       "      <th>0</th>\n",
       "      <td>Logistic</td>\n",
       "      <td>15.026984</td>\n",
       "      <td>0.511628</td>\n",
       "      <td>Test</td>\n",
       "    </tr>\n",
       "    <tr>\n",
       "      <th>1</th>\n",
       "      <td>Tree</td>\n",
       "      <td>15.040255</td>\n",
       "      <td>0.517964</td>\n",
       "      <td>Test</td>\n",
       "    </tr>\n",
       "    <tr>\n",
       "      <th>2</th>\n",
       "      <td>GradientBoosting</td>\n",
       "      <td>9.183403</td>\n",
       "      <td>0.502234</td>\n",
       "      <td>Test</td>\n",
       "    </tr>\n",
       "    <tr>\n",
       "      <th>3</th>\n",
       "      <td>RandomForest</td>\n",
       "      <td>16.455808</td>\n",
       "      <td>0.552549</td>\n",
       "      <td>Test</td>\n",
       "    </tr>\n",
       "    <tr>\n",
       "      <th>4</th>\n",
       "      <td>Logistic</td>\n",
       "      <td>14.647723</td>\n",
       "      <td>0.504013</td>\n",
       "      <td>Train</td>\n",
       "    </tr>\n",
       "    <tr>\n",
       "      <th>5</th>\n",
       "      <td>Tree</td>\n",
       "      <td>15.375428</td>\n",
       "      <td>0.521660</td>\n",
       "      <td>Train</td>\n",
       "    </tr>\n",
       "    <tr>\n",
       "      <th>6</th>\n",
       "      <td>GradientBoosting</td>\n",
       "      <td>11.770821</td>\n",
       "      <td>0.577356</td>\n",
       "      <td>Train</td>\n",
       "    </tr>\n",
       "    <tr>\n",
       "      <th>7</th>\n",
       "      <td>RandomForest</td>\n",
       "      <td>19.925976</td>\n",
       "      <td>0.611368</td>\n",
       "      <td>Train</td>\n",
       "    </tr>\n",
       "  </tbody>\n",
       "</table>\n",
       "</div>"
      ],
      "text/plain": [
       "              Model  Mean_Profit        F1   Data\n",
       "0          Logistic    15.026984  0.511628   Test\n",
       "1              Tree    15.040255  0.517964   Test\n",
       "2  GradientBoosting     9.183403  0.502234   Test\n",
       "3      RandomForest    16.455808  0.552549   Test\n",
       "4          Logistic    14.647723  0.504013  Train\n",
       "5              Tree    15.375428  0.521660  Train\n",
       "6  GradientBoosting    11.770821  0.577356  Train\n",
       "7      RandomForest    19.925976  0.611368  Train"
      ]
     },
     "execution_count": 104,
     "metadata": {},
     "output_type": "execute_result"
    }
   ],
   "source": [
    "df_results"
   ]
  },
  {
   "cell_type": "markdown",
   "metadata": {
    "id": "lYtJ5nM9wINc"
   },
   "source": [
    "Vemos "
   ]
  },
  {
   "cell_type": "code",
   "execution_count": 105,
   "metadata": {
    "colab": {
     "base_uri": "https://localhost:8080/",
     "height": 497
    },
    "id": "hO_kCJcXXZ-p",
    "outputId": "09fa6622-3d4c-490d-8d53-30372619abf2"
   },
   "outputs": [
    {
     "data": {
      "image/png": "[encoded data removed]",
      "text/plain": [
       "<Figure size 720x576 with 1 Axes>"
      ]
     },
     "metadata": {
      "needs_background": "light"
     },
     "output_type": "display_data"
    }
   ],
   "source": [
    "plt.figure(figsize = (10, 8))\n",
    "sns.lineplot(data = df_results, x = \"Model\", y = \"F1\", hue = \"Data\")\n",
    "sns.scatterplot(data = df_results, x = \"Model\", y = \"F1\", hue = \"Data\")\n",
    "plt.show()"
   ]
  },
  {
   "cell_type": "code",
   "execution_count": 106,
   "metadata": {
    "colab": {
     "base_uri": "https://localhost:8080/",
     "height": 497
    },
    "id": "yNuGlaL3YPu8",
    "outputId": "b203895a-5450-4ccb-cb8f-a72c9e145617"
   },
   "outputs": [
    {
     "data": {
      "image/png": "[encoded data removed]",
      "text/plain": [
       "<Figure size 720x576 with 1 Axes>"
      ]
     },
     "metadata": {
      "needs_background": "light"
     },
     "output_type": "display_data"
    }
   ],
   "source": [
    "plt.figure(figsize = (10, 8))\n",
    "sns.lineplot(data = df_results, x = \"Model\", y = \"Mean_Profit\", hue = \"Data\")\n",
    "sns.scatterplot(data = df_results, x = \"Model\", y = \"Mean_Profit\", hue = \"Data\")\n",
    "plt.show()"
   ]
  },
  {
   "cell_type": "markdown",
   "metadata": {
    "id": "fx0nKsoXYuWb"
   },
   "source": [
    "# Modelo Cascada\n",
    "\n",
    "Todos los modelos anteriores fueron entrenados y predicen sobre los datos **base** que **no** incluyen las variables previas como *Pdays* y *Poutcome* por tener una baja cantidad de datos no faltantes. \n",
    "\n",
    "Como creemos que esa información tiene gran valor para la predicción de la entrada de un cliente en un plazo fijo para la campaña actual, pensamos probar armar un segundo modelo que corrija la predicción de probabilidad del modelo base (sin las variables de campaña anterior) usando la información de las variables previas y la predicción de dicho modelo base.\n",
    "\n",
    "Para esto primero definimos nuestro mejor modelo como el modelo base, **rf_base**.\n",
    "\n"
   ]
  },
  {
   "cell_type": "code",
   "execution_count": 107,
   "metadata": {
    "id": "OWXcHBLuZYW9"
   },
   "outputs": [],
   "source": [
    "rf_base = rf"
   ]
  },
  {
   "cell_type": "markdown",
   "metadata": {
    "id": "c-R0mJiiyOll"
   },
   "source": [
    "Generamos el set de entrenamiento del modelo **prev** entrenado con las variables previas y con la predicción del modelo base."
   ]
  },
  {
   "cell_type": "code",
   "execution_count": 108,
   "metadata": {
    "colab": {
     "base_uri": "https://localhost:8080/"
    },
    "id": "yKQfFJjmZOTB",
    "outputId": "66424409-51d6-4560-c7e7-6aed4a17f364"
   },
   "outputs": [
    {
     "name": "stdout",
     "output_type": "stream",
     "text": [
      "(6202, 6)\n"
     ]
    }
   ],
   "source": [
    "# Seleccionamos las variables previas.\n",
    "P_vars = [\"Pdays\", \"Previous\", \"Poutcome_failure\", \"Poutcome_other\", \"Poutcome_success\", \"Poutcome_unknown\"]\n",
    "\n",
    "# Agregamos la variable respuesta al dataset prev.\n",
    "train_prev = pd.concat([train[P_vars], y_train], axis=1, ignore_index=False)\n",
    "# Filtramos por las observaciones que no tengan unknown en el Poutcome (poseemos la información) y eliminamos la dummy de Poutcome_unknown.\n",
    "train_prev = train_prev[train_prev[\"Poutcome_unknown\"]==0].drop(\"Poutcome_unknown\", axis = 1)\n",
    "\n",
    "# Vemos la dimensión parcial del set de entrenamiento.\n",
    "print(train_prev.shape)\n",
    "\n",
    "# Realizamos la predicción de las observaciones del train_prev con el modelo base.\n",
    "base_pred = pd.Series(rf_base.predict_proba(X_train_base)[:,1], index=train_base.index, name=\"BasePrediction\")\n",
    "# Agregamos las predicciones al set de entrenamiento prev.\n",
    "train_prev = pd.merge(left=train_prev, \n",
    "                      right=base_pred,\n",
    "                      how='left',\n",
    "                      left_index=True,\n",
    "                      right_index=True)"
   ]
  },
  {
   "cell_type": "markdown",
   "metadata": {
    "id": "9CuqvKNYy6u4"
   },
   "source": [
    "Vemos el set de entrenamiento para el **modelo_prev**. Además de la variable respuesta tenemos las variables previas y la predicción para cada observación del modelo base. Recordamos que tenemos 6202 observaciones porque son las que la variable Poutcome no es igual a unknown."
   ]
  },
  {
   "cell_type": "code",
   "execution_count": 109,
   "metadata": {
    "colab": {
     "base_uri": "https://localhost:8080/",
     "height": 224
    },
    "id": "aGcUrA-IZhT9",
    "outputId": "38559229-072c-403d-9c7d-dd7a94fd208b"
   },
   "outputs": [
    {
     "name": "stdout",
     "output_type": "stream",
     "text": [
      "(6202, 7)\n"
     ]
    },
    {
     "data": {
      "text/html": [
       "<div>\n",
       "<style scoped>\n",
       "    .dataframe tbody tr th:only-of-type {\n",
       "        vertical-align: middle;\n",
       "    }\n",
       "\n",
       "    .dataframe tbody tr th {\n",
       "        vertical-align: top;\n",
       "    }\n",
       "\n",
       "    .dataframe thead th {\n",
       "        text-align: right;\n",
       "    }\n",
       "</style>\n",
       "<table border=\"1\" class=\"dataframe\">\n",
       "  <thead>\n",
       "    <tr style=\"text-align: right;\">\n",
       "      <th></th>\n",
       "      <th>Pdays</th>\n",
       "      <th>Previous</th>\n",
       "      <th>Poutcome_failure</th>\n",
       "      <th>Poutcome_other</th>\n",
       "      <th>Poutcome_success</th>\n",
       "      <th>Subscription</th>\n",
       "      <th>BasePrediction</th>\n",
       "    </tr>\n",
       "  </thead>\n",
       "  <tbody>\n",
       "    <tr>\n",
       "      <th>12868</th>\n",
       "      <td>200</td>\n",
       "      <td>4</td>\n",
       "      <td>1</td>\n",
       "      <td>0</td>\n",
       "      <td>0</td>\n",
       "      <td>0</td>\n",
       "      <td>0.032148</td>\n",
       "    </tr>\n",
       "    <tr>\n",
       "      <th>9890</th>\n",
       "      <td>185</td>\n",
       "      <td>1</td>\n",
       "      <td>0</td>\n",
       "      <td>0</td>\n",
       "      <td>1</td>\n",
       "      <td>1</td>\n",
       "      <td>0.879782</td>\n",
       "    </tr>\n",
       "    <tr>\n",
       "      <th>4156</th>\n",
       "      <td>272</td>\n",
       "      <td>2</td>\n",
       "      <td>1</td>\n",
       "      <td>0</td>\n",
       "      <td>0</td>\n",
       "      <td>0</td>\n",
       "      <td>0.355511</td>\n",
       "    </tr>\n",
       "    <tr>\n",
       "      <th>18063</th>\n",
       "      <td>79</td>\n",
       "      <td>3</td>\n",
       "      <td>0</td>\n",
       "      <td>0</td>\n",
       "      <td>1</td>\n",
       "      <td>0</td>\n",
       "      <td>0.075283</td>\n",
       "    </tr>\n",
       "    <tr>\n",
       "      <th>29288</th>\n",
       "      <td>119</td>\n",
       "      <td>1</td>\n",
       "      <td>1</td>\n",
       "      <td>0</td>\n",
       "      <td>0</td>\n",
       "      <td>1</td>\n",
       "      <td>0.531321</td>\n",
       "    </tr>\n",
       "  </tbody>\n",
       "</table>\n",
       "</div>"
      ],
      "text/plain": [
       "       Pdays  Previous  Poutcome_failure  Poutcome_other  Poutcome_success  \\\n",
       "12868    200         4                 1               0                 0   \n",
       "9890     185         1                 0               0                 1   \n",
       "4156     272         2                 1               0                 0   \n",
       "18063     79         3                 0               0                 1   \n",
       "29288    119         1                 1               0                 0   \n",
       "\n",
       "       Subscription  BasePrediction  \n",
       "12868             0        0.032148  \n",
       "9890              1        0.879782  \n",
       "4156              0        0.355511  \n",
       "18063             0        0.075283  \n",
       "29288             1        0.531321  "
      ]
     },
     "execution_count": 109,
     "metadata": {},
     "output_type": "execute_result"
    }
   ],
   "source": [
    "print(train_prev.shape)\n",
    "train_prev.head()"
   ]
  },
  {
   "cell_type": "code",
   "execution_count": 110,
   "metadata": {
    "id": "Mtf6sj-1Zi81"
   },
   "outputs": [],
   "source": [
    "# Preparamos los datos para entrenar al modelo.\n",
    "X_train_prev = train_prev.drop(\"Subscription\", axis = 1)\n",
    "y_train_prev = train_prev[\"Subscription\"]"
   ]
  },
  {
   "cell_type": "markdown",
   "metadata": {
    "id": "cc_FfdqmzMfL"
   },
   "source": [
    "Entrenamos al modelo previo **rf_prev**. Los hiperparámetros fueron seleccionados por 5-fold Cross-Validation al igual que el resto de los modelos."
   ]
  },
  {
   "cell_type": "code",
   "execution_count": 111,
   "metadata": {
    "id": "y3GkwIraZkv9"
   },
   "outputs": [],
   "source": [
    "rf_prev = RandomForestClassifier(n_estimators=150,\n",
    "                            criterion = 'gini', \n",
    "                            max_depth = 3,\n",
    "                            max_features = 0.5, \n",
    "                            max_leaf_nodes = 50, \n",
    "                            n_jobs = -1,\n",
    "                            random_state = 45,\n",
    "                            class_weight = {1:5}, \n",
    "                            ccp_alpha=0)"
   ]
  },
  {
   "cell_type": "code",
   "execution_count": 112,
   "metadata": {
    "colab": {
     "base_uri": "https://localhost:8080/"
    },
    "id": "nK7BVFjQZmoX",
    "outputId": "5473fafd-f945-43b9-e296-0e54a93e0877"
   },
   "outputs": [
    {
     "data": {
      "text/plain": [
       "RandomForestClassifier(ccp_alpha=0, class_weight={1: 5}, max_depth=3,\n",
       "                       max_features=0.5, max_leaf_nodes=50, n_estimators=150,\n",
       "                       n_jobs=-1, random_state=45)"
      ]
     },
     "execution_count": 112,
     "metadata": {},
     "output_type": "execute_result"
    }
   ],
   "source": [
    "rf_prev.fit(X_train_prev, y_train_prev)"
   ]
  },
  {
   "cell_type": "markdown",
   "metadata": {
    "id": "l_1qGKM1zZgj"
   },
   "source": [
    "Definimos la función para obtener la predicción usando los dos modelos. En esta función se ingresa un dataframe que posee las todas las variables explicativas (tanto base como previas) transformadas y devuelve la predicción del modelo:\n",
    "\n",
    "* Si la observación no tiene información previa la predicción es la del modelo base.\n",
    "\n",
    "* Si la observación tiene información previa se realiza la predicción de probabilidad con el modelo base y se realiza la predicción final con la predicción del modelo base + las variables previas.\n",
    "\n",
    "El argumento "
   ]
  },
  {
   "cell_type": "code",
   "execution_count": 113,
   "metadata": {
    "id": "wxKL_ALFZsTe"
   },
   "outputs": [],
   "source": [
    "def cascadePrediction(data, proba = False):\n",
    "\n",
    "  # Creamos la lista de variables previas.\n",
    "  P_vars = [\"Pdays\", \"Previous\", \"Poutcome_failure\", \"Poutcome_other\", \"Poutcome_success\", \"Poutcome_unknown\"]\n",
    "\n",
    "  # Generamos el subset base sin las variables previas.\n",
    "  # Este permite calcular la predicción de probabilidad de todas las observaciones.\n",
    "  df_base = data.drop(P_vars, axis = 1)\n",
    "\n",
    "  # Realizamos la predicción de probabilidad de todas las observaciones con el modelo base.\n",
    "  base_pred = pd.Series(rf_base.predict_proba(df_base)[:,1], index=df_base.index, name=\"BasePrediction\")\n",
    "  # Agregamos la predicción de probabilidad al dataset.\n",
    "  data = pd.merge(left=data, \n",
    "                  right=base_pred,\n",
    "                  how='left',\n",
    "                  left_index=True,\n",
    "                  right_index=True)\n",
    "\n",
    "  # Generamos el subset con variables y observaciones previas.\n",
    "  # Este permite corregir la predicción de las observaciones que tienen variables previas.\n",
    "  df_prev = data[data[\"Poutcome_unknown\"] == 0]\n",
    "  df_prev = df_prev[P_vars+[\"BasePrediction\"]].drop(\"Poutcome_unknown\", axis = 1)\n",
    "\n",
    "  # Realizamos la predicción de probabilidad con el modelo Prev y agregamos la predicción al dataframe.\n",
    "  prev_pred = pd.Series(rf_prev.predict_proba(df_prev)[:,1], index=df_prev.index, name=\"PrevPrediction\")\n",
    "  data = pd.merge(left=data, \n",
    "                  right=prev_pred,\n",
    "                  how='left',\n",
    "                  left_index=True,\n",
    "                  right_index=True)\n",
    "\n",
    "  # Creamos una función que se queda con la predicción base si la previa es nan y con la previa si esta no es nan.\n",
    "  take_prediction = lambda s1, s2: s1 if np.isnan(s2) else s2\n",
    "  # Agregamos la predicción final de probabilidad al dataframe.\n",
    "  data[\"Prediction_Proba\"] = data[\"BasePrediction\"].combine(data[\"PrevPrediction\"], take_prediction)\n",
    "  # Agregamos la predicción final con probabilidad de corte 0.5.\n",
    "  data[\"Prediction\"] = data[\"Prediction_Proba\"].apply(lambda x: 1 if x >= 0.5 else 0)\n",
    "\n",
    "  # Devolvemos la predicción según el argumento proba.\n",
    "  if proba == False:\n",
    "    return data[\"Prediction\"]\n",
    "  else:\n",
    "    return data[\"Prediction_Proba\"]"
   ]
  },
  {
   "cell_type": "markdown",
   "metadata": {
    "id": "0VoG_Fyw2Ea7"
   },
   "source": [
    "Para esta función debemos usar el dataframe transformado completo, con variables base y previas."
   ]
  },
  {
   "cell_type": "code",
   "execution_count": 114,
   "metadata": {
    "id": "MGOTnYPTadxp"
   },
   "outputs": [],
   "source": [
    "X_train = train.drop([\"Subscription\"], axis = 1)\n",
    "X_test = test.drop([\"Subscription\"], axis = 1)"
   ]
  },
  {
   "cell_type": "code",
   "execution_count": 115,
   "metadata": {
    "colab": {
     "base_uri": "https://localhost:8080/",
     "height": 363
    },
    "id": "bn19bz902hDe",
    "outputId": "a7e7e61f-989c-4fc0-f1d5-b3174322546b"
   },
   "outputs": [
    {
     "data": {
      "text/html": [
       "<div>\n",
       "<style scoped>\n",
       "    .dataframe tbody tr th:only-of-type {\n",
       "        vertical-align: middle;\n",
       "    }\n",
       "\n",
       "    .dataframe tbody tr th {\n",
       "        vertical-align: top;\n",
       "    }\n",
       "\n",
       "    .dataframe thead th {\n",
       "        text-align: right;\n",
       "    }\n",
       "</style>\n",
       "<table border=\"1\" class=\"dataframe\">\n",
       "  <thead>\n",
       "    <tr style=\"text-align: right;\">\n",
       "      <th></th>\n",
       "      <th>Model</th>\n",
       "      <th>Mean_Profit</th>\n",
       "      <th>F1</th>\n",
       "      <th>Data</th>\n",
       "    </tr>\n",
       "  </thead>\n",
       "  <tbody>\n",
       "    <tr>\n",
       "      <th>0</th>\n",
       "      <td>Logistic</td>\n",
       "      <td>15.026984</td>\n",
       "      <td>0.511628</td>\n",
       "      <td>Test</td>\n",
       "    </tr>\n",
       "    <tr>\n",
       "      <th>1</th>\n",
       "      <td>Tree</td>\n",
       "      <td>15.040255</td>\n",
       "      <td>0.517964</td>\n",
       "      <td>Test</td>\n",
       "    </tr>\n",
       "    <tr>\n",
       "      <th>2</th>\n",
       "      <td>GradientBoosting</td>\n",
       "      <td>9.183403</td>\n",
       "      <td>0.502234</td>\n",
       "      <td>Test</td>\n",
       "    </tr>\n",
       "    <tr>\n",
       "      <th>3</th>\n",
       "      <td>RandomForest</td>\n",
       "      <td>16.455808</td>\n",
       "      <td>0.552549</td>\n",
       "      <td>Test</td>\n",
       "    </tr>\n",
       "    <tr>\n",
       "      <th>4</th>\n",
       "      <td>Logistic</td>\n",
       "      <td>14.647723</td>\n",
       "      <td>0.504013</td>\n",
       "      <td>Train</td>\n",
       "    </tr>\n",
       "    <tr>\n",
       "      <th>5</th>\n",
       "      <td>Tree</td>\n",
       "      <td>15.375428</td>\n",
       "      <td>0.521660</td>\n",
       "      <td>Train</td>\n",
       "    </tr>\n",
       "    <tr>\n",
       "      <th>6</th>\n",
       "      <td>GradientBoosting</td>\n",
       "      <td>11.770821</td>\n",
       "      <td>0.577356</td>\n",
       "      <td>Train</td>\n",
       "    </tr>\n",
       "    <tr>\n",
       "      <th>7</th>\n",
       "      <td>RandomForest</td>\n",
       "      <td>19.925976</td>\n",
       "      <td>0.611368</td>\n",
       "      <td>Train</td>\n",
       "    </tr>\n",
       "    <tr>\n",
       "      <th>8</th>\n",
       "      <td>Modelo Cascada</td>\n",
       "      <td>20.607969</td>\n",
       "      <td>0.609792</td>\n",
       "      <td>Train</td>\n",
       "    </tr>\n",
       "    <tr>\n",
       "      <th>9</th>\n",
       "      <td>Modelo Cascada</td>\n",
       "      <td>17.738653</td>\n",
       "      <td>0.563899</td>\n",
       "      <td>Test</td>\n",
       "    </tr>\n",
       "  </tbody>\n",
       "</table>\n",
       "</div>"
      ],
      "text/plain": [
       "              Model  Mean_Profit        F1   Data\n",
       "0          Logistic    15.026984  0.511628   Test\n",
       "1              Tree    15.040255  0.517964   Test\n",
       "2  GradientBoosting     9.183403  0.502234   Test\n",
       "3      RandomForest    16.455808  0.552549   Test\n",
       "4          Logistic    14.647723  0.504013  Train\n",
       "5              Tree    15.375428  0.521660  Train\n",
       "6  GradientBoosting    11.770821  0.577356  Train\n",
       "7      RandomForest    19.925976  0.611368  Train\n",
       "8    Modelo Cascada    20.607969  0.609792  Train\n",
       "9    Modelo Cascada    17.738653  0.563899   Test"
      ]
     },
     "execution_count": 115,
     "metadata": {},
     "output_type": "execute_result"
    }
   ],
   "source": [
    "df_results = df_results.append({'Model':\"Modelo Cascada\", \n",
    "                                'Mean_Profit':profit_mean(y_train, cascadePrediction(X_train)),\n",
    "                                'F1':f1_score(y_train, cascadePrediction(X_train)),\n",
    "                                'Data':\"Train\"}, ignore_index = True)\n",
    "\n",
    "df_results = df_results.append({'Model':\"Modelo Cascada\", \n",
    "                                'Mean_Profit':profit_mean(y_test, cascadePrediction(X_test)),\n",
    "                                'F1':f1_score(y_test, cascadePrediction(X_test)),\n",
    "                                'Data':\"Test\"}, ignore_index = True)\n",
    "df_results"
   ]
  },
  {
   "cell_type": "markdown",
   "metadata": {
    "id": "uvlt6qOL8BdI"
   },
   "source": [
    "Vemos la ventaja de incluir la corrección de la probabilidad del modelo base."
   ]
  },
  {
   "cell_type": "code",
   "execution_count": 116,
   "metadata": {
    "colab": {
     "base_uri": "https://localhost:8080/",
     "height": 497
    },
    "id": "sbczgulw4C_7",
    "outputId": "d5d91c84-24e2-4899-dba2-da6585f7be1a"
   },
   "outputs": [
    {
     "data": {
      "image/png": "[encoded data removed]",
      "text/plain": [
       "<Figure size 720x576 with 1 Axes>"
      ]
     },
     "metadata": {
      "needs_background": "light"
     },
     "output_type": "display_data"
    }
   ],
   "source": [
    "plt.figure(figsize = (10, 8))\n",
    "sns.lineplot(data = df_results, x = \"Model\", y = \"F1\", hue = \"Data\")\n",
    "sns.scatterplot(data = df_results, x = \"Model\", y = \"F1\", hue = \"Data\")\n",
    "plt.show()"
   ]
  },
  {
   "cell_type": "code",
   "execution_count": 117,
   "metadata": {
    "colab": {
     "base_uri": "https://localhost:8080/",
     "height": 497
    },
    "id": "mvJTtANt4GRh",
    "outputId": "847d1876-4174-493f-8f31-dcf289420a1a"
   },
   "outputs": [
    {
     "data": {
      "image/png": "[encoded data removed]",
      "text/plain": [
       "<Figure size 720x576 with 1 Axes>"
      ]
     },
     "metadata": {
      "needs_background": "light"
     },
     "output_type": "display_data"
    }
   ],
   "source": [
    "plt.figure(figsize = (10, 8))\n",
    "sns.lineplot(data = df_results, x = \"Model\", y = \"Mean_Profit\", hue = \"Data\")\n",
    "sns.scatterplot(data = df_results, x = \"Model\", y = \"Mean_Profit\", hue = \"Data\")\n",
    "plt.show()"
   ]
  },
  {
   "cell_type": "markdown",
   "metadata": {
    "id": "Na_ehdqW43eQ"
   },
   "source": [
    "Podemos ver la mejora de la inclusión del modelo prev en la predicción frente al uso únicamente del modelo base."
   ]
  },
  {
   "cell_type": "code",
   "execution_count": 118,
   "metadata": {
    "colab": {
     "base_uri": "https://localhost:8080/"
    },
    "id": "2iG9IZeRZ4tu",
    "outputId": "d7d31fbe-45db-434f-a747-41f8189a460b"
   },
   "outputs": [
    {
     "name": "stdout",
     "output_type": "stream",
     "text": [
      "16.45580819251526\n",
      "185999.99999999997\n",
      "[[8521 1460]\n",
      " [ 260 1062]]\n"
     ]
    }
   ],
   "source": [
    "print(profit_mean(y_test, rf_base.predict(X_test_base)))\n",
    "print(profit_mean(y_test, rf_base.predict(X_test_base))*len(y_test))\n",
    "print(confusion_matrix(y_test, rf_base.predict(X_test_base)))"
   ]
  },
  {
   "cell_type": "code",
   "execution_count": 119,
   "metadata": {
    "colab": {
     "base_uri": "https://localhost:8080/"
    },
    "id": "EUAbKBnOaPUY",
    "outputId": "c74a51d3-028e-4eaf-9c07-a78661f80fb2"
   },
   "outputs": [
    {
     "name": "stdout",
     "output_type": "stream",
     "text": [
      "17.738653454835\n",
      "200500.0\n",
      "[[8415 1566]\n",
      " [ 188 1134]]\n"
     ]
    }
   ],
   "source": [
    "print(profit_mean(y_test, cascadePrediction(X_test)))\n",
    "print(profit_mean(y_test, cascadePrediction(X_test))*len(y_test))\n",
    "print(confusion_matrix(y_test, cascadePrediction(X_test)))"
   ]
  },
  {
   "cell_type": "markdown",
   "metadata": {
    "id": "1Yw-TPmT0FAm"
   },
   "source": [
    "# Predicción con Modelo Cascada\n",
    "\n",
    "Para realizar predicciones de nuevas observaciones vamos a entrenar los modelos con la totalidad de los datos brindados para el TP.\n",
    "\n",
    "\n",
    "\n"
   ]
  },
  {
   "cell_type": "code",
   "execution_count": 120,
   "metadata": {
    "id": "-P3jFUF8_NnO"
   },
   "outputs": [],
   "source": [
    "# Seleccionamos las variables previas.\n",
    "P_vars = [\"Pdays\", \"Previous\", \"Poutcome_failure\", \"Poutcome_other\", \"Poutcome_success\", \"Poutcome_unknown\"]\n",
    "\n",
    "X_train_full_base = data_model.drop(P_vars+[\"Subscription\"], axis = 1)\n",
    "y_train_full = data_model[\"Subscription\"]"
   ]
  },
  {
   "cell_type": "code",
   "execution_count": 121,
   "metadata": {
    "id": "WOXwJpOm-vIy"
   },
   "outputs": [],
   "source": [
    "rf_base_full = RandomForestClassifier(n_estimators = 100,\n",
    "                            ccp_alpha = 0,\n",
    "                            criterion = 'gini',\n",
    "                            max_depth = 16,\n",
    "                            max_features = 0.5,\n",
    "                            max_leaf_nodes = 260, \n",
    "                            min_samples_leaf = 1,\n",
    "                            class_weight = {1:7},\n",
    "                            n_jobs=-1, \n",
    "                            random_state=45)"
   ]
  },
  {
   "cell_type": "code",
   "execution_count": 122,
   "metadata": {
    "colab": {
     "base_uri": "https://localhost:8080/"
    },
    "id": "nmbZ1g6D_yAW",
    "outputId": "5eac9e10-c604-4171-e93a-a342359a1cc7"
   },
   "outputs": [
    {
     "data": {
      "text/plain": [
       "RandomForestClassifier(ccp_alpha=0, class_weight={1: 7}, max_depth=16,\n",
       "                       max_features=0.5, max_leaf_nodes=260, n_jobs=-1,\n",
       "                       random_state=45)"
      ]
     },
     "execution_count": 122,
     "metadata": {},
     "output_type": "execute_result"
    }
   ],
   "source": [
    "rf_base_full.fit(X_train_full_base, y_train_full)"
   ]
  },
  {
   "cell_type": "code",
   "execution_count": 123,
   "metadata": {
    "colab": {
     "base_uri": "https://localhost:8080/"
    },
    "id": "1aFoxlbEAEK1",
    "outputId": "c2914f03-beaf-4b38-f068-9817d9015b6f"
   },
   "outputs": [
    {
     "name": "stdout",
     "output_type": "stream",
     "text": [
      "(8252, 6)\n"
     ]
    }
   ],
   "source": [
    "# Agregamos la variable respuesta al dataset prev.\n",
    "train_full_prev = pd.concat([data_model[P_vars], y_train_full], axis=1, ignore_index=False)\n",
    "# Filtramos por las observaciones que no tengan unknown en el Poutcome (poseemos la información) y eliminamos la dummy de Poutcome_unknown.\n",
    "train_full_prev = train_full_prev[train_full_prev[\"Poutcome_unknown\"]==0].drop(\"Poutcome_unknown\", axis = 1)\n",
    "\n",
    "# Vemos la dimensión parcial del set de entrenamiento.\n",
    "print(train_full_prev.shape)\n",
    "\n",
    "# Realizamos la predicción de las observaciones del train_prev con el modelo base.\n",
    "base_pred_full = pd.Series(rf_base_full.predict_proba(X_train_full_base)[:,1], index=X_train_full_base.index, name=\"BasePrediction\")\n",
    "# Agregamos las predicciones al set de entrenamiento prev.\n",
    "train_full_prev = pd.merge(left=train_full_prev, \n",
    "                      right=base_pred_full,\n",
    "                      how='left',\n",
    "                      left_index=True,\n",
    "                      right_index=True)"
   ]
  },
  {
   "cell_type": "code",
   "execution_count": 124,
   "metadata": {
    "colab": {
     "base_uri": "https://localhost:8080/",
     "height": 224
    },
    "id": "ceTxhpXzBIwh",
    "outputId": "4405bf3d-050a-426d-eea3-1f1ab1d15e03"
   },
   "outputs": [
    {
     "name": "stdout",
     "output_type": "stream",
     "text": [
      "(8252, 7)\n"
     ]
    },
    {
     "data": {
      "text/html": [
       "<div>\n",
       "<style scoped>\n",
       "    .dataframe tbody tr th:only-of-type {\n",
       "        vertical-align: middle;\n",
       "    }\n",
       "\n",
       "    .dataframe tbody tr th {\n",
       "        vertical-align: top;\n",
       "    }\n",
       "\n",
       "    .dataframe thead th {\n",
       "        text-align: right;\n",
       "    }\n",
       "</style>\n",
       "<table border=\"1\" class=\"dataframe\">\n",
       "  <thead>\n",
       "    <tr style=\"text-align: right;\">\n",
       "      <th></th>\n",
       "      <th>Pdays</th>\n",
       "      <th>Previous</th>\n",
       "      <th>Poutcome_failure</th>\n",
       "      <th>Poutcome_other</th>\n",
       "      <th>Poutcome_success</th>\n",
       "      <th>Subscription</th>\n",
       "      <th>BasePrediction</th>\n",
       "    </tr>\n",
       "  </thead>\n",
       "  <tbody>\n",
       "    <tr>\n",
       "      <th>0</th>\n",
       "      <td>92</td>\n",
       "      <td>3</td>\n",
       "      <td>0</td>\n",
       "      <td>0</td>\n",
       "      <td>1</td>\n",
       "      <td>1</td>\n",
       "      <td>0.473005</td>\n",
       "    </tr>\n",
       "    <tr>\n",
       "      <th>6</th>\n",
       "      <td>270</td>\n",
       "      <td>3</td>\n",
       "      <td>1</td>\n",
       "      <td>0</td>\n",
       "      <td>0</td>\n",
       "      <td>1</td>\n",
       "      <td>0.878511</td>\n",
       "    </tr>\n",
       "    <tr>\n",
       "      <th>9</th>\n",
       "      <td>346</td>\n",
       "      <td>3</td>\n",
       "      <td>1</td>\n",
       "      <td>0</td>\n",
       "      <td>0</td>\n",
       "      <td>0</td>\n",
       "      <td>0.075513</td>\n",
       "    </tr>\n",
       "    <tr>\n",
       "      <th>15</th>\n",
       "      <td>178</td>\n",
       "      <td>1</td>\n",
       "      <td>0</td>\n",
       "      <td>0</td>\n",
       "      <td>1</td>\n",
       "      <td>0</td>\n",
       "      <td>0.076155</td>\n",
       "    </tr>\n",
       "    <tr>\n",
       "      <th>17</th>\n",
       "      <td>92</td>\n",
       "      <td>2</td>\n",
       "      <td>0</td>\n",
       "      <td>0</td>\n",
       "      <td>1</td>\n",
       "      <td>1</td>\n",
       "      <td>0.750365</td>\n",
       "    </tr>\n",
       "  </tbody>\n",
       "</table>\n",
       "</div>"
      ],
      "text/plain": [
       "    Pdays  Previous  Poutcome_failure  Poutcome_other  Poutcome_success  \\\n",
       "0      92         3                 0               0                 1   \n",
       "6     270         3                 1               0                 0   \n",
       "9     346         3                 1               0                 0   \n",
       "15    178         1                 0               0                 1   \n",
       "17     92         2                 0               0                 1   \n",
       "\n",
       "    Subscription  BasePrediction  \n",
       "0              1        0.473005  \n",
       "6              1        0.878511  \n",
       "9              0        0.075513  \n",
       "15             0        0.076155  \n",
       "17             1        0.750365  "
      ]
     },
     "execution_count": 124,
     "metadata": {},
     "output_type": "execute_result"
    }
   ],
   "source": [
    "print(train_full_prev.shape)\n",
    "train_full_prev.head()"
   ]
  },
  {
   "cell_type": "code",
   "execution_count": 125,
   "metadata": {
    "id": "pcxLW4wZBS2D"
   },
   "outputs": [],
   "source": [
    "# Preparamos los datos para entrenar al modelo.\n",
    "X_train_full_prev = train_full_prev.drop(\"Subscription\", axis = 1)\n",
    "y_train_full_prev = train_full_prev[\"Subscription\"]"
   ]
  },
  {
   "cell_type": "code",
   "execution_count": 126,
   "metadata": {
    "id": "PODzNh4KCEXP"
   },
   "outputs": [],
   "source": [
    "rf_prev_full = RandomForestClassifier(n_estimators=150,\n",
    "                            criterion = 'gini', \n",
    "                            max_depth = 3,\n",
    "                            max_features = 0.5, \n",
    "                            max_leaf_nodes = 50, \n",
    "                            n_jobs = -1,\n",
    "                            random_state = 45,\n",
    "                            class_weight = {1:5}, \n",
    "                            ccp_alpha=0)"
   ]
  },
  {
   "cell_type": "code",
   "execution_count": 127,
   "metadata": {
    "colab": {
     "base_uri": "https://localhost:8080/"
    },
    "id": "Cf4VpsysCGZ1",
    "outputId": "7d8066df-cb30-4fe4-94e8-a8b40813c172"
   },
   "outputs": [
    {
     "data": {
      "text/plain": [
       "RandomForestClassifier(ccp_alpha=0, class_weight={1: 5}, max_depth=3,\n",
       "                       max_features=0.5, max_leaf_nodes=50, n_estimators=150,\n",
       "                       n_jobs=-1, random_state=45)"
      ]
     },
     "execution_count": 127,
     "metadata": {},
     "output_type": "execute_result"
    }
   ],
   "source": [
    "rf_prev_full.fit(X_train_full_prev, y_train_full_prev)"
   ]
  },
  {
   "cell_type": "markdown",
   "metadata": {
    "id": "HviDb11ECYN0"
   },
   "source": [
    "Esta es la misma función desarrollada previamente pero la predicción se realiza con los modelos entrenados con todos los datos. Permite devolver la predicción de los modelos conjuntos de manera discreta o en probabilidad."
   ]
  },
  {
   "cell_type": "code",
   "execution_count": 128,
   "metadata": {
    "id": "TJluAZzYCPpU"
   },
   "outputs": [],
   "source": [
    "def cascadePredictionFull(data, proba = False):\n",
    "\n",
    "  # Creamos la lista de variables previas.\n",
    "  P_vars = [\"Pdays\", \"Previous\", \"Poutcome_failure\", \"Poutcome_other\", \"Poutcome_success\", \"Poutcome_unknown\"]\n",
    "\n",
    "  # Generamos el subset base sin las variables previas.\n",
    "  # Este permite calcular la predicción de probabilidad de todas las observaciones.\n",
    "  df_base = data.drop(P_vars, axis = 1)\n",
    "\n",
    "  # Realizamos la predicción de probabilidad de todas las observaciones con el modelo base.\n",
    "  base_pred = pd.Series(rf_base_full.predict_proba(df_base)[:,1], index=df_base.index, name=\"BasePrediction\")\n",
    "  # Agregamos la predicción de probabilidad al dataset.\n",
    "  data = pd.merge(left=data, \n",
    "                  right=base_pred,\n",
    "                  how='left',\n",
    "                  left_index=True,\n",
    "                  right_index=True)\n",
    "\n",
    "  # Generamos el subset con variables y observaciones previas.\n",
    "  # Este permite corregir la predicción de las observaciones que tienen variables previas.\n",
    "  df_prev = data[data[\"Poutcome_unknown\"] == 0]\n",
    "  df_prev = df_prev[P_vars+[\"BasePrediction\"]].drop(\"Poutcome_unknown\", axis = 1)\n",
    "\n",
    "  # Realizamos la predicción de probabilidad con el modelo Prev y agregamos la predicción al dataframe.\n",
    "  prev_pred = pd.Series(rf_prev_full.predict_proba(df_prev)[:,1], index=df_prev.index, name=\"PrevPrediction\")\n",
    "  data = pd.merge(left=data, \n",
    "                  right=prev_pred,\n",
    "                  how='left',\n",
    "                  left_index=True,\n",
    "                  right_index=True)\n",
    "\n",
    "  # Creamos una función que se queda con la predicción base si la previa es nan y con la previa si esta no es nan.\n",
    "  take_prediction = lambda s1, s2: s1 if np.isnan(s2) else s2\n",
    "  # Agregamos la predicción final de probabilidad al dataframe.\n",
    "  data[\"Prediction_Proba\"] = data[\"BasePrediction\"].combine(data[\"PrevPrediction\"], take_prediction)\n",
    "  # Agregamos la predicción final con probabilidad de corte 0.5.\n",
    "  data[\"Prediction\"] = data[\"Prediction_Proba\"].apply(lambda x: 1 if x >= 0.5 else 0)\n",
    "\n",
    "  # Devolvemos la predicción según el argumento proba.\n",
    "  if proba == False:\n",
    "    return data[\"Prediction\"]\n",
    "  else:\n",
    "    return data[\"Prediction_Proba\"]"
   ]
  },
  {
   "cell_type": "markdown",
   "metadata": {
    "id": "rYAjh9DyF9Tg"
   },
   "source": [
    "La siguiente función permite pasar un dataset entero a predecir (incluyendo la variable respuesta) y realizará las transformaciones necesarias para poder utilizarse en los modelos entrenados."
   ]
  },
  {
   "cell_type": "code",
   "execution_count": 129,
   "metadata": {
    "id": "9kxgj4CzCo2O"
   },
   "outputs": [],
   "source": [
    "def prepareDataPrediction(data):\n",
    "\n",
    "  # Corregimos las clases de la variable respuesta.\n",
    "  data[\"Subscription\"] = data['Subscription'].map({2:1, 1:0})\n",
    "\n",
    "  # Creamos una variable dummy para mayores de 60 años.\n",
    "  data[\"Age_60\"] = data[\"Age\"] > 60\n",
    "\n",
    "  # Agrupamos trabajos menos frecuentes en una categoría \"otros\"\n",
    "  trabajos_otros = ['self-employed','entrepreneur','unemployed','housemaid','student','unknown']\n",
    "  data[\"Job\"] = data[\"Job\"].mask(data[\"Job\"].isin(trabajos_otros), \"others\")\n",
    "\n",
    "  # Eliminamos la variable Credit por tener muy baja frecuencia.\n",
    "  data.drop(\"Credit\",axis=1, inplace=True)\n",
    "\n",
    "  # Dividimos la variable de balance en negativa como categórica y la transformación logarítmica en caso de que el balance sea positivo.\n",
    "  data[\"Balance_neg_cat\"] = data[\"Balance (euros)\"] < 0\n",
    "  data[\"Balance_pos_log\"] = np.log10(data[\"Balance (euros)\"].mask(data[\"Balance (euros)\"]<=0, 0.01))\n",
    "  data.drop(\"Balance (euros)\", axis=1, inplace=True)\n",
    "\n",
    "\n",
    "  # Eliminamos la variable contacto por la gran cantidad de valores faltantes.\n",
    "  data.drop(\"Contact\", axis = 1, inplace = True)\n",
    "\n",
    "  # Reemplazamos la variable de último contacto en dias por 4 intervalos representando las semanas del mes.\n",
    "  data[\"Last Contact Day Cat\"] = pd.cut(data[\"Last Contact Day\"], bins=[0, 7, 14, 21, 31])\n",
    "  data.drop(\"Last Contact Day\", axis =1, inplace=True)\n",
    "\n",
    "  # Agrupamos los meses de baja frecuencia en una categoría nueva.\n",
    "  other_months = [\"oct\", \"sep\", \"mar\", \"dec\"]\n",
    "  data[\"Last Contact Month\"] = data[\"Last Contact Month\"].mask(data[\"Last Contact Month\"].isin(other_months), 'other')\n",
    "\n",
    "  # Le aplicamos la transformación logarítmica a la duración del último contacto.\n",
    "  data[\"Last Contact Duration Log\"] = np.log10(data[\"Last Contact Duration\"]+0.01)\n",
    "  data.drop(\"Last Contact Duration\", axis = 1, inplace = True)\n",
    "\n",
    "  # Le aplicamos la transformación logarítmica a la cantidad de contactos de la campaña.\n",
    "  data[\"Campaign Log\"] = np.log10(data[\"Campaign\"]+0.01)\n",
    "  data.drop(\"Campaign\", axis = 1, inplace = True)\n",
    "\n",
    "  # Transformamos la columna con el valor aprendido por el imputador.\n",
    "  data[\"Education\"] = imp.transform(data[\"Education\"].values.reshape(-1,1)).ravel()\n",
    "\n",
    "  # Variables categóricas de múltiples clases.\n",
    "  cat_vars = [\"Job\", \"Marital Status\", \"Education\", \"Last Contact Month\", \"Last Contact Day Cat\"]\n",
    "\n",
    "  for var in cat_vars:\n",
    "    data = pd.concat([data, pd.get_dummies(data[var], prefix=var)], axis=1)\n",
    "    data.drop(var, axis=1, inplace=True)\n",
    "\n",
    "\n",
    "  # Variables categóricas binarias.\n",
    "  cat_vars2 = [\"Housing Loan\", \"Personal Loan\", \"Age_60\", \"Balance_neg_cat\"]\n",
    "\n",
    "  for var in cat_vars2:\n",
    "    data = pd.concat([data, pd.get_dummies(data[var], prefix=var, drop_first=True)], axis=1)\n",
    "    data.drop(var, axis=1, inplace=True)\n",
    "\n",
    "  # Generamos las variables dummies de la variable Poutcome.\n",
    "  data = pd.concat([data, pd.get_dummies(data[\"Poutcome\"], prefix=\"Poutcome\")], axis = 1)\n",
    "  data.drop(\"Poutcome\", axis=1,  inplace=True)\n",
    "\n",
    "  return data"
   ]
  },
  {
   "cell_type": "markdown",
   "metadata": {
    "id": "V6caKY-jGIwM"
   },
   "source": [
    "Si queremos predecir la respuesta para un nuevo dataframe reemplazamos la ruta en **data_new**, preparamos los datos, los dividimos en *X* y en *y* y finalmente podemos realizar las predicciones con la función armada."
   ]
  },
  {
   "cell_type": "code",
   "execution_count": 130,
   "metadata": {
    "id": "8XILVLzeFQgj"
   },
   "outputs": [],
   "source": [
    "data_new = pd.read_csv(\"data/Bank Marketing.csv\", sep=';')"
   ]
  },
  {
   "cell_type": "code",
   "execution_count": 131,
   "metadata": {
    "id": "UHX6gsrRFRrQ"
   },
   "outputs": [],
   "source": [
    "data_new = prepareDataPrediction(data_new)"
   ]
  },
  {
   "cell_type": "code",
   "execution_count": 132,
   "metadata": {
    "colab": {
     "base_uri": "https://localhost:8080/",
     "height": 296
    },
    "id": "EZzJfa6MFVIN",
    "outputId": "1a595095-0ca0-4af6-fd9f-777ff1ea8809"
   },
   "outputs": [
    {
     "data": {
      "text/html": [
       "<div>\n",
       "<style scoped>\n",
       "    .dataframe tbody tr th:only-of-type {\n",
       "        vertical-align: middle;\n",
       "    }\n",
       "\n",
       "    .dataframe tbody tr th {\n",
       "        vertical-align: top;\n",
       "    }\n",
       "\n",
       "    .dataframe thead th {\n",
       "        text-align: right;\n",
       "    }\n",
       "</style>\n",
       "<table border=\"1\" class=\"dataframe\">\n",
       "  <thead>\n",
       "    <tr style=\"text-align: right;\">\n",
       "      <th></th>\n",
       "      <th>Age</th>\n",
       "      <th>Pdays</th>\n",
       "      <th>Previous</th>\n",
       "      <th>Subscription</th>\n",
       "      <th>Balance_pos_log</th>\n",
       "      <th>Last Contact Duration Log</th>\n",
       "      <th>Campaign Log</th>\n",
       "      <th>Job_admin.</th>\n",
       "      <th>Job_blue-collar</th>\n",
       "      <th>Job_management</th>\n",
       "      <th>...</th>\n",
       "      <th>Last Contact Day Cat_(14, 21]</th>\n",
       "      <th>Last Contact Day Cat_(21, 31]</th>\n",
       "      <th>Housing Loan_yes</th>\n",
       "      <th>Personal Loan_yes</th>\n",
       "      <th>Age_60_True</th>\n",
       "      <th>Balance_neg_cat_True</th>\n",
       "      <th>Poutcome_failure</th>\n",
       "      <th>Poutcome_other</th>\n",
       "      <th>Poutcome_success</th>\n",
       "      <th>Poutcome_unknown</th>\n",
       "    </tr>\n",
       "  </thead>\n",
       "  <tbody>\n",
       "    <tr>\n",
       "      <th>0</th>\n",
       "      <td>58</td>\n",
       "      <td>-1</td>\n",
       "      <td>0</td>\n",
       "      <td>0</td>\n",
       "      <td>3.331022</td>\n",
       "      <td>2.416657</td>\n",
       "      <td>0.004321</td>\n",
       "      <td>0</td>\n",
       "      <td>0</td>\n",
       "      <td>1</td>\n",
       "      <td>...</td>\n",
       "      <td>0</td>\n",
       "      <td>0</td>\n",
       "      <td>1</td>\n",
       "      <td>0</td>\n",
       "      <td>0</td>\n",
       "      <td>0</td>\n",
       "      <td>0</td>\n",
       "      <td>0</td>\n",
       "      <td>0</td>\n",
       "      <td>1</td>\n",
       "    </tr>\n",
       "    <tr>\n",
       "      <th>1</th>\n",
       "      <td>44</td>\n",
       "      <td>-1</td>\n",
       "      <td>0</td>\n",
       "      <td>0</td>\n",
       "      <td>1.462398</td>\n",
       "      <td>2.179006</td>\n",
       "      <td>0.004321</td>\n",
       "      <td>0</td>\n",
       "      <td>0</td>\n",
       "      <td>0</td>\n",
       "      <td>...</td>\n",
       "      <td>0</td>\n",
       "      <td>0</td>\n",
       "      <td>1</td>\n",
       "      <td>0</td>\n",
       "      <td>0</td>\n",
       "      <td>0</td>\n",
       "      <td>0</td>\n",
       "      <td>0</td>\n",
       "      <td>0</td>\n",
       "      <td>1</td>\n",
       "    </tr>\n",
       "    <tr>\n",
       "      <th>2</th>\n",
       "      <td>33</td>\n",
       "      <td>-1</td>\n",
       "      <td>0</td>\n",
       "      <td>0</td>\n",
       "      <td>0.301030</td>\n",
       "      <td>1.880871</td>\n",
       "      <td>0.004321</td>\n",
       "      <td>0</td>\n",
       "      <td>0</td>\n",
       "      <td>0</td>\n",
       "      <td>...</td>\n",
       "      <td>0</td>\n",
       "      <td>0</td>\n",
       "      <td>1</td>\n",
       "      <td>1</td>\n",
       "      <td>0</td>\n",
       "      <td>0</td>\n",
       "      <td>0</td>\n",
       "      <td>0</td>\n",
       "      <td>0</td>\n",
       "      <td>1</td>\n",
       "    </tr>\n",
       "    <tr>\n",
       "      <th>3</th>\n",
       "      <td>47</td>\n",
       "      <td>-1</td>\n",
       "      <td>0</td>\n",
       "      <td>0</td>\n",
       "      <td>3.177825</td>\n",
       "      <td>1.963835</td>\n",
       "      <td>0.004321</td>\n",
       "      <td>0</td>\n",
       "      <td>1</td>\n",
       "      <td>0</td>\n",
       "      <td>...</td>\n",
       "      <td>0</td>\n",
       "      <td>0</td>\n",
       "      <td>1</td>\n",
       "      <td>0</td>\n",
       "      <td>0</td>\n",
       "      <td>0</td>\n",
       "      <td>0</td>\n",
       "      <td>0</td>\n",
       "      <td>0</td>\n",
       "      <td>1</td>\n",
       "    </tr>\n",
       "    <tr>\n",
       "      <th>4</th>\n",
       "      <td>33</td>\n",
       "      <td>-1</td>\n",
       "      <td>0</td>\n",
       "      <td>0</td>\n",
       "      <td>0.000000</td>\n",
       "      <td>2.296687</td>\n",
       "      <td>0.004321</td>\n",
       "      <td>0</td>\n",
       "      <td>0</td>\n",
       "      <td>0</td>\n",
       "      <td>...</td>\n",
       "      <td>0</td>\n",
       "      <td>0</td>\n",
       "      <td>0</td>\n",
       "      <td>0</td>\n",
       "      <td>0</td>\n",
       "      <td>0</td>\n",
       "      <td>0</td>\n",
       "      <td>0</td>\n",
       "      <td>0</td>\n",
       "      <td>1</td>\n",
       "    </tr>\n",
       "  </tbody>\n",
       "</table>\n",
       "<p>5 rows × 41 columns</p>\n",
       "</div>"
      ],
      "text/plain": [
       "   Age  Pdays  Previous  Subscription  Balance_pos_log  \\\n",
       "0   58     -1         0             0         3.331022   \n",
       "1   44     -1         0             0         1.462398   \n",
       "2   33     -1         0             0         0.301030   \n",
       "3   47     -1         0             0         3.177825   \n",
       "4   33     -1         0             0         0.000000   \n",
       "\n",
       "   Last Contact Duration Log  Campaign Log  Job_admin.  Job_blue-collar  \\\n",
       "0                   2.416657      0.004321           0                0   \n",
       "1                   2.179006      0.004321           0                0   \n",
       "2                   1.880871      0.004321           0                0   \n",
       "3                   1.963835      0.004321           0                1   \n",
       "4                   2.296687      0.004321           0                0   \n",
       "\n",
       "   Job_management  ...  Last Contact Day Cat_(14, 21]  \\\n",
       "0               1  ...                              0   \n",
       "1               0  ...                              0   \n",
       "2               0  ...                              0   \n",
       "3               0  ...                              0   \n",
       "4               0  ...                              0   \n",
       "\n",
       "   Last Contact Day Cat_(21, 31]  Housing Loan_yes  Personal Loan_yes  \\\n",
       "0                              0                 1                  0   \n",
       "1                              0                 1                  0   \n",
       "2                              0                 1                  1   \n",
       "3                              0                 1                  0   \n",
       "4                              0                 0                  0   \n",
       "\n",
       "   Age_60_True  Balance_neg_cat_True  Poutcome_failure  Poutcome_other  \\\n",
       "0            0                     0                 0               0   \n",
       "1            0                     0                 0               0   \n",
       "2            0                     0                 0               0   \n",
       "3            0                     0                 0               0   \n",
       "4            0                     0                 0               0   \n",
       "\n",
       "   Poutcome_success  Poutcome_unknown  \n",
       "0                 0                 1  \n",
       "1                 0                 1  \n",
       "2                 0                 1  \n",
       "3                 0                 1  \n",
       "4                 0                 1  \n",
       "\n",
       "[5 rows x 41 columns]"
      ]
     },
     "execution_count": 132,
     "metadata": {},
     "output_type": "execute_result"
    }
   ],
   "source": [
    "data_new.head()"
   ]
  },
  {
   "cell_type": "code",
   "execution_count": 133,
   "metadata": {
    "id": "vl9nvMrtFhWC"
   },
   "outputs": [],
   "source": [
    "X_data_new = data_new.drop(\"Subscription\", axis = 1)\n",
    "y_data_new = data_new[\"Subscription\"]"
   ]
  },
  {
   "cell_type": "code",
   "execution_count": 134,
   "metadata": {
    "colab": {
     "base_uri": "https://localhost:8080/"
    },
    "id": "GL9IlozCFa9V",
    "outputId": "886afa60-59ea-470e-c969-808f6ee36251"
   },
   "outputs": [
    {
     "data": {
      "text/plain": [
       "0        0\n",
       "1        0\n",
       "2        0\n",
       "3        0\n",
       "4        0\n",
       "        ..\n",
       "45206    1\n",
       "45207    1\n",
       "45208    1\n",
       "45209    1\n",
       "45210    1\n",
       "Name: Prediction, Length: 45211, dtype: int64"
      ]
     },
     "execution_count": 134,
     "metadata": {},
     "output_type": "execute_result"
    }
   ],
   "source": [
    "cascadePrediction(X_data_new, proba = False)"
   ]
  },
  {
   "cell_type": "code",
   "execution_count": 135,
   "metadata": {
    "colab": {
     "base_uri": "https://localhost:8080/"
    },
    "id": "LY1-cwBiFsUY",
    "outputId": "da2a3b90-c46b-4f94-b77e-bad5baa159ac"
   },
   "outputs": [
    {
     "data": {
      "text/plain": [
       "0        0.125024\n",
       "1        0.029846\n",
       "2        0.022447\n",
       "3        0.020864\n",
       "4        0.269798\n",
       "           ...   \n",
       "45206    0.883602\n",
       "45207    0.876807\n",
       "45208    0.940333\n",
       "45209    0.538258\n",
       "45210    0.667826\n",
       "Name: Prediction_Proba, Length: 45211, dtype: float64"
      ]
     },
     "execution_count": 135,
     "metadata": {},
     "output_type": "execute_result"
    }
   ],
   "source": [
    "cascadePrediction(X_data_new, proba = True)"
   ]
  },
  {
   "cell_type": "code",
   "execution_count": null,
   "metadata": {},
   "outputs": [],
   "source": [
    "profit_mean(y_)"
   ]
  }
 ],
 "metadata": {
  "colab": {
   "collapsed_sections": [],
   "name": "NotebookResumen.ipynb",
   "provenance": []
  },
  "kernelspec": {
   "display_name": "Python 3",
   "language": "python",
   "name": "python3"
  },
  "language_info": {
   "codemirror_mode": {
    "name": "ipython",
    "version": 3
   },
   "file_extension": ".py",
   "mimetype": "text/x-python",
   "name": "python",
   "nbconvert_exporter": "python",
   "pygments_lexer": "ipython3",
   "version": "3.8.5"
  }
 },
 "nbformat": 4,
 "nbformat_minor": 1
}
